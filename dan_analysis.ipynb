{
 "cells": [
  {
   "cell_type": "code",
   "execution_count": 214,
   "id": "b165644c-65d5-4dfc-9090-b0588b141086",
   "metadata": {},
   "outputs": [],
   "source": [
    "import pandas as pd\n",
    "import numpy as np\n",
    "from scipy import stats\n",
    "from sklearn.preprocessing import OneHotEncoder\n",
    "from sklearn.compose import make_column_transformer\n",
    "from sklearn.compose import ColumnTransformer\n",
    "from sklearn.preprocessing import StandardScaler\n",
    "from sklearn.linear_model import LinearRegression, LassoCV, RidgeCV, Lasso, Ridge\n",
    "from sklearn.compose import TransformedTargetRegressor\n",
    "from sklearn.model_selection import train_test_split\n",
    "from sklearn.pipeline import Pipeline\n",
    "from sklearn.model_selection import GridSearchCV\n",
    "from sklearn.preprocessing import PolynomialFeatures\n",
    "from sklearn.ensemble import RandomForestRegressor"
   ]
  },
  {
   "cell_type": "code",
   "execution_count": 2,
   "id": "37afec1a-8d75-4fe3-b6c5-12de654f1813",
   "metadata": {},
   "outputs": [],
   "source": [
    "df18to21 = pd.read_csv('df18to21_cleaned.csv')"
   ]
  },
  {
   "cell_type": "code",
   "execution_count": 3,
   "id": "26cc91cf-0c29-47e4-8e3e-7d57a5a50f52",
   "metadata": {},
   "outputs": [],
   "source": [
    "df18to21 = df18to21.drop(columns = ['Unnamed: 0.1','Unnamed: 0'])"
   ]
  },
  {
   "cell_type": "code",
   "execution_count": 4,
   "id": "1d7d2334-011f-4fc4-9250-b556bb602e47",
   "metadata": {},
   "outputs": [
    {
     "data": {
      "text/plain": [
       "Index(['sentence_length', 'year_sentenced', 'sentence_type', 'guideline_range',\n",
       "       'imprisoned', 'guideline_var_pct', 'dependents', 'count_convictons',\n",
       "       'race', 'disposition', 'citizen', 'state', 'criminal_hist', 'drug_type',\n",
       "       'case_type', 'age', 'weapon', 'presentence_stat', 'gender',\n",
       "       'crime_type', 'region', 'college', 'white', 'perc_charged'],\n",
       "      dtype='object')"
      ]
     },
     "execution_count": 4,
     "metadata": {},
     "output_type": "execute_result"
    }
   ],
   "source": [
    "df18to21.columns"
   ]
  },
  {
   "cell_type": "markdown",
   "id": "370c9400-1a90-45c0-9f3e-73a65e5213fb",
   "metadata": {},
   "source": [
    "### Linear Regression for Percent above Guideline Min"
   ]
  },
  {
   "cell_type": "code",
   "execution_count": 5,
   "id": "dce7b3dd-9a7c-4da6-b03d-9d3ee456c003",
   "metadata": {},
   "outputs": [],
   "source": [
    "X = df18to21[['year_sentenced',\n",
    "       'dependents', 'count_convictons',\n",
    "       'race', 'disposition', 'citizen', 'state', 'criminal_hist', 'drug_type',\n",
    "       'age', 'weapon','gender',\n",
    "       'crime_type', 'college']]\n",
    "y = df18to21['guideline_var_pct']\n"
   ]
  },
  {
   "cell_type": "code",
   "execution_count": 6,
   "id": "dc39d448-811a-4438-b750-a337fa581326",
   "metadata": {},
   "outputs": [],
   "source": [
    "X_train,X_test,y_train,y_test = train_test_split(X,y,random_state=42)"
   ]
  },
  {
   "cell_type": "code",
   "execution_count": 7,
   "id": "0126798e-0fe1-4a11-b5ba-3e5f1c804e32",
   "metadata": {},
   "outputs": [],
   "source": [
    "numeric = ['count_convictons','age']"
   ]
  },
  {
   "cell_type": "code",
   "execution_count": 8,
   "id": "0995d96a-9045-45da-b246-3c76a8901f24",
   "metadata": {},
   "outputs": [],
   "source": [
    "categorical = ['year_sentenced','dependents','race','disposition','citizen','state',\n",
    "              'criminal_hist', 'drug_type','weapon','gender','crime_type', 'college']"
   ]
  },
  {
   "cell_type": "code",
   "execution_count": 9,
   "id": "8779888e-d159-47b8-a094-fc51b2e1e621",
   "metadata": {},
   "outputs": [],
   "source": [
    "ctx = ColumnTransformer(\n",
    "    [('ss',StandardScaler(),numeric),\n",
    "     ('ohe',OneHotEncoder(handle_unknown='ignore',drop='first'),\\\n",
    "     categorical)],\n",
    "     verbose_feature_names_out=False,\n",
    "     remainder = 'passthrough'\n",
    ")"
   ]
  },
  {
   "cell_type": "code",
   "execution_count": 10,
   "id": "15faec11-45d4-4794-b116-c773d9d8426b",
   "metadata": {},
   "outputs": [],
   "source": [
    "ctx.fit(X_train)\n",
    "X_train_t = ctx.transform(X_train)\n",
    "X_test_t = ctx.transform(X_test)"
   ]
  },
  {
   "cell_type": "code",
   "execution_count": 11,
   "id": "4d076d89-b232-4b54-b999-bc663e3e469f",
   "metadata": {},
   "outputs": [
    {
     "data": {
      "text/plain": [
       "<61884x105 sparse matrix of type '<class 'numpy.float64'>'\n",
       "\twith 485083 stored elements in Compressed Sparse Row format>"
      ]
     },
     "execution_count": 11,
     "metadata": {},
     "output_type": "execute_result"
    }
   ],
   "source": [
    "X_test_t"
   ]
  },
  {
   "cell_type": "code",
   "execution_count": 12,
   "id": "c99669d3-23da-4ef5-b5ad-c23e9698290f",
   "metadata": {},
   "outputs": [
    {
     "data": {
      "text/plain": [
       "105"
      ]
     },
     "execution_count": 12,
     "metadata": {},
     "output_type": "execute_result"
    }
   ],
   "source": [
    "len(ctx.get_feature_names_out())"
   ]
  },
  {
   "cell_type": "code",
   "execution_count": 13,
   "id": "138fc9a2-0112-46df-89fa-3eae9ce7fa2e",
   "metadata": {},
   "outputs": [],
   "source": [
    "X_train = pd.DataFrame(X_train_t.A,columns=ctx.get_feature_names_out())"
   ]
  },
  {
   "cell_type": "code",
   "execution_count": 14,
   "id": "3e7b71be-98bc-41d0-9588-4052cf6dc79f",
   "metadata": {},
   "outputs": [],
   "source": [
    "X_test = pd.DataFrame(X_test_t.A,columns=ctx.get_feature_names_out())"
   ]
  },
  {
   "cell_type": "code",
   "execution_count": 15,
   "id": "56e83636-9e4c-4af0-8a6e-abac78808152",
   "metadata": {},
   "outputs": [
    {
     "data": {
      "text/plain": [
       "(0.14712796793340943, 0.1400030014639897)"
      ]
     },
     "execution_count": 15,
     "metadata": {},
     "output_type": "execute_result"
    }
   ],
   "source": [
    "lr = LinearRegression()\n",
    "lr.fit(X_train,y_train)\n",
    "lr.score(X_train,y_train), lr.score(X_test,y_test)"
   ]
  },
  {
   "cell_type": "markdown",
   "id": "9a3d2675-984b-4685-a687-ceaf8fe83ecb",
   "metadata": {},
   "source": [
    "### Linear Regression for Sentence Length"
   ]
  },
  {
   "cell_type": "code",
   "execution_count": 16,
   "id": "6e74e2c5-03c5-4d13-b9d1-bb049510efc4",
   "metadata": {},
   "outputs": [
    {
     "data": {
      "text/plain": [
       "Index(['sentence_length', 'year_sentenced', 'sentence_type', 'guideline_range',\n",
       "       'imprisoned', 'guideline_var_pct', 'dependents', 'count_convictons',\n",
       "       'race', 'disposition', 'citizen', 'state', 'criminal_hist', 'drug_type',\n",
       "       'case_type', 'age', 'weapon', 'presentence_stat', 'gender',\n",
       "       'crime_type', 'region', 'college', 'white', 'perc_charged'],\n",
       "      dtype='object')"
      ]
     },
     "execution_count": 16,
     "metadata": {},
     "output_type": "execute_result"
    }
   ],
   "source": [
    "df18to21.columns"
   ]
  },
  {
   "cell_type": "code",
   "execution_count": 17,
   "id": "f314aab2-3735-4556-98be-4d52734c5780",
   "metadata": {},
   "outputs": [],
   "source": [
    "X = df18to21[['year_sentenced',\n",
    "       'dependents', 'count_convictons',\n",
    "       'race', 'disposition', 'citizen', 'state', 'criminal_hist', 'drug_type',\n",
    "       'age', 'weapon','gender',\n",
    "       'crime_type', 'college']]\n",
    "y = df18to21['sentence_length']\n"
   ]
  },
  {
   "cell_type": "code",
   "execution_count": 18,
   "id": "a63f27f8-b6cb-4d9a-b45d-e38a724cbdf8",
   "metadata": {},
   "outputs": [],
   "source": [
    "X_train,X_test,y_train,y_test = train_test_split(X,y,random_state=42)"
   ]
  },
  {
   "cell_type": "code",
   "execution_count": 19,
   "id": "53e092aa-1e15-4d0f-89ad-2fee27ebc0e5",
   "metadata": {},
   "outputs": [],
   "source": [
    "numeric = ['count_convictons','age']\n",
    "categorical = ['year_sentenced','dependents','race','disposition','citizen','state',\n",
    "              'criminal_hist', 'drug_type','weapon','gender','crime_type', 'college']"
   ]
  },
  {
   "cell_type": "code",
   "execution_count": 20,
   "id": "6050584d-4de9-43de-875f-53a2e443b408",
   "metadata": {},
   "outputs": [],
   "source": [
    "ctx = ColumnTransformer(\n",
    "    [('ss',StandardScaler(),numeric),\n",
    "     ('ohe',OneHotEncoder(handle_unknown='ignore',drop='first'),\\\n",
    "     categorical)],\n",
    "     verbose_feature_names_out=False,\n",
    "     remainder = 'passthrough'\n",
    ")\n",
    "\n",
    "ctx.fit(X_train)\n",
    "X_train_t = ctx.transform(X_train)\n",
    "X_test_t = ctx.transform(X_test)\n",
    "\n",
    "X_train = pd.DataFrame(X_train_t.A,columns=ctx.get_feature_names_out())\n",
    "X_test = pd.DataFrame(X_test_t.A,columns=ctx.get_feature_names_out())"
   ]
  },
  {
   "cell_type": "code",
   "execution_count": 21,
   "id": "331465c8-48ca-486f-911e-4dfdccb36333",
   "metadata": {},
   "outputs": [
    {
     "data": {
      "text/plain": [
       "(0.14452012559627292, 0.15818674424366885)"
      ]
     },
     "execution_count": 21,
     "metadata": {},
     "output_type": "execute_result"
    }
   ],
   "source": [
    "lr2 = LinearRegression()\n",
    "lr2.fit(X_train,y_train)\n",
    "lr2.score(X_train,y_train), lr2.score(X_test,y_test)"
   ]
  },
  {
   "cell_type": "markdown",
   "id": "532613a8-bb06-462b-b4e6-c69422925d4a",
   "metadata": {},
   "source": [
    "### Linear Regression for Sentence Length 2"
   ]
  },
  {
   "cell_type": "code",
   "execution_count": 22,
   "id": "04e9fe6e-db99-4b91-afd1-4dd43a55ab72",
   "metadata": {},
   "outputs": [
    {
     "data": {
      "text/plain": [
       "Index(['sentence_length', 'year_sentenced', 'sentence_type', 'guideline_range',\n",
       "       'imprisoned', 'guideline_var_pct', 'dependents', 'count_convictons',\n",
       "       'race', 'disposition', 'citizen', 'state', 'criminal_hist', 'drug_type',\n",
       "       'case_type', 'age', 'weapon', 'presentence_stat', 'gender',\n",
       "       'crime_type', 'region', 'college', 'white', 'perc_charged'],\n",
       "      dtype='object')"
      ]
     },
     "execution_count": 22,
     "metadata": {},
     "output_type": "execute_result"
    }
   ],
   "source": [
    "df18to21.columns"
   ]
  },
  {
   "cell_type": "code",
   "execution_count": 39,
   "id": "1c592067-8cc2-409e-a295-298378f53c48",
   "metadata": {},
   "outputs": [],
   "source": [
    "X = df18to21[['count_convictons','criminal_hist','crime_type','weapon','disposition','age']]\n",
    "y = df18to21['sentence_length']\n"
   ]
  },
  {
   "cell_type": "code",
   "execution_count": 40,
   "id": "5abfab4a-7024-4fc8-8ae8-5b81af2a18e5",
   "metadata": {},
   "outputs": [],
   "source": [
    "X_train,X_test,y_train,y_test = train_test_split(X,y,random_state=42)"
   ]
  },
  {
   "cell_type": "code",
   "execution_count": 41,
   "id": "9490a62a-7831-4131-84c1-5eea0d924821",
   "metadata": {},
   "outputs": [],
   "source": [
    "numeric = ['count_convictons','age']\n",
    "categorical = ['criminal_hist','crime_type','weapon','disposition']"
   ]
  },
  {
   "cell_type": "code",
   "execution_count": 42,
   "id": "8d4b45df-ecf3-445a-a212-3b4abaf0d550",
   "metadata": {},
   "outputs": [],
   "source": [
    "ctx = ColumnTransformer(\n",
    "    [('ss',StandardScaler(),numeric),\n",
    "     ('ohe',OneHotEncoder(handle_unknown='ignore',drop='first'),\\\n",
    "     categorical)],\n",
    "     verbose_feature_names_out=False,\n",
    "     remainder = 'passthrough'\n",
    ")\n",
    "\n",
    "ctx.fit(X_train)\n",
    "X_train_t = ctx.transform(X_train)\n",
    "X_test_t = ctx.transform(X_test)\n",
    "\n",
    "X_train = pd.DataFrame(X_train_t.A,columns=ctx.get_feature_names_out())\n",
    "X_test = pd.DataFrame(X_test_t.A,columns=ctx.get_feature_names_out())"
   ]
  },
  {
   "cell_type": "code",
   "execution_count": 43,
   "id": "825d0d16-057f-4b51-9cb8-213450243cbe",
   "metadata": {},
   "outputs": [
    {
     "data": {
      "text/plain": [
       "(0.14212213734847134, 0.15627837294578228)"
      ]
     },
     "execution_count": 43,
     "metadata": {},
     "output_type": "execute_result"
    }
   ],
   "source": [
    "lr3 = LinearRegression()\n",
    "lr3.fit(X_train,y_train)\n",
    "lr3.score(X_train,y_train), lr3.score(X_test,y_test)"
   ]
  },
  {
   "cell_type": "markdown",
   "id": "9fef9f73-b3ee-48ae-9e6f-80dbdab59eb9",
   "metadata": {},
   "source": [
    "### Linear Regression, Non-Life"
   ]
  },
  {
   "cell_type": "code",
   "execution_count": 194,
   "id": "1c046264-51a0-4e92-80d6-59d941f9335b",
   "metadata": {},
   "outputs": [],
   "source": [
    "df_nonlife = df18to21[df18to21['sentence_length'] != 9996]"
   ]
  },
  {
   "cell_type": "code",
   "execution_count": 195,
   "id": "d1dd7da2-3afe-4d8e-8b0c-aed890072607",
   "metadata": {},
   "outputs": [],
   "source": [
    "X = df_nonlife[['year_sentenced',\n",
    "       'dependents', 'count_convictons',\n",
    "       'race', 'disposition', 'citizen', 'criminal_hist', 'drug_type',\n",
    "       'age', 'weapon','gender','state',\n",
    "       'crime_type']]\n",
    "y = df_nonlife['sentence_length']"
   ]
  },
  {
   "cell_type": "code",
   "execution_count": 196,
   "id": "23ae7784-002f-459d-9289-a2bf70db03c9",
   "metadata": {},
   "outputs": [],
   "source": [
    "X_train,X_test,y_train,y_test = train_test_split(X,y,random_state=42)"
   ]
  },
  {
   "cell_type": "code",
   "execution_count": 197,
   "id": "412ef62a-cd52-4425-be73-61d6caae29b3",
   "metadata": {},
   "outputs": [],
   "source": [
    "numeric = ['count_convictons','age']\n",
    "categorical = ['year_sentenced','dependents','race','disposition','citizen', 'state',\n",
    "              'criminal_hist', 'drug_type','weapon','gender','crime_type']"
   ]
  },
  {
   "cell_type": "code",
   "execution_count": 198,
   "id": "068b6fb4-2b5c-4f8f-9ff5-d1b84fd82fa4",
   "metadata": {},
   "outputs": [],
   "source": [
    "ctx = ColumnTransformer(\n",
    "    [('ss',StandardScaler(),numeric),\n",
    "     ('ohe',OneHotEncoder(handle_unknown='ignore',drop='first'),\\\n",
    "     categorical)],\n",
    "     verbose_feature_names_out=False,\n",
    "     remainder = 'passthrough'\n",
    ")\n",
    "\n",
    "ctx.fit(X_train)\n",
    "X_train_t = ctx.transform(X_train)\n",
    "X_test_t = ctx.transform(X_test)\n",
    "\n",
    "X_train = pd.DataFrame(X_train_t.A,columns=ctx.get_feature_names_out())\n",
    "X_test = pd.DataFrame(X_test_t.A,columns=ctx.get_feature_names_out())"
   ]
  },
  {
   "cell_type": "code",
   "execution_count": 199,
   "id": "4d92d373-3eae-4281-b192-74e189b98551",
   "metadata": {},
   "outputs": [
    {
     "data": {
      "text/plain": [
       "(0.4593885246748831, 0.4020010719142436)"
      ]
     },
     "execution_count": 199,
     "metadata": {},
     "output_type": "execute_result"
    }
   ],
   "source": [
    "lr5 = LinearRegression()\n",
    "lr5.fit(X_train,y_train)\n",
    "lr5.score(X_train,y_train), lr5.score(X_test,y_test)"
   ]
  },
  {
   "cell_type": "markdown",
   "id": "98b68166-6500-4857-89fc-abea3f01c777",
   "metadata": {},
   "source": [
    "### Lasso Regression"
   ]
  },
  {
   "cell_type": "code",
   "execution_count": 206,
   "id": "fbfd72a9-566d-4a3f-b28f-4a18173ad741",
   "metadata": {},
   "outputs": [
    {
     "data": {
      "text/plain": [
       "(0.35793864055845337, 0.3109349166277676)"
      ]
     },
     "execution_count": 206,
     "metadata": {},
     "output_type": "execute_result"
    }
   ],
   "source": [
    "lassor = Lasso()\n",
    "lassor.fit(X_train,y_train)\n",
    "lassor.score(X_train,y_train), lassor.score(X_test,y_test)"
   ]
  },
  {
   "cell_type": "code",
   "execution_count": 207,
   "id": "398edc13-edd1-40c2-82fe-acfe26272b18",
   "metadata": {},
   "outputs": [],
   "source": [
    "lasso_params = {\n",
    "    'alpha' : [.01,.1,1,10,100] \n",
    "}\n",
    "\n",
    "gslasso = GridSearchCV(\n",
    "    lassor,\n",
    "    lasso_params,\n",
    "    cv =5,\n",
    ")"
   ]
  },
  {
   "cell_type": "code",
   "execution_count": 208,
   "id": "7ba94926-3502-4904-89a9-cd901a719eef",
   "metadata": {},
   "outputs": [
    {
     "data": {
      "text/plain": [
       "(0.4587780752787499, 0.4013491078839204)"
      ]
     },
     "execution_count": 208,
     "metadata": {},
     "output_type": "execute_result"
    }
   ],
   "source": [
    "gslasso.fit(X_train,y_train)\n",
    "gslasso.score(X_train,y_train), gslasso.score(X_test,y_test)"
   ]
  },
  {
   "cell_type": "code",
   "execution_count": 211,
   "id": "013cfe44-f530-427f-8515-e42480dd043b",
   "metadata": {},
   "outputs": [
    {
     "data": {
      "text/plain": [
       "{'alpha': 0.01}"
      ]
     },
     "execution_count": 211,
     "metadata": {},
     "output_type": "execute_result"
    }
   ],
   "source": [
    "gslasso.best_params_"
   ]
  },
  {
   "cell_type": "code",
   "execution_count": 212,
   "id": "1b1af9ac-d780-4a5a-824a-6b1103cf7830",
   "metadata": {},
   "outputs": [
    {
     "data": {
      "text/plain": [
       "(0.45937262858210215, 0.4019727618961694)"
      ]
     },
     "execution_count": 212,
     "metadata": {},
     "output_type": "execute_result"
    }
   ],
   "source": [
    "lassor2 = Lasso(alpha=.001)\n",
    "lassor2.fit(X_train,y_train)\n",
    "lassor2.score(X_train,y_train), lassor2.score(X_test,y_test)"
   ]
  },
  {
   "cell_type": "markdown",
   "id": "fb5240cb-091c-450c-87b9-055551c1a6fc",
   "metadata": {},
   "source": [
    "### Ridge Regression"
   ]
  },
  {
   "cell_type": "code",
   "execution_count": 209,
   "id": "2ed34896-3a24-4240-b3b7-39ae319261c8",
   "metadata": {},
   "outputs": [
    {
     "data": {
      "text/plain": [
       "(0.4593874110630486, 0.4019928975021062)"
      ]
     },
     "execution_count": 209,
     "metadata": {},
     "output_type": "execute_result"
    }
   ],
   "source": [
    "ridge = Ridge()\n",
    "ridge.fit(X_train,y_train)\n",
    "ridge.score(X_train,y_train), ridge.score(X_test,y_test)"
   ]
  },
  {
   "cell_type": "markdown",
   "id": "c2fec599-6087-4638-90e6-70134b3ce254",
   "metadata": {},
   "source": [
    "### Further Analysis"
   ]
  },
  {
   "cell_type": "code",
   "execution_count": 216,
   "id": "2af82398-3dc1-401c-a01c-cc842cf76211",
   "metadata": {},
   "outputs": [
    {
     "data": {
      "text/plain": [
       "Index(['sentence_length', 'year_sentenced', 'sentence_type', 'guideline_range',\n",
       "       'imprisoned', 'guideline_var_pct', 'dependents', 'count_convictons',\n",
       "       'race', 'disposition', 'citizen', 'state', 'criminal_hist', 'drug_type',\n",
       "       'case_type', 'age', 'weapon', 'presentence_stat', 'gender',\n",
       "       'crime_type', 'region', 'college', 'white', 'perc_charged'],\n",
       "      dtype='object')"
      ]
     },
     "execution_count": 216,
     "metadata": {},
     "output_type": "execute_result"
    }
   ],
   "source": [
    "df18to21.columns"
   ]
  },
  {
   "cell_type": "code",
   "execution_count": 217,
   "id": "51805cab-b0f4-4212-80a3-4758e3958386",
   "metadata": {},
   "outputs": [],
   "source": [
    "X = df_nonlife[['year_sentenced',\n",
    "       'dependents', 'count_convictons',\n",
    "       'race', 'disposition', 'citizen', 'criminal_hist', 'drug_type',\n",
    "       'age', 'weapon','gender','state',\n",
    "       'crime_type','case_type','presentence_stat']]\n",
    "y = df_nonlife['sentence_length']"
   ]
  },
  {
   "cell_type": "code",
   "execution_count": 218,
   "id": "842f03e5-1bfb-49bd-b9da-7cd82659de63",
   "metadata": {},
   "outputs": [],
   "source": [
    "X_train,X_test,y_train,y_test = train_test_split(X,y,random_state=42)"
   ]
  },
  {
   "cell_type": "code",
   "execution_count": null,
   "id": "626dc53f-af49-49ee-afb7-532f4003107f",
   "metadata": {},
   "outputs": [],
   "source": [
    "numeric = ['count_convictons','age']\n",
    "categorical = ['year_sentenced','dependents','race','disposition','citizen', 'state',\n",
    "              'criminal_hist', 'drug_type','weapon','gender','crime_type','case_type','presentence_stat']"
   ]
  },
  {
   "cell_type": "code",
   "execution_count": 219,
   "id": "0fb886a3-c618-4f5a-b5ec-f21b8fde482c",
   "metadata": {},
   "outputs": [],
   "source": [
    "ctx = ColumnTransformer(\n",
    "    [('ss',StandardScaler(),numeric),\n",
    "     ('ohe',OneHotEncoder(handle_unknown='ignore',drop='first'),\\\n",
    "     categorical)],\n",
    "     verbose_feature_names_out=False,\n",
    "     remainder = 'passthrough'\n",
    ")\n",
    "\n",
    "ctx.fit(X_train)\n",
    "X_train_t = ctx.transform(X_train)\n",
    "X_test_t = ctx.transform(X_test)\n",
    "\n",
    "X_train = pd.DataFrame(X_train_t.A,columns=ctx.get_feature_names_out())\n",
    "X_test = pd.DataFrame(X_test_t.A,columns=ctx.get_feature_names_out())"
   ]
  },
  {
   "cell_type": "code",
   "execution_count": 220,
   "id": "6661f720-0d1a-49ce-aed8-e60ceee271f7",
   "metadata": {},
   "outputs": [
    {
     "data": {
      "text/plain": [
       "(0.47635572079458166, 0.4166992854084739)"
      ]
     },
     "execution_count": 220,
     "metadata": {},
     "output_type": "execute_result"
    }
   ],
   "source": [
    "lr6 = LinearRegression()\n",
    "lr6.fit(X_train,y_train)\n",
    "lr6.score(X_train,y_train), lr6.score(X_test,y_test)"
   ]
  },
  {
   "cell_type": "markdown",
   "id": "61d39792-4f91-405a-823d-fb509eec12c4",
   "metadata": {},
   "source": [
    "### Creating Additional Features"
   ]
  },
  {
   "cell_type": "code",
   "execution_count": 221,
   "id": "06d9c7f0-5fb1-4166-8f2a-3f99d8a271f4",
   "metadata": {},
   "outputs": [],
   "source": [
    "df_nonlife_it = df_nonlife.copy()"
   ]
  },
  {
   "cell_type": "code",
   "execution_count": 223,
   "id": "e2a2faec-0449-47c8-bf4a-ad84cb0a327e",
   "metadata": {},
   "outputs": [
    {
     "data": {
      "text/plain": [
       "Index(['sentence_length', 'year_sentenced', 'sentence_type', 'guideline_range',\n",
       "       'imprisoned', 'guideline_var_pct', 'dependents', 'count_convictons',\n",
       "       'race', 'disposition', 'citizen', 'state', 'criminal_hist', 'drug_type',\n",
       "       'case_type', 'age', 'weapon', 'presentence_stat', 'gender',\n",
       "       'crime_type', 'region', 'college', 'white', 'perc_charged'],\n",
       "      dtype='object')"
      ]
     },
     "execution_count": 223,
     "metadata": {},
     "output_type": "execute_result"
    }
   ],
   "source": [
    "df_nonlife_it.columns"
   ]
  },
  {
   "cell_type": "code",
   "execution_count": 224,
   "id": "851d316a-05aa-4a9c-82e9-86348692ac1a",
   "metadata": {},
   "outputs": [],
   "source": [
    "df_nonlife_it['r_c'] = df_nonlife_it['race'] * df_nonlife_it['citizen']\n",
    "df_nonlife_it['r_d'] = df_nonlife_it['race'] * df_nonlife_it['drug_type']\n",
    "df_nonlife_it['r_w'] = df_nonlife_it['race'] * df_nonlife_it['weapon']\n",
    "df_nonlife_it['r_g'] = df_nonlife_it['race'] * df_nonlife_it['gender']\n",
    "df_nonlife_it['c_g'] = df_nonlife_it['citizen'] * df_nonlife_it['gender']\n",
    "df_nonlife_it['r_e'] = df_nonlife_it['race'] * df_nonlife_it['college']\n",
    "df_nonlife_it['r_e'] = df_nonlife_it['gender'] * df_nonlife_it['college']\n",
    "df_nonlife_it['r_d'] = df_nonlife_it['race'] * df_nonlife_it['dependents']\n",
    "df_nonlife_it['g_d'] = df_nonlife_it['gender'] * df_nonlife_it['dependents']\n",
    "df_nonlife_it['r_y'] = df_nonlife_it['race'] * df_nonlife_it['year_sentenced']\n",
    "df_nonlife_it['c_y'] = df_nonlife_it['citizen'] * df_nonlife_it['year_sentenced']\n",
    "df_nonlife_it['r_ch'] = df_nonlife_it['race'] * df_nonlife_it['criminal_hist']"
   ]
  },
  {
   "cell_type": "code",
   "execution_count": 227,
   "id": "acb1ebe7-5e63-4cf9-8234-9f90e862a667",
   "metadata": {},
   "outputs": [],
   "source": [
    "df_nonlife_it['r_dis'] = df_nonlife_it['race'] * df_nonlife_it['disposition']"
   ]
  },
  {
   "cell_type": "code",
   "execution_count": 228,
   "id": "ffddd7b0-8bfc-4169-8fbd-6b6be9e22d7c",
   "metadata": {},
   "outputs": [
    {
     "data": {
      "text/plain": [
       "Index(['sentence_length', 'year_sentenced', 'sentence_type', 'guideline_range',\n",
       "       'imprisoned', 'guideline_var_pct', 'dependents', 'count_convictons',\n",
       "       'race', 'disposition', 'citizen', 'state', 'criminal_hist', 'drug_type',\n",
       "       'case_type', 'age', 'weapon', 'presentence_stat', 'gender',\n",
       "       'crime_type', 'region', 'college', 'white', 'perc_charged', 'r_c',\n",
       "       'r_d', 'r_w', 'r_g', 'c_g', 'r_e', 'g_d', 'r_y', 'c_y', 'r_ch',\n",
       "       'r_dis'],\n",
       "      dtype='object')"
      ]
     },
     "execution_count": 228,
     "metadata": {},
     "output_type": "execute_result"
    }
   ],
   "source": [
    "df_nonlife_it.columns"
   ]
  },
  {
   "cell_type": "code",
   "execution_count": 229,
   "id": "a1635a0e-1ec5-4211-93cf-fbc964ba95a3",
   "metadata": {},
   "outputs": [],
   "source": [
    "numeric = ['count_convictons','age']\n",
    "categorical = ['year_sentenced','dependents','race','disposition','citizen', 'state',\n",
    "              'criminal_hist', 'drug_type','weapon','gender','crime_type','case_type','presentence_stat',\n",
    "              'sentence_type','college','r_c','r_d', 'r_w', 'r_g', 'c_g',\n",
    "              'r_e', 'g_d', 'r_y', 'c_y', 'r_ch','r_dis'\n",
    "               ]"
   ]
  },
  {
   "cell_type": "code",
   "execution_count": 232,
   "id": "6969b028-18f4-48d8-9b3c-c694067521d7",
   "metadata": {},
   "outputs": [],
   "source": [
    "X = df_nonlife_it[['count_convictons','age',\n",
    "              'year_sentenced','dependents','race','disposition','citizen', 'state',\n",
    "              'criminal_hist', 'drug_type','weapon','gender','crime_type','case_type','presentence_stat',\n",
    "              'sentence_type','college','r_c','r_d', 'r_w', 'r_g', 'c_g',\n",
    "              'r_e', 'g_d', 'r_y', 'c_y', 'r_ch','r_dis'\n",
    "               ]]\n",
    "y = df_nonlife_it['sentence_length']"
   ]
  },
  {
   "cell_type": "code",
   "execution_count": 233,
   "id": "2fe58f78-9f7e-40ac-8ec8-ef7a2e9bfd0f",
   "metadata": {},
   "outputs": [],
   "source": [
    "X_train,X_test,y_train,y_test = train_test_split(X,y,random_state=42)"
   ]
  },
  {
   "cell_type": "code",
   "execution_count": 234,
   "id": "25498a5e-58d7-41f3-9354-79cf3cb51208",
   "metadata": {},
   "outputs": [],
   "source": [
    "ctx = ColumnTransformer(\n",
    "    [('ss',StandardScaler(),numeric),\n",
    "     ('ohe',OneHotEncoder(handle_unknown='ignore',drop='first'),\\\n",
    "     categorical)],\n",
    "     verbose_feature_names_out=False,\n",
    "     remainder = 'passthrough'\n",
    ")\n",
    "\n",
    "ctx.fit(X_train)\n",
    "X_train_t = ctx.transform(X_train)\n",
    "X_test_t = ctx.transform(X_test)\n",
    "\n",
    "X_train = pd.DataFrame(X_train_t.A,columns=ctx.get_feature_names_out())\n",
    "X_test = pd.DataFrame(X_test_t.A,columns=ctx.get_feature_names_out())"
   ]
  },
  {
   "cell_type": "code",
   "execution_count": 235,
   "id": "16a475aa-75c5-40aa-91eb-0e73ea583b3e",
   "metadata": {},
   "outputs": [
    {
     "data": {
      "text/plain": [
       "(0.4861340285174224, 0.4254602485131993)"
      ]
     },
     "execution_count": 235,
     "metadata": {},
     "output_type": "execute_result"
    }
   ],
   "source": [
    "lr7 = LinearRegression()\n",
    "lr7.fit(X_train,y_train)\n",
    "lr7.score(X_train,y_train), lr7.score(X_test,y_test)"
   ]
  },
  {
   "cell_type": "code",
   "execution_count": 241,
   "id": "232458e3-0863-4a46-8449-49d158ff2d7a",
   "metadata": {},
   "outputs": [
    {
     "name": "stderr",
     "output_type": "stream",
     "text": [
      "/Users/danielschlant/opt/anaconda3/lib/python3.9/site-packages/sklearn/linear_model/_coordinate_descent.py:648: ConvergenceWarning: Objective did not converge. You might want to increase the number of iterations, check the scale of the features or consider increasing regularisation. Duality gap: 1.389e+08, tolerance: 8.885e+04\n",
      "  model = cd_fast.enet_coordinate_descent(\n"
     ]
    },
    {
     "data": {
      "text/plain": [
       "(0.48613772251299114, 0.4255166024358341)"
      ]
     },
     "execution_count": 241,
     "metadata": {},
     "output_type": "execute_result"
    }
   ],
   "source": [
    "lassor3 = Lasso(alpha=.001)\n",
    "lassor3.fit(X_train,y_train)\n",
    "lassor3.score(X_train,y_train), lassor3.score(X_test,y_test)"
   ]
  },
  {
   "cell_type": "code",
   "execution_count": 244,
   "id": "e381c3fb-ce85-432a-a65c-698fc1027ded",
   "metadata": {},
   "outputs": [
    {
     "data": {
      "text/plain": [
       "array([4.61160358e+00, 3.35469118e+00, 2.70612888e-01, 2.32055497e+00,\n",
       "       5.87760024e-01, 7.35307715e-01, 1.26468858e+01, 2.67824415e+00,\n",
       "       1.32455460e+00, 0.00000000e+00, 7.74940062e-01, 5.49146228e+01,\n",
       "       1.58141113e+01, 5.78792106e+01, 1.71096618e+01, 9.14245536e+00,\n",
       "       4.17296218e+00, 4.78302478e+00, 1.06842819e+01, 2.12165817e+00,\n",
       "       7.88504106e+00, 7.47928932e+00, 1.03205555e+01, 1.18540147e+01,\n",
       "       2.97749173e+00, 7.43599839e-01, 7.25621155e+00, 5.50544171e+00,\n",
       "       1.16487385e+01, 2.00261168e+01, 5.60343136e+00, 7.19269957e+00,\n",
       "       2.18268048e+00, 4.96023941e+00, 6.25419372e+00, 6.61564456e+00,\n",
       "       7.06010726e+00, 1.50001895e+01, 1.99373505e+00, 2.51062446e+00,\n",
       "       1.19005497e+01, 4.73300932e+00, 8.21377804e+00, 6.68868375e+00,\n",
       "       2.81814650e-01, 5.52082784e+00, 1.03388412e+01, 6.91124360e+00,\n",
       "       6.84838311e+00, 2.18532199e+00, 2.20731713e+00, 9.33008380e+00,\n",
       "       1.82451053e+00, 1.83642165e+00, 5.02563600e+00, 2.34453242e+00,\n",
       "       4.35016722e+00, 4.82265427e+00, 1.61717537e+01, 2.50571788e+01,\n",
       "       5.88759181e+00, 1.31020168e+01, 1.26230158e+01, 5.54654039e+00,\n",
       "       2.95700487e+00, 3.58458567e+00, 2.46603679e+01, 1.51820936e+01,\n",
       "       2.12914706e+01, 2.86048862e+00, 4.59512892e+01, 1.82324701e+01,\n",
       "       1.18719673e+01, 3.96290358e+01, 0.00000000e+00, 2.77837611e+00,\n",
       "       4.62231904e+01, 3.04143095e+01, 1.33394074e+01, 1.40907139e+00,\n",
       "       8.43184797e+01, 6.72667553e+00, 2.76383787e-01, 1.61513757e+01,\n",
       "       1.15607929e+01, 1.40923550e+01, 1.96134048e+01, 1.40087706e+01,\n",
       "       2.86361910e-01, 1.46674296e+01, 6.75990304e+00, 2.07546425e+01,\n",
       "       9.45698748e+01, 5.81245681e+01, 3.15128495e+01, 1.67208964e+02,\n",
       "       2.55419228e+01, 2.51894934e+00, 1.33407853e+01, 4.49902100e+01,\n",
       "       1.92924129e+02, 4.49383319e+00, 1.11885222e+01, 2.88019747e+00,\n",
       "       1.48624981e+01, 2.66574652e+01, 2.65224910e+01, 2.57376374e+01,\n",
       "       9.99154582e+00, 8.95279092e+00, 6.25651275e+00, 2.90833716e+00,\n",
       "       2.77344324e+00, 1.99893314e+00, 4.21528551e+00, 3.51110531e+01,\n",
       "       3.48668594e+00, 1.70623780e+00, 1.41155636e-01, 3.08893335e+00,\n",
       "       1.80617027e+00, 4.16683763e-01, 4.03267362e+00, 1.21407525e+00,\n",
       "       0.00000000e+00, 6.68519780e+00, 3.95839489e-01, 4.89616347e+00,\n",
       "       6.67020166e+00, 1.14923637e+01, 1.16139247e+01, 1.31083673e+00,\n",
       "       2.11803232e+00, 7.56909426e+00, 5.21500945e+00, 8.04076689e-01,\n",
       "       1.67991736e+00, 1.11240313e+00, 0.00000000e+00, 1.36871089e+00,\n",
       "       1.41626881e+00, 0.00000000e+00, 3.27053744e-01, 2.11970970e+00,\n",
       "       1.54560539e+00, 2.24134505e+00, 0.00000000e+00, 1.10305015e+00,\n",
       "       1.18683328e+00, 0.00000000e+00, 1.09044145e-01, 2.67193656e+00,\n",
       "       0.00000000e+00, 4.62228560e-02, 8.44853290e-02, 3.64809084e+00,\n",
       "       2.76759147e+00, 3.19009343e+00, 6.69478338e+00, 3.64193348e+00,\n",
       "       1.11763887e-01, 9.99466390e+00, 1.96026101e+00, 1.26726293e+00,\n",
       "       5.05951379e+00, 9.60801026e+00, 8.62660348e+00, 3.83324036e+01,\n",
       "       2.34323949e+01, 4.98694865e+00, 0.00000000e+00, 0.00000000e+00,\n",
       "       0.00000000e+00, 7.46063197e+00, 0.00000000e+00, 0.00000000e+00,\n",
       "       0.00000000e+00, 0.00000000e+00, 2.69930400e+00, 0.00000000e+00])"
      ]
     },
     "execution_count": 244,
     "metadata": {},
     "output_type": "execute_result"
    }
   ],
   "source": [
    "coefficients = lassor3.coef_\n",
    "importance = np.abs(lassor3.coef_)\n",
    "importance"
   ]
  },
  {
   "cell_type": "markdown",
   "id": "6c293d90-b6e0-4584-92c1-b66809325494",
   "metadata": {},
   "source": [
    "### CAPPING THE SENTENCE LENGTH TO 470"
   ]
  },
  {
   "cell_type": "code",
   "execution_count": 333,
   "id": "c348aec0-e9a1-4465-8126-24a43632785d",
   "metadata": {},
   "outputs": [],
   "source": [
    "df18to21_470cap = df18to21.copy()"
   ]
  },
  {
   "cell_type": "code",
   "execution_count": 334,
   "id": "eacd2c95-f6e1-4eba-932b-5f6ef812824b",
   "metadata": {},
   "outputs": [
    {
     "data": {
      "text/html": [
       "<div>\n",
       "<style scoped>\n",
       "    .dataframe tbody tr th:only-of-type {\n",
       "        vertical-align: middle;\n",
       "    }\n",
       "\n",
       "    .dataframe tbody tr th {\n",
       "        vertical-align: top;\n",
       "    }\n",
       "\n",
       "    .dataframe thead th {\n",
       "        text-align: right;\n",
       "    }\n",
       "</style>\n",
       "<table border=\"1\" class=\"dataframe\">\n",
       "  <thead>\n",
       "    <tr style=\"text-align: right;\">\n",
       "      <th></th>\n",
       "      <th>sentence_length</th>\n",
       "      <th>year_sentenced</th>\n",
       "      <th>sentence_type</th>\n",
       "      <th>guideline_range</th>\n",
       "      <th>imprisoned</th>\n",
       "      <th>guideline_var_pct</th>\n",
       "      <th>dependents</th>\n",
       "      <th>count_convictons</th>\n",
       "      <th>race</th>\n",
       "      <th>disposition</th>\n",
       "      <th>...</th>\n",
       "      <th>case_type</th>\n",
       "      <th>age</th>\n",
       "      <th>weapon</th>\n",
       "      <th>presentence_stat</th>\n",
       "      <th>gender</th>\n",
       "      <th>crime_type</th>\n",
       "      <th>region</th>\n",
       "      <th>college</th>\n",
       "      <th>white</th>\n",
       "      <th>perc_charged</th>\n",
       "    </tr>\n",
       "  </thead>\n",
       "  <tbody>\n",
       "    <tr>\n",
       "      <th>0</th>\n",
       "      <td>188</td>\n",
       "      <td>2018</td>\n",
       "      <td>1</td>\n",
       "      <td>1.0</td>\n",
       "      <td>1</td>\n",
       "      <td>0.0</td>\n",
       "      <td>1</td>\n",
       "      <td>1</td>\n",
       "      <td>1</td>\n",
       "      <td>3</td>\n",
       "      <td>...</td>\n",
       "      <td>1.0</td>\n",
       "      <td>24.0</td>\n",
       "      <td>0</td>\n",
       "      <td>1.0</td>\n",
       "      <td>0.0</td>\n",
       "      <td>10</td>\n",
       "      <td>West</td>\n",
       "      <td>0</td>\n",
       "      <td>1</td>\n",
       "      <td>0.079034</td>\n",
       "    </tr>\n",
       "    <tr>\n",
       "      <th>1</th>\n",
       "      <td>0</td>\n",
       "      <td>2018</td>\n",
       "      <td>1</td>\n",
       "      <td>0.0</td>\n",
       "      <td>1</td>\n",
       "      <td>0.0</td>\n",
       "      <td>1</td>\n",
       "      <td>1</td>\n",
       "      <td>1</td>\n",
       "      <td>1</td>\n",
       "      <td>...</td>\n",
       "      <td>1.0</td>\n",
       "      <td>28.0</td>\n",
       "      <td>0</td>\n",
       "      <td>1.0</td>\n",
       "      <td>0.0</td>\n",
       "      <td>17</td>\n",
       "      <td>South</td>\n",
       "      <td>0</td>\n",
       "      <td>1</td>\n",
       "      <td>0.057644</td>\n",
       "    </tr>\n",
       "    <tr>\n",
       "      <th>2</th>\n",
       "      <td>300</td>\n",
       "      <td>2018</td>\n",
       "      <td>1</td>\n",
       "      <td>6.0</td>\n",
       "      <td>1</td>\n",
       "      <td>0.0</td>\n",
       "      <td>1</td>\n",
       "      <td>3</td>\n",
       "      <td>1</td>\n",
       "      <td>3</td>\n",
       "      <td>...</td>\n",
       "      <td>1.0</td>\n",
       "      <td>41.0</td>\n",
       "      <td>1</td>\n",
       "      <td>1.0</td>\n",
       "      <td>0.0</td>\n",
       "      <td>10</td>\n",
       "      <td>Midwest</td>\n",
       "      <td>0</td>\n",
       "      <td>1</td>\n",
       "      <td>0.148692</td>\n",
       "    </tr>\n",
       "    <tr>\n",
       "      <th>3</th>\n",
       "      <td>63</td>\n",
       "      <td>2018</td>\n",
       "      <td>1</td>\n",
       "      <td>1.0</td>\n",
       "      <td>1</td>\n",
       "      <td>0.0</td>\n",
       "      <td>0</td>\n",
       "      <td>1</td>\n",
       "      <td>2</td>\n",
       "      <td>1</td>\n",
       "      <td>...</td>\n",
       "      <td>1.0</td>\n",
       "      <td>25.0</td>\n",
       "      <td>1</td>\n",
       "      <td>1.0</td>\n",
       "      <td>0.0</td>\n",
       "      <td>26</td>\n",
       "      <td>South</td>\n",
       "      <td>0</td>\n",
       "      <td>0</td>\n",
       "      <td>0.074698</td>\n",
       "    </tr>\n",
       "    <tr>\n",
       "      <th>4</th>\n",
       "      <td>0</td>\n",
       "      <td>2018</td>\n",
       "      <td>1</td>\n",
       "      <td>2.0</td>\n",
       "      <td>1</td>\n",
       "      <td>0.0</td>\n",
       "      <td>1</td>\n",
       "      <td>1</td>\n",
       "      <td>1</td>\n",
       "      <td>1</td>\n",
       "      <td>...</td>\n",
       "      <td>1.0</td>\n",
       "      <td>27.0</td>\n",
       "      <td>0</td>\n",
       "      <td>1.0</td>\n",
       "      <td>0.0</td>\n",
       "      <td>17</td>\n",
       "      <td>West</td>\n",
       "      <td>0</td>\n",
       "      <td>1</td>\n",
       "      <td>0.029711</td>\n",
       "    </tr>\n",
       "  </tbody>\n",
       "</table>\n",
       "<p>5 rows × 24 columns</p>\n",
       "</div>"
      ],
      "text/plain": [
       "   sentence_length  year_sentenced  sentence_type  guideline_range  \\\n",
       "0              188            2018              1              1.0   \n",
       "1                0            2018              1              0.0   \n",
       "2              300            2018              1              6.0   \n",
       "3               63            2018              1              1.0   \n",
       "4                0            2018              1              2.0   \n",
       "\n",
       "   imprisoned  guideline_var_pct  dependents  count_convictons  race  \\\n",
       "0           1                0.0           1                 1     1   \n",
       "1           1                0.0           1                 1     1   \n",
       "2           1                0.0           1                 3     1   \n",
       "3           1                0.0           0                 1     2   \n",
       "4           1                0.0           1                 1     1   \n",
       "\n",
       "   disposition  ...  case_type   age  weapon  presentence_stat  gender  \\\n",
       "0            3  ...        1.0  24.0       0               1.0     0.0   \n",
       "1            1  ...        1.0  28.0       0               1.0     0.0   \n",
       "2            3  ...        1.0  41.0       1               1.0     0.0   \n",
       "3            1  ...        1.0  25.0       1               1.0     0.0   \n",
       "4            1  ...        1.0  27.0       0               1.0     0.0   \n",
       "\n",
       "   crime_type   region  college  white  perc_charged  \n",
       "0          10     West        0      1      0.079034  \n",
       "1          17    South        0      1      0.057644  \n",
       "2          10  Midwest        0      1      0.148692  \n",
       "3          26    South        0      0      0.074698  \n",
       "4          17     West        0      1      0.029711  \n",
       "\n",
       "[5 rows x 24 columns]"
      ]
     },
     "execution_count": 334,
     "metadata": {},
     "output_type": "execute_result"
    }
   ],
   "source": [
    "df18to21_470cap.head()"
   ]
  },
  {
   "cell_type": "code",
   "execution_count": 335,
   "id": "35044b61-1828-4409-8b72-98d0d199b885",
   "metadata": {},
   "outputs": [],
   "source": [
    "df18to21_470cap['sentence_length'] = [i == 840 if i > 840 else i for i in df18to21_470cap['sentence_length']]"
   ]
  },
  {
   "cell_type": "code",
   "execution_count": 336,
   "id": "78e7c852-e8ed-4fb5-ba82-c51600137f96",
   "metadata": {},
   "outputs": [
    {
     "data": {
      "text/plain": [
       "840"
      ]
     },
     "execution_count": 336,
     "metadata": {},
     "output_type": "execute_result"
    }
   ],
   "source": [
    "df18to21_470cap['sentence_length'].max()"
   ]
  },
  {
   "cell_type": "code",
   "execution_count": 337,
   "id": "7121231e-528b-433c-a65d-9edf50d5f0f3",
   "metadata": {},
   "outputs": [],
   "source": [
    "X = df18to21_470cap[['year_sentenced',\n",
    "       'dependents', 'count_convictons',\n",
    "       'race', 'disposition', 'citizen', 'criminal_hist', 'drug_type',\n",
    "       'age', 'weapon','gender','state','sentence_type',\n",
    "       'crime_type','case_type','presentence_stat','college']]\n",
    "y = df18to21_470cap['sentence_length']"
   ]
  },
  {
   "cell_type": "code",
   "execution_count": 338,
   "id": "dbb1e541-947b-4369-a9a5-055ae440c282",
   "metadata": {},
   "outputs": [],
   "source": [
    "numeric = ['count_convictons','age']\n",
    "categorical = ['year_sentenced','dependents','race','disposition','citizen', 'state',\n",
    "              'criminal_hist', 'drug_type','weapon','gender','crime_type','case_type','presentence_stat',\n",
    "              'sentence_type','college']"
   ]
  },
  {
   "cell_type": "code",
   "execution_count": 339,
   "id": "b6ff3a09-3bc1-494e-8b85-e55e21fd8ab0",
   "metadata": {},
   "outputs": [],
   "source": [
    "X_train,X_test,y_train,y_test = train_test_split(X,y,random_state=42)"
   ]
  },
  {
   "cell_type": "code",
   "execution_count": 340,
   "id": "64bec850-3e1a-40bb-8b58-eb786eb9e285",
   "metadata": {},
   "outputs": [],
   "source": [
    "ctx = ColumnTransformer(\n",
    "    [('ss',StandardScaler(),numeric),\n",
    "     ('ohe',OneHotEncoder(handle_unknown='ignore',drop='first'),\\\n",
    "     categorical)],\n",
    "     verbose_feature_names_out=False,\n",
    "     remainder = 'passthrough'\n",
    ")\n",
    "\n",
    "ctx.fit(X_train)\n",
    "X_train_t = ctx.transform(X_train)\n",
    "X_test_t = ctx.transform(X_test)\n",
    "\n",
    "X_train = pd.DataFrame(X_train_t.A,columns=ctx.get_feature_names_out())\n",
    "X_test = pd.DataFrame(X_test_t.A,columns=ctx.get_feature_names_out())"
   ]
  },
  {
   "cell_type": "code",
   "execution_count": 341,
   "id": "e7300608-f0ee-4b03-a6b3-a058993b50bb",
   "metadata": {},
   "outputs": [
    {
     "data": {
      "text/plain": [
       "(0.5277466501463421, 0.5270109735447235)"
      ]
     },
     "execution_count": 341,
     "metadata": {},
     "output_type": "execute_result"
    }
   ],
   "source": [
    "lassor4 = Lasso(alpha=.001)\n",
    "lassor4.fit(X_train,y_train)\n",
    "lassor4.score(X_train,y_train), lassor4.score(X_test,y_test)"
   ]
  },
  {
   "cell_type": "code",
   "execution_count": 342,
   "id": "836039ae-3a6d-412b-8c31-73743bbbec1d",
   "metadata": {},
   "outputs": [],
   "source": [
    "df18to21_470cap['r_c'] = df_nonlife_it['race'] * df18to21_470cap['citizen']\n",
    "df18to21_470cap['r_d'] = df_nonlife_it['race'] * df18to21_470cap['drug_type']\n",
    "df18to21_470cap['r_w'] = df_nonlife_it['race'] * df18to21_470cap['weapon']\n",
    "df18to21_470cap['r_g'] = df_nonlife_it['race'] * df18to21_470cap['gender']\n",
    "df18to21_470cap['c_g'] = df_nonlife_it['citizen'] * df18to21_470cap['gender']\n",
    "df18to21_470cap['r_e'] = df_nonlife_it['race'] * df18to21_470cap['college']\n",
    "df18to21_470cap['r_e'] = df_nonlife_it['gender'] * df18to21_470cap['college']\n",
    "df18to21_470cap['r_d'] = df_nonlife_it['race'] * df18to21_470cap['dependents']\n",
    "df18to21_470cap['g_d'] = df_nonlife_it['gender'] * df18to21_470cap['dependents']\n",
    "df18to21_470cap['r_y'] = df_nonlife_it['race'] * df18to21_470cap['year_sentenced']\n",
    "df18to21_470cap['c_y'] = df_nonlife_it['citizen'] * df18to21_470cap['year_sentenced']\n",
    "df18to21_470cap['r_ch'] = df_nonlife_it['race'] * df18to21_470cap['criminal_hist']\n",
    "df18to21_470cap['r_dis'] = df_nonlife_it['race'] * df18to21_470cap['disposition']"
   ]
  },
  {
   "cell_type": "code",
   "execution_count": 343,
   "id": "a97e1b3b-c279-4589-ab90-8f60d69cc07c",
   "metadata": {},
   "outputs": [],
   "source": [
    "numeric = ['count_convictons','age']\n",
    "categorical = ['year_sentenced','dependents','race','disposition','citizen', 'state',\n",
    "              'criminal_hist', 'drug_type','weapon','gender','crime_type','case_type','presentence_stat',\n",
    "              'sentence_type','college','r_c','r_d', 'r_w', 'r_g', 'c_g',\n",
    "              'r_e', 'g_d', 'r_y', 'c_y', 'r_ch','r_dis'\n",
    "               ]"
   ]
  },
  {
   "cell_type": "code",
   "execution_count": 344,
   "id": "87f5379c-1586-4e1e-a5df-c2171ba0216d",
   "metadata": {},
   "outputs": [],
   "source": [
    "X = df18to21_470cap[['count_convictons','age',\n",
    "              'year_sentenced','dependents','race','disposition','citizen', 'state',\n",
    "              'criminal_hist', 'drug_type','weapon','gender','crime_type','case_type','presentence_stat',\n",
    "              'sentence_type','college','r_c','r_d', 'r_w', 'r_g', 'c_g',\n",
    "              'r_e', 'g_d', 'r_y', 'c_y', 'r_ch','r_dis'\n",
    "               ]]\n",
    "y = df18to21_470cap['sentence_length']"
   ]
  },
  {
   "cell_type": "code",
   "execution_count": 345,
   "id": "d476df47-0f9d-482d-82b2-052bb8ec48ab",
   "metadata": {},
   "outputs": [],
   "source": [
    "X_train,X_test,y_train,y_test = train_test_split(X,y,random_state=42)"
   ]
  },
  {
   "cell_type": "code",
   "execution_count": 346,
   "id": "4da0973c-8c34-47c0-a2e8-9fc479cdb887",
   "metadata": {},
   "outputs": [],
   "source": [
    "ctx = ColumnTransformer(\n",
    "    [('ss',StandardScaler(),numeric),\n",
    "     ('ohe',OneHotEncoder(handle_unknown='ignore',drop='first'),\\\n",
    "     categorical)],\n",
    "     verbose_feature_names_out=False,\n",
    "     remainder = 'passthrough'\n",
    ")\n",
    "\n",
    "ctx.fit(X_train)\n",
    "X_train_t = ctx.transform(X_train)\n",
    "X_test_t = ctx.transform(X_test)\n",
    "\n",
    "X_train = pd.DataFrame(X_train_t.A,columns=ctx.get_feature_names_out())\n",
    "X_test = pd.DataFrame(X_test_t.A,columns=ctx.get_feature_names_out())"
   ]
  },
  {
   "cell_type": "code",
   "execution_count": 347,
   "id": "89f3b01e-0abd-4d49-8e33-373f2bea2f79",
   "metadata": {},
   "outputs": [
    {
     "name": "stderr",
     "output_type": "stream",
     "text": [
      "/Users/danielschlant/opt/anaconda3/lib/python3.9/site-packages/sklearn/linear_model/_coordinate_descent.py:648: ConvergenceWarning: Objective did not converge. You might want to increase the number of iterations, check the scale of the features or consider increasing regularisation. Duality gap: 1.566e+08, tolerance: 7.213e+04\n",
      "  model = cd_fast.enet_coordinate_descent(\n"
     ]
    },
    {
     "data": {
      "text/plain": [
       "(0.547024243845947, 0.5504479161955145)"
      ]
     },
     "execution_count": 347,
     "metadata": {},
     "output_type": "execute_result"
    }
   ],
   "source": [
    "lassor5 = Lasso(alpha=.0001)\n",
    "lassor5.fit(X_train,y_train)\n",
    "lassor5.score(X_train,y_train), lassor5.score(X_test,y_test)"
   ]
  },
  {
   "cell_type": "code",
   "execution_count": 384,
   "id": "fa6244d6-dd07-48ed-b803-dc4b57891231",
   "metadata": {},
   "outputs": [
    {
     "ename": "TypeError",
     "evalue": "'RandomForestRegressor' object is not callable",
     "output_type": "error",
     "traceback": [
      "\u001b[0;31m---------------------------------------------------------------------------\u001b[0m",
      "\u001b[0;31mTypeError\u001b[0m                                 Traceback (most recent call last)",
      "\u001b[0;32m/var/folders/pr/wgwfmfsx53n97rhpm9z12wqh0000gn/T/ipykernel_11923/1085722713.py\u001b[0m in \u001b[0;36m<module>\u001b[0;34m\u001b[0m\n\u001b[0;32m----> 1\u001b[0;31m \u001b[0mRandomForestRegressor\u001b[0m \u001b[0;34m=\u001b[0m \u001b[0mrfr\u001b[0m\u001b[0;34m(\u001b[0m\u001b[0;34m)\u001b[0m\u001b[0;34m\u001b[0m\u001b[0;34m\u001b[0m\u001b[0m\n\u001b[0m\u001b[1;32m      2\u001b[0m \u001b[0mrfr\u001b[0m\u001b[0;34m.\u001b[0m\u001b[0mfit\u001b[0m\u001b[0;34m(\u001b[0m\u001b[0mX_train\u001b[0m\u001b[0;34m,\u001b[0m\u001b[0my_train\u001b[0m\u001b[0;34m)\u001b[0m\u001b[0;34m\u001b[0m\u001b[0;34m\u001b[0m\u001b[0m\n\u001b[1;32m      3\u001b[0m \u001b[0mrfr\u001b[0m\u001b[0;34m.\u001b[0m\u001b[0mscore\u001b[0m\u001b[0;34m(\u001b[0m\u001b[0mX_train\u001b[0m\u001b[0;34m,\u001b[0m\u001b[0my_train\u001b[0m\u001b[0;34m)\u001b[0m\u001b[0;34m,\u001b[0m \u001b[0mrfr\u001b[0m\u001b[0;34m.\u001b[0m\u001b[0mscore\u001b[0m\u001b[0;34m(\u001b[0m\u001b[0mX_test\u001b[0m\u001b[0;34m,\u001b[0m\u001b[0my_test\u001b[0m\u001b[0;34m)\u001b[0m\u001b[0;34m\u001b[0m\u001b[0;34m\u001b[0m\u001b[0m\n",
      "\u001b[0;31mTypeError\u001b[0m: 'RandomForestRegressor' object is not callable"
     ]
    }
   ],
   "source": [
    "# rfr = RandomForestRegressor()\n",
    "# rfr.fit(X_train,y_train)\n",
    "# rfr.score(X_train,y_train), rfr.score(X_test,y_test)"
   ]
  },
  {
   "cell_type": "code",
   "execution_count": null,
   "id": "3bb9b9d6-9fb4-447e-b0ce-0e3c21feb1ab",
   "metadata": {},
   "outputs": [],
   "source": []
  }
 ],
 "metadata": {
  "kernelspec": {
   "display_name": "Python 3 (ipykernel)",
   "language": "python",
   "name": "python3"
  },
  "language_info": {
   "codemirror_mode": {
    "name": "ipython",
    "version": 3
   },
   "file_extension": ".py",
   "mimetype": "text/x-python",
   "name": "python",
   "nbconvert_exporter": "python",
   "pygments_lexer": "ipython3",
   "version": "3.9.7"
  }
 },
 "nbformat": 4,
 "nbformat_minor": 5
}
