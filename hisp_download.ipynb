{
 "cells": [
  {
   "cell_type": "code",
   "execution_count": 4,
   "id": "84b8d2bc-4aed-4e9e-8e72-710ccc30ac15",
   "metadata": {},
   "outputs": [],
   "source": [
    "import pandas as pd\n",
    "import numpy as np\n",
    "import pyarrow as pa\n",
    "import pyarrow.parquet as pq\n",
    "from zipfile import ZipFile\n",
    "import seaborn as sns"
   ]
  },
  {
   "cell_type": "code",
   "execution_count": 5,
   "id": "964321a4-910e-4827-b9b8-21c2fab24a5f",
   "metadata": {},
   "outputs": [],
   "source": [
    "df20 = pd.read_parquet('opafy20nid.parq')\n",
    "\n",
    "df20_hisp = df20[['HISPORIG']]\n",
    "\n",
    "#df20.to_csv('df20_.csv')"
   ]
  },
  {
   "cell_type": "code",
   "execution_count": 6,
   "id": "93e3e9b2-81b8-4113-aa0c-0e0f2141c0ba",
   "metadata": {},
   "outputs": [],
   "source": [
    "zip_21 = 'opafy21nid.csv.zip'\n",
    "with ZipFile(zip_21,'r') as zip21:\n",
    "    zip_21_ext = zip21.extractall()\n",
    "\n",
    "df21_hisp = pd.read_csv('opafy21nid.csv', usecols=['HISPORIG'])\n",
    "\n",
    "#df21 = df21[['HISPORIG']]\n",
    "\n",
    "#df21.to_csv('df21.csv')"
   ]
  },
  {
   "cell_type": "code",
   "execution_count": 7,
   "id": "e0baffcb-bcf8-4321-98f6-b6793a2f5ead",
   "metadata": {},
   "outputs": [],
   "source": [
    "zip_19 = 'opafy19nid.csv.zip'\n",
    "with ZipFile(zip_19,'r') as zip19:\n",
    "    zip_19_ext = zip19.extractall()\n",
    "    \n",
    "df19_hisp = pd.read_csv('opafy19nid.csv', usecols=['HISPORIG'])\n",
    "\n",
    "#df19 = df19[['HISPORIG']]\n",
    "\n",
    "#df19.to_csv('df19.csv')\n",
    "\n"
   ]
  },
  {
   "cell_type": "code",
   "execution_count": 9,
   "id": "c4c1bcab-5ea4-4c75-8947-e0cda690608a",
   "metadata": {},
   "outputs": [],
   "source": [
    "zip_18 = 'opafy18nid.csv.zip'\n",
    "with ZipFile(zip_18,'r') as zip18:\n",
    "    zip_18_ext = zip18.extractall()\n",
    "    \n",
    "df18_hisp = pd.read_csv('opafy18nid.csv', usecols=['HISPORIG'])\n",
    "\n",
    "#df18 = df18[['HISPORIG']]\n",
    "\n",
    "#df18.to_csv('df18.csv')"
   ]
  },
  {
   "cell_type": "code",
   "execution_count": 10,
   "id": "ffcd280b-e672-48f8-9bea-1278a0a3b26c",
   "metadata": {},
   "outputs": [],
   "source": [
    "dataframes = [df18_hisp,df19_hisp,df20_hisp,df21_hisp]\n",
    "df18to21_hisp = pd.concat(dataframes,ignore_index=True)\n",
    "\n",
    "df18to21_hisp.to_csv('df18to21hisorigin.csv')"
   ]
  },
  {
   "cell_type": "code",
   "execution_count": 11,
   "id": "6b1f7b14-ec89-4ed7-865b-ea55690b469b",
   "metadata": {},
   "outputs": [
    {
     "data": {
      "text/plain": [
       "(267815, 1)"
      ]
     },
     "execution_count": 11,
     "metadata": {},
     "output_type": "execute_result"
    }
   ],
   "source": [
    "df18to21_hisp.shape"
   ]
  },
  {
   "cell_type": "code",
   "execution_count": 12,
   "id": "518e94c7-1b20-468c-be7c-463a9bc90380",
   "metadata": {},
   "outputs": [],
   "source": [
    "df18to21 = pd.read_csv('df18to21.csv')"
   ]
  },
  {
   "cell_type": "code",
   "execution_count": 13,
   "id": "12ac56df-2244-41d3-a16c-25edbd4aba9e",
   "metadata": {},
   "outputs": [
    {
     "data": {
      "text/plain": [
       "(267815, 34)"
      ]
     },
     "execution_count": 13,
     "metadata": {},
     "output_type": "execute_result"
    }
   ],
   "source": [
    "df18to21.shape"
   ]
  },
  {
   "cell_type": "code",
   "execution_count": 30,
   "id": "9cf62ecc-c9ad-4ac7-82e9-7f6af7b0d565",
   "metadata": {},
   "outputs": [],
   "source": [
    "df18to21_hisp = pd.read_csv('df18to21hisorigin.csv')"
   ]
  },
  {
   "cell_type": "code",
   "execution_count": 33,
   "id": "50df03fe-6a76-45d9-bffe-bcc9a6e9ed0d",
   "metadata": {},
   "outputs": [],
   "source": [
    "df18to21_hisp = df18to21_hisp.drop(columns='Unnamed: 0')"
   ]
  },
  {
   "cell_type": "code",
   "execution_count": 34,
   "id": "e73f4750-b86a-4a39-8249-332326a58af7",
   "metadata": {},
   "outputs": [
    {
     "data": {
      "text/plain": [
       "Index(['HISPORIG'], dtype='object')"
      ]
     },
     "execution_count": 34,
     "metadata": {},
     "output_type": "execute_result"
    }
   ],
   "source": [
    "df18to21_hisp.columns"
   ]
  },
  {
   "cell_type": "code",
   "execution_count": 35,
   "id": "4de241c6-8edd-49ee-8a2d-3ebc92e812ff",
   "metadata": {},
   "outputs": [
    {
     "data": {
      "text/plain": [
       "2    0.542688\n",
       "1    0.427672\n",
       "0    0.029640\n",
       "Name: HISPORIG, dtype: float64"
      ]
     },
     "execution_count": 35,
     "metadata": {},
     "output_type": "execute_result"
    }
   ],
   "source": [
    "df18to21_hisp['HISPORIG'].value_counts(normalize=True)"
   ]
  },
  {
   "cell_type": "code",
   "execution_count": 36,
   "id": "da718e71-1ba0-4d24-af0b-8a622d499b53",
   "metadata": {},
   "outputs": [],
   "source": [
    "df18to21_whisp = df18to21.copy()"
   ]
  },
  {
   "cell_type": "code",
   "execution_count": 37,
   "id": "d2aa8b6c-e2d1-40e0-9bcd-33b806347bb6",
   "metadata": {},
   "outputs": [
    {
     "data": {
      "text/plain": [
       "(267815, 34)"
      ]
     },
     "execution_count": 37,
     "metadata": {},
     "output_type": "execute_result"
    }
   ],
   "source": [
    "df18to21_whisp.shape"
   ]
  },
  {
   "cell_type": "code",
   "execution_count": 38,
   "id": "a3785138-0e9a-49cb-8e49-1ea72560b6f0",
   "metadata": {},
   "outputs": [],
   "source": [
    "df18to21_whisp['hisp_orig'] = df18to21_hisp['HISPORIG']"
   ]
  },
  {
   "cell_type": "code",
   "execution_count": 39,
   "id": "2caf14b9-2348-4cdd-bae8-63fafcd57d53",
   "metadata": {},
   "outputs": [
    {
     "data": {
      "text/html": [
       "<div>\n",
       "<style scoped>\n",
       "    .dataframe tbody tr th:only-of-type {\n",
       "        vertical-align: middle;\n",
       "    }\n",
       "\n",
       "    .dataframe tbody tr th {\n",
       "        vertical-align: top;\n",
       "    }\n",
       "\n",
       "    .dataframe thead th {\n",
       "        text-align: right;\n",
       "    }\n",
       "</style>\n",
       "<table border=\"1\" class=\"dataframe\">\n",
       "  <thead>\n",
       "    <tr style=\"text-align: right;\">\n",
       "      <th></th>\n",
       "      <th>Unnamed: 0</th>\n",
       "      <th>TOTPRISN</th>\n",
       "      <th>SENTYR</th>\n",
       "      <th>SENTIMP</th>\n",
       "      <th>RANGEPT</th>\n",
       "      <th>PRISDUM</th>\n",
       "      <th>PCNTDEPT</th>\n",
       "      <th>MNTHDEPT</th>\n",
       "      <th>NUMDEPEN</th>\n",
       "      <th>NOCOUNTS</th>\n",
       "      <th>...</th>\n",
       "      <th>PRESENT</th>\n",
       "      <th>MONSEX</th>\n",
       "      <th>OFFGUIDE</th>\n",
       "      <th>CHP3CHG1</th>\n",
       "      <th>CHP3CHG2</th>\n",
       "      <th>CHP3CHG3</th>\n",
       "      <th>CHP3CHG4</th>\n",
       "      <th>CHP3CHG5</th>\n",
       "      <th>CHP3CHG6</th>\n",
       "      <th>hisp_orig</th>\n",
       "    </tr>\n",
       "  </thead>\n",
       "  <tbody>\n",
       "    <tr>\n",
       "      <th>0</th>\n",
       "      <td>0</td>\n",
       "      <td>172</td>\n",
       "      <td>2017</td>\n",
       "      <td>1</td>\n",
       "      <td>NaN</td>\n",
       "      <td>1</td>\n",
       "      <td>8.510638</td>\n",
       "      <td>16.0</td>\n",
       "      <td>2.0</td>\n",
       "      <td>1</td>\n",
       "      <td>...</td>\n",
       "      <td>1.0</td>\n",
       "      <td>0.0</td>\n",
       "      <td>10</td>\n",
       "      <td>NaN</td>\n",
       "      <td>NaN</td>\n",
       "      <td>NaN</td>\n",
       "      <td>NaN</td>\n",
       "      <td>NaN</td>\n",
       "      <td>NaN</td>\n",
       "      <td>1</td>\n",
       "    </tr>\n",
       "    <tr>\n",
       "      <th>1</th>\n",
       "      <td>1</td>\n",
       "      <td>0</td>\n",
       "      <td>2017</td>\n",
       "      <td>1</td>\n",
       "      <td>2.0</td>\n",
       "      <td>1</td>\n",
       "      <td>NaN</td>\n",
       "      <td>NaN</td>\n",
       "      <td>1.0</td>\n",
       "      <td>1</td>\n",
       "      <td>...</td>\n",
       "      <td>1.0</td>\n",
       "      <td>1.0</td>\n",
       "      <td>17</td>\n",
       "      <td>NaN</td>\n",
       "      <td>NaN</td>\n",
       "      <td>NaN</td>\n",
       "      <td>NaN</td>\n",
       "      <td>NaN</td>\n",
       "      <td>NaN</td>\n",
       "      <td>2</td>\n",
       "    </tr>\n",
       "    <tr>\n",
       "      <th>2</th>\n",
       "      <td>2</td>\n",
       "      <td>6</td>\n",
       "      <td>2017</td>\n",
       "      <td>1</td>\n",
       "      <td>NaN</td>\n",
       "      <td>1</td>\n",
       "      <td>40.000000</td>\n",
       "      <td>4.0</td>\n",
       "      <td>1.0</td>\n",
       "      <td>1</td>\n",
       "      <td>...</td>\n",
       "      <td>1.0</td>\n",
       "      <td>0.0</td>\n",
       "      <td>17</td>\n",
       "      <td>NaN</td>\n",
       "      <td>NaN</td>\n",
       "      <td>NaN</td>\n",
       "      <td>NaN</td>\n",
       "      <td>NaN</td>\n",
       "      <td>NaN</td>\n",
       "      <td>2</td>\n",
       "    </tr>\n",
       "    <tr>\n",
       "      <th>3</th>\n",
       "      <td>3</td>\n",
       "      <td>4</td>\n",
       "      <td>2017</td>\n",
       "      <td>1</td>\n",
       "      <td>NaN</td>\n",
       "      <td>1</td>\n",
       "      <td>50.000000</td>\n",
       "      <td>4.0</td>\n",
       "      <td>2.0</td>\n",
       "      <td>1</td>\n",
       "      <td>...</td>\n",
       "      <td>1.0</td>\n",
       "      <td>0.0</td>\n",
       "      <td>17</td>\n",
       "      <td>NaN</td>\n",
       "      <td>NaN</td>\n",
       "      <td>NaN</td>\n",
       "      <td>NaN</td>\n",
       "      <td>NaN</td>\n",
       "      <td>NaN</td>\n",
       "      <td>2</td>\n",
       "    </tr>\n",
       "    <tr>\n",
       "      <th>4</th>\n",
       "      <td>4</td>\n",
       "      <td>0</td>\n",
       "      <td>2017</td>\n",
       "      <td>1</td>\n",
       "      <td>2.0</td>\n",
       "      <td>1</td>\n",
       "      <td>NaN</td>\n",
       "      <td>NaN</td>\n",
       "      <td>3.0</td>\n",
       "      <td>1</td>\n",
       "      <td>...</td>\n",
       "      <td>1.0</td>\n",
       "      <td>0.0</td>\n",
       "      <td>17</td>\n",
       "      <td>NaN</td>\n",
       "      <td>NaN</td>\n",
       "      <td>NaN</td>\n",
       "      <td>NaN</td>\n",
       "      <td>NaN</td>\n",
       "      <td>NaN</td>\n",
       "      <td>2</td>\n",
       "    </tr>\n",
       "  </tbody>\n",
       "</table>\n",
       "<p>5 rows × 35 columns</p>\n",
       "</div>"
      ],
      "text/plain": [
       "   Unnamed: 0  TOTPRISN  SENTYR  SENTIMP  RANGEPT  PRISDUM   PCNTDEPT  \\\n",
       "0           0       172    2017        1      NaN        1   8.510638   \n",
       "1           1         0    2017        1      2.0        1        NaN   \n",
       "2           2         6    2017        1      NaN        1  40.000000   \n",
       "3           3         4    2017        1      NaN        1  50.000000   \n",
       "4           4         0    2017        1      2.0        1        NaN   \n",
       "\n",
       "   MNTHDEPT  NUMDEPEN  NOCOUNTS  ...  PRESENT  MONSEX  OFFGUIDE  CHP3CHG1  \\\n",
       "0      16.0       2.0         1  ...      1.0     0.0        10       NaN   \n",
       "1       NaN       1.0         1  ...      1.0     1.0        17       NaN   \n",
       "2       4.0       1.0         1  ...      1.0     0.0        17       NaN   \n",
       "3       4.0       2.0         1  ...      1.0     0.0        17       NaN   \n",
       "4       NaN       3.0         1  ...      1.0     0.0        17       NaN   \n",
       "\n",
       "   CHP3CHG2  CHP3CHG3  CHP3CHG4  CHP3CHG5  CHP3CHG6  hisp_orig  \n",
       "0       NaN       NaN       NaN       NaN       NaN          1  \n",
       "1       NaN       NaN       NaN       NaN       NaN          2  \n",
       "2       NaN       NaN       NaN       NaN       NaN          2  \n",
       "3       NaN       NaN       NaN       NaN       NaN          2  \n",
       "4       NaN       NaN       NaN       NaN       NaN          2  \n",
       "\n",
       "[5 rows x 35 columns]"
      ]
     },
     "execution_count": 39,
     "metadata": {},
     "output_type": "execute_result"
    }
   ],
   "source": [
    "df18to21_whisp.head()"
   ]
  },
  {
   "cell_type": "code",
   "execution_count": 23,
   "id": "097766d7-b068-460b-abfa-c19de0426ba5",
   "metadata": {
    "tags": []
   },
   "outputs": [],
   "source": [
    "df18to21_whisp['hisp_orig'] = df18to21_whisp['hisp_orig'].replace(2,0)"
   ]
  },
  {
   "cell_type": "code",
   "execution_count": 24,
   "id": "07844b7d-462c-43dd-bf69-ef088e8b4d76",
   "metadata": {},
   "outputs": [
    {
     "data": {
      "text/plain": [
       "0    0.572328\n",
       "1    0.427672\n",
       "Name: hisp_orig, dtype: float64"
      ]
     },
     "execution_count": 24,
     "metadata": {},
     "output_type": "execute_result"
    }
   ],
   "source": [
    "df18to21_whisp['hisp_orig'].value_counts(normalize=True)"
   ]
  },
  {
   "cell_type": "code",
   "execution_count": 26,
   "id": "8f9e80da-6ec4-4d74-a0ad-42c533782c5b",
   "metadata": {},
   "outputs": [],
   "source": [
    "df18to21_whisp['MONRACE'] = df18to21_whisp['MONRACE'] * df18to21_whisp['hisp_orig']"
   ]
  },
  {
   "cell_type": "code",
   "execution_count": 27,
   "id": "e980faca-f5a0-4439-931f-428490e8047a",
   "metadata": {},
   "outputs": [],
   "source": [
    "df18to21_whisp = df18to21_whisp.drop(columns='hisp_orig')"
   ]
  },
  {
   "cell_type": "code",
   "execution_count": 28,
   "id": "35856ce1-f217-4ec6-a868-db854b8263df",
   "metadata": {},
   "outputs": [
    {
     "data": {
      "text/plain": [
       "(267815, 34)"
      ]
     },
     "execution_count": 28,
     "metadata": {},
     "output_type": "execute_result"
    }
   ],
   "source": [
    "df18to21_whisp.shape"
   ]
  },
  {
   "cell_type": "code",
   "execution_count": 29,
   "id": "31a29bb7-3e28-486e-b6d2-97bdaa465ef6",
   "metadata": {},
   "outputs": [],
   "source": [
    "df18to21_whisp.to_csv('df18to21H.csv')"
   ]
  },
  {
   "cell_type": "code",
   "execution_count": null,
   "id": "87014ec8-4114-4109-ba98-3d3a5f9a65a5",
   "metadata": {},
   "outputs": [],
   "source": []
  }
 ],
 "metadata": {
  "kernelspec": {
   "display_name": "Python 3 (ipykernel)",
   "language": "python",
   "name": "python3"
  },
  "language_info": {
   "codemirror_mode": {
    "name": "ipython",
    "version": 3
   },
   "file_extension": ".py",
   "mimetype": "text/x-python",
   "name": "python",
   "nbconvert_exporter": "python",
   "pygments_lexer": "ipython3",
   "version": "3.9.7"
  }
 },
 "nbformat": 4,
 "nbformat_minor": 5
}
