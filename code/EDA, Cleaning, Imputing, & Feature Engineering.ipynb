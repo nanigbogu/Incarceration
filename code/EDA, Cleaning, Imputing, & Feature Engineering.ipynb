{
 "cells": [
  {
   "cell_type": "markdown",
   "id": "86b0ec46-f6d1-47f9-ac3e-3dbca029e577",
   "metadata": {},
   "source": [
    "<img src=\"http://imgur.com/1ZcRyrc.png\" style=\"float: left; margin: 20px; height: 55px\">\n",
    "\n",
    "# Project 4: Incarceration"
   ]
  },
  {
   "cell_type": "markdown",
   "id": "bb1ed46f-7292-4a2a-b549-d0221a59c201",
   "metadata": {
    "tags": []
   },
   "source": [
    "# Contents:\n",
    "- [Problem Statement](#Problem-Statement)\n",
    "- [Background](#Background)\n",
    "- [Exploratory Data Analysis, Cleaning, Imputation, and Feature Engineering](#EDA-and-Cleaning)"
   ]
  },
  {
   "cell_type": "markdown",
   "id": "acd92448-63a2-4864-b95b-211d39340930",
   "metadata": {
    "tags": []
   },
   "source": [
    "# Problem Statement"
   ]
  },
  {
   "cell_type": "markdown",
   "id": "03a20b4a-7e39-41cd-b630-2f01d492d7e2",
   "metadata": {},
   "source": [
    "The United States Sentencing Commission engaged the team to analyze sentencing data for the years 2018-2021 to identify patterns and provide recommendations for future sentence practices, and to provide areas of focus moving forward. We will analyze the impact of variables relating to offender demographics, details of offense and trial proceedings on the sentencing outcomes of federal cases for this period. "
   ]
  },
  {
   "cell_type": "markdown",
   "id": "a179e22a-00e0-4fcd-8884-620745964ec9",
   "metadata": {},
   "source": [
    "# Background"
   ]
  },
  {
   "cell_type": "markdown",
   "id": "9e8558b1-0672-4527-b12e-816d7ca442b8",
   "metadata": {},
   "source": [
    "The U.S. Sentencing Commission keeps a comprehensive array of data regarding federal crime and sentencing for each year. This data includes information for each case with details related to\n",
    "offense committed, defendant demographic, sentencing guidelines, location, and sentencing outcome, among other things. The commission uses this information to conduct analyses and to establish sentencing practices for federal courts. If you want to explore this further, click [here](https://www.ussc.gov/research/datafiles/commission-datafiles). The years 2018-2021 were selected as the commission amended its data formats in 2018, making the post-2017 data difficult to reconcile with the previous data.\n",
    "\n",
    "Sentencing guidelines take into account seriousness of the offense and offender’s criminal history. Each type of crime is assigned a base offense level and is assigned specific offense characteristics that increase or decrease the base. If you want to learn more, click [here](https://www.ussc.gov/sites/default/files/pdf/about/overview/Overview_Federal_Sentencing_Guidelines.pdf).\n",
    "\n",
    "The Sentencing Commission has itself conducted similar studies in the past. [Here](https://www.ussc.gov/sites/default/files/pdf/research-and-publications/research-publications/2010/20100311_Multivariate_Regression_Analysis_Report.pdf) is a study on demographic differences in federal sentencing practices from 2010, and [here](https://www.ussc.gov/sites/default/files/pdf/research-and-publications/research-publications/2017/20171114_Demographics.pdf) is a revisit of this report from 2017. The structure of modeling and analysis differs significantly from that of the two cited studies, but the studies did provide a frame of reference through which we were able to assess our findings."
   ]
  },
  {
   "cell_type": "markdown",
   "id": "940153aa-45c8-4d76-9873-7afdcff22277",
   "metadata": {},
   "source": [
    "# EDA and Cleaning"
   ]
  },
  {
   "cell_type": "code",
   "execution_count": 1,
   "id": "41454e2a-cbed-41ed-85d9-cc7dd5986525",
   "metadata": {},
   "outputs": [],
   "source": [
    "import pandas as pd\n",
    "import matplotlib.pyplot as plt\n",
    "import seaborn as sns\n",
    "import numpy as np"
   ]
  },
  {
   "cell_type": "code",
   "execution_count": 2,
   "id": "6be10407-21a1-42ce-8673-556983996d9e",
   "metadata": {},
   "outputs": [
    {
     "data": {
      "text/html": [
       "<div>\n",
       "<style scoped>\n",
       "    .dataframe tbody tr th:only-of-type {\n",
       "        vertical-align: middle;\n",
       "    }\n",
       "\n",
       "    .dataframe tbody tr th {\n",
       "        vertical-align: top;\n",
       "    }\n",
       "\n",
       "    .dataframe thead th {\n",
       "        text-align: right;\n",
       "    }\n",
       "</style>\n",
       "<table border=\"1\" class=\"dataframe\">\n",
       "  <thead>\n",
       "    <tr style=\"text-align: right;\">\n",
       "      <th></th>\n",
       "      <th>TOTPRISN</th>\n",
       "      <th>SENTYR</th>\n",
       "      <th>SENTIMP</th>\n",
       "      <th>RANGEPT</th>\n",
       "      <th>PRISDUM</th>\n",
       "      <th>PCNTDEPT</th>\n",
       "      <th>MNTHDEPT</th>\n",
       "      <th>NUMDEPEN</th>\n",
       "      <th>NOCOUNTS</th>\n",
       "      <th>MONRACE</th>\n",
       "      <th>...</th>\n",
       "      <th>STATMIN</th>\n",
       "      <th>PRESENT</th>\n",
       "      <th>MONSEX</th>\n",
       "      <th>OFFGUIDE</th>\n",
       "      <th>CHP3CHG1</th>\n",
       "      <th>CHP3CHG2</th>\n",
       "      <th>CHP3CHG3</th>\n",
       "      <th>CHP3CHG4</th>\n",
       "      <th>CHP3CHG5</th>\n",
       "      <th>CHP3CHG6</th>\n",
       "    </tr>\n",
       "  </thead>\n",
       "  <tbody>\n",
       "    <tr>\n",
       "      <th>0</th>\n",
       "      <td>172</td>\n",
       "      <td>2017</td>\n",
       "      <td>1</td>\n",
       "      <td>NaN</td>\n",
       "      <td>1</td>\n",
       "      <td>8.510638</td>\n",
       "      <td>16.0</td>\n",
       "      <td>2.0</td>\n",
       "      <td>1</td>\n",
       "      <td>1</td>\n",
       "      <td>...</td>\n",
       "      <td>60.0</td>\n",
       "      <td>1.0</td>\n",
       "      <td>0.0</td>\n",
       "      <td>10</td>\n",
       "      <td>NaN</td>\n",
       "      <td>NaN</td>\n",
       "      <td>NaN</td>\n",
       "      <td>NaN</td>\n",
       "      <td>NaN</td>\n",
       "      <td>NaN</td>\n",
       "    </tr>\n",
       "    <tr>\n",
       "      <th>1</th>\n",
       "      <td>0</td>\n",
       "      <td>2017</td>\n",
       "      <td>1</td>\n",
       "      <td>2.0</td>\n",
       "      <td>1</td>\n",
       "      <td>NaN</td>\n",
       "      <td>NaN</td>\n",
       "      <td>1.0</td>\n",
       "      <td>1</td>\n",
       "      <td>0</td>\n",
       "      <td>...</td>\n",
       "      <td>0.0</td>\n",
       "      <td>1.0</td>\n",
       "      <td>1.0</td>\n",
       "      <td>17</td>\n",
       "      <td>NaN</td>\n",
       "      <td>NaN</td>\n",
       "      <td>NaN</td>\n",
       "      <td>NaN</td>\n",
       "      <td>NaN</td>\n",
       "      <td>NaN</td>\n",
       "    </tr>\n",
       "    <tr>\n",
       "      <th>2</th>\n",
       "      <td>6</td>\n",
       "      <td>2017</td>\n",
       "      <td>1</td>\n",
       "      <td>NaN</td>\n",
       "      <td>1</td>\n",
       "      <td>40.000000</td>\n",
       "      <td>4.0</td>\n",
       "      <td>1.0</td>\n",
       "      <td>1</td>\n",
       "      <td>0</td>\n",
       "      <td>...</td>\n",
       "      <td>0.0</td>\n",
       "      <td>1.0</td>\n",
       "      <td>0.0</td>\n",
       "      <td>17</td>\n",
       "      <td>NaN</td>\n",
       "      <td>NaN</td>\n",
       "      <td>NaN</td>\n",
       "      <td>NaN</td>\n",
       "      <td>NaN</td>\n",
       "      <td>NaN</td>\n",
       "    </tr>\n",
       "    <tr>\n",
       "      <th>3</th>\n",
       "      <td>4</td>\n",
       "      <td>2017</td>\n",
       "      <td>1</td>\n",
       "      <td>NaN</td>\n",
       "      <td>1</td>\n",
       "      <td>50.000000</td>\n",
       "      <td>4.0</td>\n",
       "      <td>2.0</td>\n",
       "      <td>1</td>\n",
       "      <td>0</td>\n",
       "      <td>...</td>\n",
       "      <td>0.0</td>\n",
       "      <td>1.0</td>\n",
       "      <td>0.0</td>\n",
       "      <td>17</td>\n",
       "      <td>NaN</td>\n",
       "      <td>NaN</td>\n",
       "      <td>NaN</td>\n",
       "      <td>NaN</td>\n",
       "      <td>NaN</td>\n",
       "      <td>NaN</td>\n",
       "    </tr>\n",
       "    <tr>\n",
       "      <th>4</th>\n",
       "      <td>0</td>\n",
       "      <td>2017</td>\n",
       "      <td>1</td>\n",
       "      <td>2.0</td>\n",
       "      <td>1</td>\n",
       "      <td>NaN</td>\n",
       "      <td>NaN</td>\n",
       "      <td>3.0</td>\n",
       "      <td>1</td>\n",
       "      <td>0</td>\n",
       "      <td>...</td>\n",
       "      <td>0.0</td>\n",
       "      <td>1.0</td>\n",
       "      <td>0.0</td>\n",
       "      <td>17</td>\n",
       "      <td>NaN</td>\n",
       "      <td>NaN</td>\n",
       "      <td>NaN</td>\n",
       "      <td>NaN</td>\n",
       "      <td>NaN</td>\n",
       "      <td>NaN</td>\n",
       "    </tr>\n",
       "  </tbody>\n",
       "</table>\n",
       "<p>5 rows × 33 columns</p>\n",
       "</div>"
      ],
      "text/plain": [
       "   TOTPRISN  SENTYR  SENTIMP  RANGEPT  PRISDUM   PCNTDEPT  MNTHDEPT  NUMDEPEN  \\\n",
       "0       172    2017        1      NaN        1   8.510638      16.0       2.0   \n",
       "1         0    2017        1      2.0        1        NaN       NaN       1.0   \n",
       "2         6    2017        1      NaN        1  40.000000       4.0       1.0   \n",
       "3         4    2017        1      NaN        1  50.000000       4.0       2.0   \n",
       "4         0    2017        1      2.0        1        NaN       NaN       3.0   \n",
       "\n",
       "   NOCOUNTS  MONRACE  ...  STATMIN  PRESENT  MONSEX  OFFGUIDE  CHP3CHG1  \\\n",
       "0         1        1  ...     60.0      1.0     0.0        10       NaN   \n",
       "1         1        0  ...      0.0      1.0     1.0        17       NaN   \n",
       "2         1        0  ...      0.0      1.0     0.0        17       NaN   \n",
       "3         1        0  ...      0.0      1.0     0.0        17       NaN   \n",
       "4         1        0  ...      0.0      1.0     0.0        17       NaN   \n",
       "\n",
       "   CHP3CHG2  CHP3CHG3  CHP3CHG4  CHP3CHG5  CHP3CHG6  \n",
       "0       NaN       NaN       NaN       NaN       NaN  \n",
       "1       NaN       NaN       NaN       NaN       NaN  \n",
       "2       NaN       NaN       NaN       NaN       NaN  \n",
       "3       NaN       NaN       NaN       NaN       NaN  \n",
       "4       NaN       NaN       NaN       NaN       NaN  \n",
       "\n",
       "[5 rows x 33 columns]"
      ]
     },
     "execution_count": 2,
     "metadata": {},
     "output_type": "execute_result"
    }
   ],
   "source": [
    "df18to21 = pd.read_csv('../data/df18to21H.csv', index_col=0)\n",
    "df18to21.drop(columns=['Unnamed: 0'], inplace=True)\n",
    "df18to21.head()"
   ]
  },
  {
   "cell_type": "code",
   "execution_count": 3,
   "id": "1dd5980a-3cd6-46bc-9840-7ecd8ab9b43f",
   "metadata": {},
   "outputs": [
    {
     "name": "stdout",
     "output_type": "stream",
     "text": [
      "<class 'pandas.core.frame.DataFrame'>\n",
      "Int64Index: 267815 entries, 0 to 267814\n",
      "Data columns (total 33 columns):\n",
      " #   Column    Non-Null Count   Dtype  \n",
      "---  ------    --------------   -----  \n",
      " 0   TOTPRISN  267815 non-null  int64  \n",
      " 1   SENTYR    267815 non-null  int64  \n",
      " 2   SENTIMP   267815 non-null  int64  \n",
      " 3   RANGEPT   124419 non-null  float64\n",
      " 4   PRISDUM   267815 non-null  int64  \n",
      " 5   PCNTDEPT  132832 non-null  float64\n",
      " 6   MNTHDEPT  132832 non-null  float64\n",
      " 7   NUMDEPEN  238961 non-null  float64\n",
      " 8   NOCOUNTS  267815 non-null  int64  \n",
      " 9   MONRACE   267815 non-null  int64  \n",
      " 10  NEWEDUC   240580 non-null  float64\n",
      " 11  DISPOSIT  267815 non-null  int64  \n",
      " 12  CITIZEN   266223 non-null  float64\n",
      " 13  INOUT     73504 non-null   float64\n",
      " 14  DISTRICT  267815 non-null  int64  \n",
      " 15  SENTRNGE  266210 non-null  float64\n",
      " 16  CRIMHIST  260983 non-null  float64\n",
      " 17  COMBDRG2  80684 non-null   float64\n",
      " 18  CASETYPE  262990 non-null  float64\n",
      " 19  AGE       267615 non-null  float64\n",
      " 20  ACCAP     250824 non-null  float64\n",
      " 21  WEAPON    267815 non-null  int64  \n",
      " 22  STATMAX   259490 non-null  float64\n",
      " 23  STATMIN   259481 non-null  float64\n",
      " 24  PRESENT   253423 non-null  float64\n",
      " 25  MONSEX    267403 non-null  float64\n",
      " 26  OFFGUIDE  267815 non-null  int64  \n",
      " 27  CHP3CHG1  15977 non-null   float64\n",
      " 28  CHP3CHG2  1321 non-null    float64\n",
      " 29  CHP3CHG3  42 non-null      float64\n",
      " 30  CHP3CHG4  1 non-null       float64\n",
      " 31  CHP3CHG5  0 non-null       float64\n",
      " 32  CHP3CHG6  0 non-null       float64\n",
      "dtypes: float64(23), int64(10)\n",
      "memory usage: 69.5 MB\n"
     ]
    }
   ],
   "source": [
    "df18to21.info()"
   ]
  },
  {
   "cell_type": "code",
   "execution_count": 4,
   "id": "f42be373-f25b-4874-bd1a-0840246744cd",
   "metadata": {},
   "outputs": [],
   "source": [
    "df18to21['TOTPRISN'] = [840 if i >= 840 else i for i in df18to21['TOTPRISN']]"
   ]
  },
  {
   "cell_type": "markdown",
   "id": "e27f421b-95f5-4853-af16-e7ed65b4f05e",
   "metadata": {},
   "source": [
    "TOTPRISN indicates the sentencing lengths. Replacing all life sentences and sentencing lengths above 840 months, or 70 years, with 70 years for more coherent analysis and computation."
   ]
  },
  {
   "cell_type": "code",
   "execution_count": 5,
   "id": "01c8186c-7b4d-40db-93f1-c3c2ec185d33",
   "metadata": {},
   "outputs": [],
   "source": [
    "df18to21 = df18to21.drop(columns=['CHP3CHG1','CHP3CHG2','CHP3CHG3', 'CHP3CHG4', 'CHP3CHG5', 'CHP3CHG6', 'INOUT', 'SENTRNGE', \n",
    "                                  'STATMIN', 'STATMAX', 'MNTHDEPT', 'ACCAP'])"
   ]
  },
  {
   "cell_type": "markdown",
   "id": "aaef659c-ac04-41b2-9094-a4b5eb3cf204",
   "metadata": {},
   "source": [
    "Dropped these columns:\n",
    "- CHP3CHGX: contained more than 90% null values\n",
    "- INOUT: same as PRISDUM\n",
    "- SENTRNGE: similar to RANGEPT and less interpretable\n",
    "- STATMIN: unnecessary because of RANGEPT\n",
    "- STATMAX: unnecessary because of RANGEPT\n",
    "- MNTHDEPT: same as RANGEPT\n",
    "- ACCAP: unneccessary because of CRIMHIST"
   ]
  },
  {
   "cell_type": "code",
   "execution_count": 6,
   "id": "4b96f805-56ff-48a0-a2fa-e37edb23c543",
   "metadata": {},
   "outputs": [
    {
     "data": {
      "text/plain": [
       "2019    78754\n",
       "2018    71220\n",
       "2020    56955\n",
       "2021    44676\n",
       "2017    16210\n",
       "Name: SENTYR, dtype: int64"
      ]
     },
     "execution_count": 6,
     "metadata": {},
     "output_type": "execute_result"
    }
   ],
   "source": [
    "df18to21['SENTYR'].value_counts()"
   ]
  },
  {
   "cell_type": "code",
   "execution_count": 7,
   "id": "b3a5523d-f599-477c-8f93-acb2b151ea59",
   "metadata": {},
   "outputs": [],
   "source": [
    "df18to21 = df18to21.drop(df18to21[df18to21['SENTYR'] == 2017].index)"
   ]
  },
  {
   "cell_type": "markdown",
   "id": "e34a128f-5f33-4d6c-8bb3-f062c50ef36b",
   "metadata": {},
   "source": [
    "Dropped 16210 data values from 2017"
   ]
  },
  {
   "cell_type": "code",
   "execution_count": 8,
   "id": "1f7bf5c7-294e-4def-a2ad-215b8cbc3c40",
   "metadata": {},
   "outputs": [],
   "source": [
    "df18to21.rename(columns= {'TOTPRISN': 'sentence_length', 'SENTYR': 'year_sentenced', 'SENTIMP': 'sentence_type', 'RANGEPT': 'guideline_range', 'PRISDUM': 'imprisoned',\n",
    "                          'PCNTDEPT': 'guideline_var_pct', 'NUMDEPEN': 'dependents', 'NOCOUNTS': 'count_convictions', 'MONRACE': 'race', 'NEWEDUC': 'education', \n",
    "                          'DISPOSIT': 'disposition', 'CITIZEN': 'citizen', 'DISTRICT': 'state', 'CRIMHIST': 'criminal_hist', 'COMBDRG2': 'drug_type', \n",
    "                          'CASETYPE': 'case_type', 'AGE': 'age', 'WEAPON': 'weapon','PRESENT': 'presentence_stat', 'MONSEX': 'gender', 'OFFGUIDE': 'crime_type'}, inplace=True\n",
    ")"
   ]
  },
  {
   "cell_type": "code",
   "execution_count": 9,
   "id": "bb69c6b7-37ef-4ff5-8119-2c35ab80777a",
   "metadata": {},
   "outputs": [
    {
     "data": {
      "text/plain": [
       "0     144206\n",
       "2      49976\n",
       "1      48142\n",
       "3       4815\n",
       "4       3601\n",
       "7        563\n",
       "8        198\n",
       "5         87\n",
       "10        12\n",
       "9          5\n",
       "Name: race, dtype: int64"
      ]
     },
     "execution_count": 9,
     "metadata": {},
     "output_type": "execute_result"
    }
   ],
   "source": [
    "df18to21['race'].value_counts()"
   ]
  },
  {
   "cell_type": "markdown",
   "id": "de344572-4c04-466d-946d-a30636b599e6",
   "metadata": {},
   "source": [
    "**Race Dictionary**: \n",
    "\n",
    "|Column|Value|Description|\n",
    "|---|---|---|\n",
    "|**race**|0|Hispanic| \n",
    "|**race**|1|White/ Caucasian| \n",
    "|**race**|2|Black/ African American| \n",
    "|**race**|3|American Indian/ Alaskan Native| \n",
    "|**race**|4|Asian or Pacific Islander| \n",
    "|**race**|5|Multi- Racial| \n",
    "|**race**|7|Other| \n",
    "|**race**|8|Unknown| \n",
    "|**race**|9|Non- US American Indians| \n",
    "|**race**|10|American Indian Citizenship Unknown|"
   ]
  },
  {
   "cell_type": "code",
   "execution_count": 10,
   "id": "a985b893-ff0d-4f68-923c-20110e4fc981",
   "metadata": {},
   "outputs": [],
   "source": [
    "df18to21['race'] = df18to21['race'].replace(10,3)\n",
    "df18to21['race'] = df18to21['race'].replace(9,3)\n",
    "df18to21['race'] = df18to21['race'].replace(8,7)\n",
    "df18to21['race'] = df18to21['race'].replace(5,7)"
   ]
  },
  {
   "cell_type": "markdown",
   "id": "285eb960-1606-4bc4-b199-6935b3e2be9b",
   "metadata": {},
   "source": [
    "- Consolidated Non-US American Indians and American Indian Citizenship with American Indian\\Alaskan Native\n",
    "- Consolidated Multiracial and Unknown with Other"
   ]
  },
  {
   "cell_type": "code",
   "execution_count": 11,
   "id": "34cd718e-db7b-4246-b14b-576ddc919f11",
   "metadata": {},
   "outputs": [
    {
     "data": {
      "text/plain": [
       "1.0    144647\n",
       "3.0     94644\n",
       "2.0      7745\n",
       "4.0      2019\n",
       "5.0      1080\n",
       "Name: citizen, dtype: int64"
      ]
     },
     "execution_count": 11,
     "metadata": {},
     "output_type": "execute_result"
    }
   ],
   "source": [
    "df18to21['citizen'].value_counts()"
   ]
  },
  {
   "cell_type": "markdown",
   "id": "e057e2a3-b75b-4345-bbaa-a105151df758",
   "metadata": {},
   "source": [
    "**Citizen Dictionary**: \n",
    "\n",
    "|Column|Value|Description|\n",
    "|---|---|---|\n",
    "|**citizen**|1|US Citizen| \n",
    "|**citizen**|2|Resident/ Legal Alien| \n",
    "|**citizen**|3|Illegal Alien| \n",
    "|**citizen**|4|Not US Citizen/ Alien Status Unknown| \n",
    "|**citizen**|5|Extradited Alien| "
   ]
  },
  {
   "cell_type": "code",
   "execution_count": 12,
   "id": "8cc8ecfa-2a78-4a1f-826d-c16c4634bbc2",
   "metadata": {
    "tags": []
   },
   "outputs": [],
   "source": [
    "df18to21['citizen'] = [1 if (i == 1) else 0 for i in df18to21['citizen']]"
   ]
  },
  {
   "cell_type": "markdown",
   "id": "5338f740-bd8f-4783-a9b1-e6f3a63a347f",
   "metadata": {},
   "source": [
    "Adjusted citizen column to be binary. Citizen = 1 and not citizen = 0."
   ]
  },
  {
   "cell_type": "code",
   "execution_count": 13,
   "id": "47388e72-e074-40ee-b30e-ad7082f6bd1f",
   "metadata": {},
   "outputs": [
    {
     "data": {
      "text/plain": [
       "array([ 2., nan,  0.,  1.,  5.,  7.,  8.,  4.,  6.,  3., 10., 12.,  9.,\n",
       "       11., 13., 19., 14., 15., 18., 17., 20., 16., 41., 33., 27., 36.,\n",
       "       57., 55.])"
      ]
     },
     "execution_count": 13,
     "metadata": {},
     "output_type": "execute_result"
    }
   ],
   "source": [
    "df18to21['dependents'].unique()"
   ]
  },
  {
   "cell_type": "code",
   "execution_count": 14,
   "id": "34c77936-cde4-4cbf-843b-25152162c927",
   "metadata": {},
   "outputs": [],
   "source": [
    "df18to21['dependents'] = [0 if (i == 0) else 1 for i in df18to21['dependents']]"
   ]
  },
  {
   "cell_type": "markdown",
   "id": "357fc26f-1f38-465d-8251-0a2db0fafd33",
   "metadata": {},
   "source": [
    "Adjusted dependents column to be binary. Having dependents = 1 and not having dependents = 0."
   ]
  },
  {
   "cell_type": "code",
   "execution_count": 15,
   "id": "d382b1c4-2e5f-4dab-93ea-7400413b6166",
   "metadata": {},
   "outputs": [],
   "source": [
    "df18to21['drug_type'].fillna(0, inplace=True)"
   ]
  },
  {
   "cell_type": "markdown",
   "id": "052fe930-04d2-4cb0-812d-d4bdb8c57bcd",
   "metadata": {},
   "source": [
    "Filled all missing drug types values with 0 to represent not being a drug case"
   ]
  },
  {
   "cell_type": "code",
   "execution_count": 16,
   "id": "25e58509-e9b7-4fcc-8b5d-904a2831c6de",
   "metadata": {},
   "outputs": [
    {
     "data": {
      "text/plain": [
       "array([ 3.,  0.,  6.,  2.,  1., 77.,  4.,  7.])"
      ]
     },
     "execution_count": 16,
     "metadata": {},
     "output_type": "execute_result"
    }
   ],
   "source": [
    "df18to21['drug_type'].unique()"
   ]
  },
  {
   "cell_type": "markdown",
   "id": "39285975-f223-4e28-933e-d65998c2da06",
   "metadata": {},
   "source": [
    "**Drug Type Dictionary**: \n",
    "\n",
    "|Column|Value|Description|\n",
    "|---|---|---|\n",
    "|**drug_type**|1|Cocaine| \n",
    "|**drug_type**|2|Crack| \n",
    "|**drug_type**|3|Heroin| \n",
    "|**drug_type**|4|Marijuana| \n",
    "|**drug_type**|6|Methamphetamine| \n",
    "|**drug_type**|7|Fentanyl| \n",
    "|**drug_type**|77|Other| "
   ]
  },
  {
   "cell_type": "code",
   "execution_count": 17,
   "id": "9628f055-3c81-4cfa-a6c1-c3b43de26178",
   "metadata": {},
   "outputs": [
    {
     "data": {
      "text/plain": [
       "array([10, 17, 26, 13, 16,  7,  3, 21, 19,  4, 27, 12, 30, 29,  1, 11, 24,\n",
       "       25, 23, 15, 22,  9,  5,  6, 28, 18,  2, 20, 14,  8])"
      ]
     },
     "execution_count": 17,
     "metadata": {},
     "output_type": "execute_result"
    }
   ],
   "source": [
    "df18to21['crime_type'].unique()"
   ]
  },
  {
   "cell_type": "markdown",
   "id": "fdd444b3-3a2c-489c-a11f-5fd70c109e8b",
   "metadata": {},
   "source": [
    "**Crime Type Dictionary**: \n",
    "\n",
    "|Column|Value|Description|\n",
    "|---|---|---|\n",
    "|**crime_type**|1|Administration of Justice| \n",
    "|**crime_type**|2|Antitrust| \n",
    "|**crime_type**|3|Arson| \n",
    "|**crime_type**|4|Assault| \n",
    "|**crime_type**|5|Bribery/Corruption| \n",
    "|**crime_type**|6|Burglary/Trespass| \n",
    "|**crime_type**|7|Child Pornography| \n",
    "|**crime_type**|8|Commercialized Vice| \n",
    "|**crime_type**|9|Drug Possession| \n",
    "|**crime_type**|10|Drug Trafficking| \n",
    "|**crime_type**|11|Environmental| \n",
    "|**crime_type**|12|Extortion/Racketeering| \n",
    "|**crime_type**|13|Firearms| \n",
    "|**crime_type**|14|Food and Drug| \n",
    "|**crime_type**|15|Forgery/Counter/Copyright| \n",
    "|**crime_type**|16|Fraud/Theft/Embezzlement| \n",
    "|**crime_type**|17|Immigration| \n",
    "|**crime_type**|18|Individual Rights| \n",
    "|**crime_type**|19|Kidnapping| \n",
    "|**crime_type**|20|Manslaughter| \n",
    "|**crime_type**|21|Money Launder| \n",
    "|**crime_type**|22|Murder| \n",
    "|**crime_type**|23|National Defense| \n",
    "|**crime_type**|24|Obscenity/Other Sex Offenses| \n",
    "|**crime_type**|25|Prison Offenses| \n",
    "|**crime_type**|26|Robbery| \n",
    "|**crime_type**|27|Sex Abuse| \n",
    "|**crime_type**|28|Stalking/Harassing| \n",
    "|**crime_type**|29|Tax| \n",
    "|**crime_type**|30|Other| "
   ]
  },
  {
   "cell_type": "code",
   "execution_count": 18,
   "id": "8f1c1762-f526-4438-bf96-67bd0b10eccb",
   "metadata": {},
   "outputs": [
    {
     "data": {
      "text/plain": [
       "0    17\n",
       "Name: crime_type, dtype: int64"
      ]
     },
     "execution_count": 18,
     "metadata": {},
     "output_type": "execute_result"
    }
   ],
   "source": [
    "df18to21['crime_type'].mode()"
   ]
  },
  {
   "cell_type": "markdown",
   "id": "11eb5b38-274c-4172-b063-57df4ff4726c",
   "metadata": {},
   "source": [
    "The most frequent crime type is Immigration"
   ]
  },
  {
   "cell_type": "code",
   "execution_count": 19,
   "id": "91f13fcc-9018-4700-8175-b6a74390194a",
   "metadata": {},
   "outputs": [],
   "source": [
    "state_dict = {0:'Maine',1:'Massachusetts',2:'New Hampshire',3:'Rhode Island',4:'Puerto Rico',5:'Connecticut',\\\n",
    "6:'New York',7:'New York',8:'New York',9:'New York',10:'Vermont',11:'Delaware',12:'New Jersey',\\\n",
    "13:'Pennsylvania',14:'Pennsylvania',15:'Pennsylvania',16:'Maryland',17:'North Carolina',18:'North Carolina',\\\n",
    "19:'North Carolina',20:'South Carolina',22:'Virginia',23:'Virginia',24:'West Virginia',25:'West Virginia',\\\n",
    "26:'Alabama',27:'Alabama',28:'Alabama',29:'Florida',30:'Florida',31:'Florida',32:'Georgia',33:'Georgia',\\\n",
    "34:'Georgia',35:'Louisiana',36:'Louisiana',37:'Mississippi',38:'Mississippi',39:'Texas',40:'Texas',41:'Texas',\\\n",
    "42:'Texas',43:'Kentucky',44:'Kentucky',45:'Michigan',46:'Michigan',47:'Ohio',48:'Ohio',49:'Tennessee',50:'Tennessee',\\\n",
    "51:'Tennessee',52:'Illinois',53:'Illinois',54:'Illinois',55:'Indiana',56:'Indiana',57:'Wisconsin',58:'Wisconsin',\\\n",
    "60:'Arkansas',61:'Arkansas',62:'Iowa',63:'Iowa',64:'Minnesota',65:'Missouri',66:'Missouri',67:'Nebraska',\\\n",
    "68:'North Dakota',69:'South Dakota',70:'Arizona',71:'California',72:'California',73:'California',74:'California',\\\n",
    "75:'Hawaii',76:'Idaho',77:'Montana',78:'Nevada',79:'Oregon',80:'Washington',81:'Washington',82:'Colorado',83:'Kansas',\\\n",
    "84:'New Mexico',85:'Oklahoma',86:'Oklahoma',87:'Oklahoma',88:'Utah',89:'Wyoming',90:'District of Columbia',91:'Virgin Islands',\\\n",
    "93:'Guam',94:'North Mariana Islands',95:'Alaska',96:'Louisiana'}\n",
    "\n",
    "df18to21['state'] = [state_dict.get(i) for i in df18to21['state']]"
   ]
  },
  {
   "cell_type": "markdown",
   "id": "15b0d085-dc9a-48bf-a7c4-bc12203462c9",
   "metadata": {},
   "source": [
    "Replace numeric district with state name"
   ]
  },
  {
   "cell_type": "code",
   "execution_count": 20,
   "id": "1fbd2c85-4ef7-4f72-ad12-c45770586d8d",
   "metadata": {},
   "outputs": [],
   "source": [
    "region_dict = {'Connecticut':'Northeast', 'Maine':'Northeast', 'Massachusetts':'Northeast',\\\n",
    "'New Hampshire':'Northeast', 'Rhode Island':'Northeast', 'Vermont':'Northeast',\\\n",
    "'Delaware':'South', 'Maryland':'South', 'New Jersey':'Northeast',\\\n",
    "'New York':'Northeast', 'Pennsylvania':'Northeast','District of Columbia':'South',\\\n",
    "'Alabama':'South', 'Arkansas':'South', 'Florida':'South', 'Georgia':'South', 'Kentucky':'South',\\\n",
    "'Louisiana':'South', 'Mississippi':'South', 'Missouri':'South',\\\n",
    "'North Carolina':'South', 'South Carolina':'South', 'Tennessee':'South',\\\n",
    "'Virginia':'South', 'West Virginia':'South',\\\n",
    "'Illinois':'Midwest', 'Indiana':'Midwest', 'Iowa':'Midwest', 'Kansas':'Midwest',\\\n",
    "'Michigan':'Midwest', 'Minnesota':'Midwest', 'Nebraska':'Midwest',\\\n",
    "'North Dakota':'Midwest', 'Ohio':'Midwest', 'South Dakota':'Midwest', 'Wisconsin':'Midwest',\\\n",
    "'Arizona':'West', 'New Mexico':'West', 'Oklahoma':'South', 'Texas':'South',\\\n",
    "'Alaska':'West', 'California':'West', 'Colorado':'West', 'Hawaii':'West',\\\n",
    "'Idaho':'West', 'Montana':'West', 'Nevada':'West', 'Oregon':'West', 'Utah':'West',\\\n",
    "'Washington':'West', 'Wyoming':'West'}\n",
    "\n",
    "df18to21['region'] = [region_dict.get(i) for i in df18to21['state']]"
   ]
  },
  {
   "cell_type": "markdown",
   "id": "fbf3b748-6ff2-4fc8-9805-b751a6be9abc",
   "metadata": {},
   "source": [
    "Categorize states to respective regions and add column for analysis"
   ]
  },
  {
   "cell_type": "code",
   "execution_count": 21,
   "id": "2f97d4d2-191f-4473-9b4e-b7eefde64a34",
   "metadata": {},
   "outputs": [],
   "source": [
    "df18to21 = df18to21[df18to21['region'].notnull()]"
   ]
  },
  {
   "cell_type": "code",
   "execution_count": 22,
   "id": "093b9383-2e27-489e-80ed-bc27c0ed3c8a",
   "metadata": {},
   "outputs": [],
   "source": [
    "df18to21['college'] = [1 if (i == 5) or (i == 6) else 0  for i in df18to21['education']]\n",
    "df18to21.drop(columns=['education'], inplace=True)"
   ]
  },
  {
   "cell_type": "markdown",
   "id": "f4185060-1b6a-47e5-b10d-257fcac62b2e",
   "metadata": {},
   "source": [
    "Created a college column to adjust education values into binary values. Some college = 1 and no college = 0. This indicates whether a defendant has attended any college, or they have not."
   ]
  },
  {
   "cell_type": "code",
   "execution_count": 23,
   "id": "f9e1c8b4-349d-4743-9353-b1ce66879808",
   "metadata": {},
   "outputs": [],
   "source": [
    "df18to21['white'] = [1 if (i == 1) else 0  for i in df18to21['race']]"
   ]
  },
  {
   "cell_type": "markdown",
   "id": "716b7f6e-66fc-48f9-a304-c3fb24f228fd",
   "metadata": {},
   "source": [
    "Created a white column to adjust race values into binary values. White race = 1 and all else = 0."
   ]
  },
  {
   "cell_type": "code",
   "execution_count": 24,
   "id": "430c6287-feea-4e74-b1d2-eb9c06b69922",
   "metadata": {},
   "outputs": [],
   "source": [
    "census20 = pd.read_csv('../data/census_20.csv')\n",
    "census20 = census20.rename(columns={'total_pop':'2020_pop','white_pop':'2020_whitepop','white_perc':'2020_white_per'})"
   ]
  },
  {
   "cell_type": "markdown",
   "id": "a26ea2b0-b945-4ded-9a53-f41f170d461c",
   "metadata": {},
   "source": [
    "Reading in data from the 2020 U.S. Census to ananlyze the total population and total White population in each U.S. state. This data was binarized into those the Census determined to be White, and those the Census determined to not be 100% White. These figures would then be analyzed against the figures the U.S. Sentencing Commission determined to be white. Due to the way the respective agencies arrive at an assessment of an individual's race, it was necessary to binarize the data in this way."
   ]
  },
  {
   "cell_type": "code",
   "execution_count": 25,
   "id": "e8536eea-c893-4695-873b-83defd3d6857",
   "metadata": {},
   "outputs": [],
   "source": [
    "census20['2020_minority_per'] = [1 - i for i in census20['2020_white_per']]\n",
    "data = pd.read_csv('../data/df18to21_cleanedH.csv', index_col=0)\n",
    "conv_count = pd.DataFrame(data.groupby('state')['age'].count())\n",
    "conv_count = conv_count.rename(columns={'age':'conv_18to21'})"
   ]
  },
  {
   "cell_type": "code",
   "execution_count": 26,
   "id": "8de9f507-c5fe-4f84-a325-a25fa06a83df",
   "metadata": {},
   "outputs": [],
   "source": [
    "census20 = pd.merge(census20,conv_count,how='inner',on='state')\n",
    "census20['conv_per100K'] = round(census20['conv_18to21'] / (census20['2020_pop']/100000),0)\n",
    "conv_perc = pd.DataFrame(data.groupby('state')['white'].mean())\n",
    "conv_perc['minority'] = 1 - conv_perc['white']\n",
    "census20 = pd.merge(census20,conv_perc,how='inner',on='state')\n",
    "census20 = census20.rename(columns={'white':'conv_white_per','minority':'conv_minority_per'},)"
   ]
  },
  {
   "cell_type": "markdown",
   "id": "8f5150bf-7456-464a-8c6f-4e532023fecb",
   "metadata": {},
   "source": [
    "Merging dataframes with data for:\n",
    "* 2020 Census figures for total population by state \n",
    "* 2020 Census figures for White population by state\n",
    "* 2018-2021 total federal convictions by state\n",
    "* 2018-2021 total federal convictions, White offenders, by state"
   ]
  },
  {
   "cell_type": "code",
   "execution_count": 27,
   "id": "8f14419e-ca48-49fe-be91-fb63f3520065",
   "metadata": {},
   "outputs": [],
   "source": [
    "census20['by_white_pop'] = census20['2020_white_per'] - census20['conv_white_per']\n",
    "census20['by_minority_pop'] = census20['2020_minority_per'] - census20['conv_minority_per']"
   ]
  },
  {
   "cell_type": "markdown",
   "id": "3c5b2140-3593-455e-869a-8924adf75bb9",
   "metadata": {},
   "source": [
    "Calculating the disparity between a state's White population, and the White population of its federal offenders."
   ]
  },
  {
   "cell_type": "code",
   "execution_count": 28,
   "id": "c7f82d27-b8cf-4903-81f5-758772eb7a6d",
   "metadata": {},
   "outputs": [],
   "source": [
    "census20.to_csv('../data/population.csv',index=False)"
   ]
  },
  {
   "cell_type": "code",
   "execution_count": 29,
   "id": "28735b79-751e-4a2a-9a90-6c4df8b734fb",
   "metadata": {},
   "outputs": [
    {
     "data": {
      "text/html": [
       "<div>\n",
       "<style scoped>\n",
       "    .dataframe tbody tr th:only-of-type {\n",
       "        vertical-align: middle;\n",
       "    }\n",
       "\n",
       "    .dataframe tbody tr th {\n",
       "        vertical-align: top;\n",
       "    }\n",
       "\n",
       "    .dataframe thead th {\n",
       "        text-align: right;\n",
       "    }\n",
       "</style>\n",
       "<table border=\"1\" class=\"dataframe\">\n",
       "  <thead>\n",
       "    <tr style=\"text-align: right;\">\n",
       "      <th></th>\n",
       "      <th>state</th>\n",
       "      <th>2020_pop</th>\n",
       "      <th>2020_whitepop</th>\n",
       "      <th>2020_white_per</th>\n",
       "      <th>2020_minority_per</th>\n",
       "      <th>conv_18to21</th>\n",
       "      <th>conv_per100K</th>\n",
       "      <th>conv_white_per</th>\n",
       "      <th>conv_minority_per</th>\n",
       "      <th>by_white_pop</th>\n",
       "      <th>by_minority_pop</th>\n",
       "    </tr>\n",
       "  </thead>\n",
       "  <tbody>\n",
       "    <tr>\n",
       "      <th>0</th>\n",
       "      <td>Alabama</td>\n",
       "      <td>3917166</td>\n",
       "      <td>2595046</td>\n",
       "      <td>0.66248</td>\n",
       "      <td>0.33752</td>\n",
       "      <td>3667</td>\n",
       "      <td>94.0</td>\n",
       "      <td>0.341969</td>\n",
       "      <td>0.658031</td>\n",
       "      <td>0.320512</td>\n",
       "      <td>-0.320512</td>\n",
       "    </tr>\n",
       "    <tr>\n",
       "      <th>1</th>\n",
       "      <td>Alaska</td>\n",
       "      <td>554003</td>\n",
       "      <td>349626</td>\n",
       "      <td>0.63109</td>\n",
       "      <td>0.36891</td>\n",
       "      <td>612</td>\n",
       "      <td>110.0</td>\n",
       "      <td>0.459150</td>\n",
       "      <td>0.540850</td>\n",
       "      <td>0.171940</td>\n",
       "      <td>-0.171940</td>\n",
       "    </tr>\n",
       "  </tbody>\n",
       "</table>\n",
       "</div>"
      ],
      "text/plain": [
       "     state  2020_pop  2020_whitepop  2020_white_per  2020_minority_per  \\\n",
       "0  Alabama   3917166        2595046         0.66248            0.33752   \n",
       "1   Alaska    554003         349626         0.63109            0.36891   \n",
       "\n",
       "   conv_18to21  conv_per100K  conv_white_per  conv_minority_per  by_white_pop  \\\n",
       "0         3667          94.0        0.341969           0.658031      0.320512   \n",
       "1          612         110.0        0.459150           0.540850      0.171940   \n",
       "\n",
       "   by_minority_pop  \n",
       "0        -0.320512  \n",
       "1        -0.171940  "
      ]
     },
     "execution_count": 29,
     "metadata": {},
     "output_type": "execute_result"
    }
   ],
   "source": [
    "census20.head(2)"
   ]
  },
  {
   "cell_type": "code",
   "execution_count": 30,
   "id": "2220da51-3ece-4c6c-9d74-881ea2dfcefb",
   "metadata": {},
   "outputs": [],
   "source": [
    "df18to21_cleanedH = df18to21.copy(deep=True)"
   ]
  },
  {
   "cell_type": "code",
   "execution_count": 31,
   "id": "accf4f3b-dda6-444e-b427-a4b7387dff24",
   "metadata": {},
   "outputs": [],
   "source": [
    "df18to21_cleanedH['age'].fillna(df18to21_cleanedH['age'].mean(), inplace=True)  \n",
    "df18to21_cleanedH['criminal_hist'].fillna(df18to21_cleanedH['criminal_hist'].mode()[0], inplace=True)    \n",
    "df18to21_cleanedH['case_type'].fillna(df18to21_cleanedH['case_type'].mode()[0], inplace=True)    \n",
    "df18to21_cleanedH['gender'].fillna(df18to21_cleanedH['gender'].mode()[0], inplace=True)   \n",
    "df18to21_cleanedH['guideline_range'].fillna(0, inplace=True)\n",
    "df18to21_cleanedH['guideline_var_pct'].fillna(0, inplace=True)\n",
    "df18to21_cleanedH['drug_type'].fillna(0, inplace=True)\n",
    "df18to21_cleanedH['presentence_stat'].fillna(1, inplace=True)"
   ]
  },
  {
   "cell_type": "markdown",
   "id": "2f4ae1f3-5b8d-4eee-b5ed-dfd096abf0f6",
   "metadata": {},
   "source": [
    "Strategy for dealing with null values: \n",
    "- 'age' - impute with mean\n",
    "- 'criminal_hist' - impute with mode\n",
    "- 'case_type' - impute with mode\n",
    "- 'gender' - impute with mode\n",
    "- 'guideline_range' - impute with 0\n",
    "- 'guideline_var_pct' - impute with 0\n",
    "- 'drug_type' - impute with 0\n",
    "- 'presentence_stat' - impute with 1"
   ]
  },
  {
   "cell_type": "code",
   "execution_count": 32,
   "id": "87804419-e94f-442c-a691-976970aff7a2",
   "metadata": {},
   "outputs": [],
   "source": [
    "df18to21_cleanedH.to_csv('../data/df18to21_cleanedH.csv', index=False)"
   ]
  },
  {
   "cell_type": "code",
   "execution_count": 33,
   "id": "31f92c7c-24b7-4ada-ab9b-e1a5c3a8183d",
   "metadata": {},
   "outputs": [
    {
     "name": "stdout",
     "output_type": "stream",
     "text": [
      "<class 'pandas.core.frame.DataFrame'>\n",
      "Int64Index: 247555 entries, 12990 to 267814\n",
      "Data columns (total 23 columns):\n",
      " #   Column             Non-Null Count   Dtype  \n",
      "---  ------             --------------   -----  \n",
      " 0   sentence_length    247555 non-null  int64  \n",
      " 1   year_sentenced     247555 non-null  int64  \n",
      " 2   sentence_type      247555 non-null  int64  \n",
      " 3   guideline_range    247555 non-null  float64\n",
      " 4   imprisoned         247555 non-null  int64  \n",
      " 5   guideline_var_pct  247555 non-null  float64\n",
      " 6   dependents         247555 non-null  int64  \n",
      " 7   count_convictions  247555 non-null  int64  \n",
      " 8   race               247555 non-null  int64  \n",
      " 9   disposition        247555 non-null  int64  \n",
      " 10  citizen            247555 non-null  int64  \n",
      " 11  state              247555 non-null  object \n",
      " 12  criminal_hist      247555 non-null  float64\n",
      " 13  drug_type          247555 non-null  float64\n",
      " 14  case_type          247555 non-null  float64\n",
      " 15  age                247555 non-null  float64\n",
      " 16  weapon             247555 non-null  int64  \n",
      " 17  presentence_stat   247555 non-null  float64\n",
      " 18  gender             247555 non-null  float64\n",
      " 19  crime_type         247555 non-null  int64  \n",
      " 20  region             247555 non-null  object \n",
      " 21  college            247555 non-null  int64  \n",
      " 22  white              247555 non-null  int64  \n",
      "dtypes: float64(8), int64(13), object(2)\n",
      "memory usage: 45.3+ MB\n"
     ]
    }
   ],
   "source": [
    "df18to21_cleanedH.info()"
   ]
  },
  {
   "cell_type": "code",
   "execution_count": 34,
   "id": "af11d756-551e-4b9e-a8b0-b5babd7de18c",
   "metadata": {},
   "outputs": [
    {
     "data": {
      "text/html": [
       "<div>\n",
       "<style scoped>\n",
       "    .dataframe tbody tr th:only-of-type {\n",
       "        vertical-align: middle;\n",
       "    }\n",
       "\n",
       "    .dataframe tbody tr th {\n",
       "        vertical-align: top;\n",
       "    }\n",
       "\n",
       "    .dataframe thead th {\n",
       "        text-align: right;\n",
       "    }\n",
       "</style>\n",
       "<table border=\"1\" class=\"dataframe\">\n",
       "  <thead>\n",
       "    <tr style=\"text-align: right;\">\n",
       "      <th></th>\n",
       "      <th>sentence_length</th>\n",
       "      <th>year_sentenced</th>\n",
       "      <th>sentence_type</th>\n",
       "      <th>guideline_range</th>\n",
       "      <th>imprisoned</th>\n",
       "      <th>guideline_var_pct</th>\n",
       "      <th>dependents</th>\n",
       "      <th>count_convictions</th>\n",
       "      <th>race</th>\n",
       "      <th>disposition</th>\n",
       "      <th>...</th>\n",
       "      <th>drug_type</th>\n",
       "      <th>case_type</th>\n",
       "      <th>age</th>\n",
       "      <th>weapon</th>\n",
       "      <th>presentence_stat</th>\n",
       "      <th>gender</th>\n",
       "      <th>crime_type</th>\n",
       "      <th>region</th>\n",
       "      <th>college</th>\n",
       "      <th>white</th>\n",
       "    </tr>\n",
       "  </thead>\n",
       "  <tbody>\n",
       "    <tr>\n",
       "      <th>12990</th>\n",
       "      <td>188</td>\n",
       "      <td>2018</td>\n",
       "      <td>1</td>\n",
       "      <td>1.0</td>\n",
       "      <td>1</td>\n",
       "      <td>0.0</td>\n",
       "      <td>1</td>\n",
       "      <td>1</td>\n",
       "      <td>0</td>\n",
       "      <td>3</td>\n",
       "      <td>...</td>\n",
       "      <td>3.0</td>\n",
       "      <td>1.0</td>\n",
       "      <td>24.0</td>\n",
       "      <td>0</td>\n",
       "      <td>1.0</td>\n",
       "      <td>0.0</td>\n",
       "      <td>10</td>\n",
       "      <td>West</td>\n",
       "      <td>0</td>\n",
       "      <td>0</td>\n",
       "    </tr>\n",
       "    <tr>\n",
       "      <th>14616</th>\n",
       "      <td>0</td>\n",
       "      <td>2018</td>\n",
       "      <td>1</td>\n",
       "      <td>0.0</td>\n",
       "      <td>1</td>\n",
       "      <td>0.0</td>\n",
       "      <td>1</td>\n",
       "      <td>1</td>\n",
       "      <td>0</td>\n",
       "      <td>1</td>\n",
       "      <td>...</td>\n",
       "      <td>0.0</td>\n",
       "      <td>1.0</td>\n",
       "      <td>28.0</td>\n",
       "      <td>0</td>\n",
       "      <td>1.0</td>\n",
       "      <td>0.0</td>\n",
       "      <td>17</td>\n",
       "      <td>South</td>\n",
       "      <td>0</td>\n",
       "      <td>0</td>\n",
       "    </tr>\n",
       "  </tbody>\n",
       "</table>\n",
       "<p>2 rows × 23 columns</p>\n",
       "</div>"
      ],
      "text/plain": [
       "       sentence_length  year_sentenced  sentence_type  guideline_range  \\\n",
       "12990              188            2018              1              1.0   \n",
       "14616                0            2018              1              0.0   \n",
       "\n",
       "       imprisoned  guideline_var_pct  dependents  count_convictions  race  \\\n",
       "12990           1                0.0           1                  1     0   \n",
       "14616           1                0.0           1                  1     0   \n",
       "\n",
       "       disposition  ...  drug_type case_type   age  weapon  presentence_stat  \\\n",
       "12990            3  ...        3.0       1.0  24.0       0               1.0   \n",
       "14616            1  ...        0.0       1.0  28.0       0               1.0   \n",
       "\n",
       "       gender  crime_type  region  college  white  \n",
       "12990     0.0          10    West        0      0  \n",
       "14616     0.0          17   South        0      0  \n",
       "\n",
       "[2 rows x 23 columns]"
      ]
     },
     "execution_count": 34,
     "metadata": {},
     "output_type": "execute_result"
    }
   ],
   "source": [
    "df18to21_cleanedH.head(2)"
   ]
  },
  {
   "cell_type": "markdown",
   "id": "a48f0a94-38b1-4d17-bb0e-c1858ad1e990",
   "metadata": {},
   "source": [
    "## Hispanic Offenders (Majority Class)"
   ]
  },
  {
   "cell_type": "code",
   "execution_count": 35,
   "id": "66c53eba-c3eb-4a45-bc8f-164867b68335",
   "metadata": {},
   "outputs": [],
   "source": [
    "hisp_defendants = df18to21_cleanedH[df18to21_cleanedH['race'] == 0]"
   ]
  },
  {
   "cell_type": "code",
   "execution_count": 36,
   "id": "e05f947b-1b8f-4caa-abea-09460c081d80",
   "metadata": {},
   "outputs": [
    {
     "data": {
      "text/plain": [
       "17    0.625424\n",
       "10    0.217949\n",
       "13    0.040597\n",
       "16    0.037666\n",
       "21    0.012636\n",
       "Name: crime_type, dtype: float64"
      ]
     },
     "execution_count": 36,
     "metadata": {},
     "output_type": "execute_result"
    }
   ],
   "source": [
    "hisp_defendants['crime_type'].value_counts(normalize=True)[:5]"
   ]
  },
  {
   "cell_type": "markdown",
   "id": "a9589c31-72bc-44f8-a48e-35ac712be672",
   "metadata": {},
   "source": [
    "62% of the Hispanic offenders were convicted on immigration charges."
   ]
  },
  {
   "cell_type": "code",
   "execution_count": 37,
   "id": "20482ba0-dae4-4aac-aa11-88bcad25c228",
   "metadata": {},
   "outputs": [
    {
     "data": {
      "text/plain": [
       "Texas         0.518577\n",
       "Arizona       0.136422\n",
       "New Mexico    0.104364\n",
       "California    0.078529\n",
       "Florida       0.028963\n",
       "Name: state, dtype: float64"
      ]
     },
     "execution_count": 37,
     "metadata": {},
     "output_type": "execute_result"
    }
   ],
   "source": [
    "hisp_defendants[(hisp_defendants['crime_type'] == 17)]['state'].value_counts(normalize=True)[:5]"
   ]
  },
  {
   "cell_type": "markdown",
   "id": "c85fb5a7-a2d0-485f-8168-3b1b57747e50",
   "metadata": {},
   "source": [
    "Of these offenders arrested for immigration charges, ~84% of these convictions took place in the Southwest states of Texas, Arizona, New Mexico and California."
   ]
  },
  {
   "cell_type": "code",
   "execution_count": 38,
   "id": "e84d513c-98f6-49a5-8471-b417da792d09",
   "metadata": {},
   "outputs": [
    {
     "data": {
      "text/plain": [
       "count    87904.000000\n",
       "mean         8.123658\n",
       "std         13.969553\n",
       "min          0.000000\n",
       "25%          0.000000\n",
       "50%          0.000000\n",
       "75%         12.000000\n",
       "max        840.000000\n",
       "Name: sentence_length, dtype: float64"
      ]
     },
     "execution_count": 38,
     "metadata": {},
     "output_type": "execute_result"
    }
   ],
   "source": [
    "hisp_defendants[hisp_defendants['crime_type'] == 17]['sentence_length'].describe()"
   ]
  },
  {
   "cell_type": "markdown",
   "id": "e5d90960-25c1-4251-9b8d-b3c30f5ef598",
   "metadata": {},
   "source": [
    "The mean sentence length for Hispanic offenders whose primary offense is immigration-related is 8.12 years, with a third quartile equaling 12 years."
   ]
  },
  {
   "cell_type": "code",
   "execution_count": 39,
   "id": "80cc8618-4a08-46cf-a0d0-1653f45d8b04",
   "metadata": {},
   "outputs": [
    {
     "data": {
      "text/plain": [
       "count    2873.000000\n",
       "mean       10.267316\n",
       "std        15.531044\n",
       "min         0.000000\n",
       "25%         0.000000\n",
       "50%         6.000000\n",
       "75%        15.000000\n",
       "max       262.000000\n",
       "Name: sentence_length, dtype: float64"
      ]
     },
     "execution_count": 39,
     "metadata": {},
     "output_type": "execute_result"
    }
   ],
   "source": [
    "df18to21_cleanedH[(df18to21_cleanedH['crime_type'] == 17) & (df18to21_cleanedH['race'] != 0)]['sentence_length'].describe()"
   ]
  },
  {
   "cell_type": "markdown",
   "id": "e91d3c47-f626-4bc9-8649-8173a6bf2c9c",
   "metadata": {},
   "source": [
    "The mean sentence length for non-Hispanic defendants whose primary offense is immigration-related is 10.26 years."
   ]
  },
  {
   "cell_type": "markdown",
   "id": "b4db764b-35b7-4951-a8f6-8ae6c9b40a32",
   "metadata": {},
   "source": [
    "## Immigration Offenses in Border States"
   ]
  },
  {
   "cell_type": "code",
   "execution_count": 40,
   "id": "1f3764ee-8143-4a43-a01a-79a7aa070fea",
   "metadata": {
    "tags": []
   },
   "outputs": [
    {
     "data": {
      "text/plain": [
       "17    0.689446\n",
       "10    0.168408\n",
       "13    0.045658\n",
       "16    0.030647\n",
       "21    0.008115\n",
       "Name: crime_type, dtype: float64"
      ]
     },
     "execution_count": 40,
     "metadata": {},
     "output_type": "execute_result"
    }
   ],
   "source": [
    "df18to21_cleanedH[df18to21_cleanedH['state']=='Texas']['crime_type'].value_counts(normalize=True)[:5]"
   ]
  },
  {
   "cell_type": "code",
   "execution_count": 41,
   "id": "7be3627a-f7ce-4110-b531-ae8e80179149",
   "metadata": {},
   "outputs": [
    {
     "data": {
      "text/plain": [
       "17    0.697430\n",
       "10    0.124972\n",
       "16    0.035896\n",
       "9     0.032019\n",
       "4     0.023654\n",
       "Name: crime_type, dtype: float64"
      ]
     },
     "execution_count": 41,
     "metadata": {},
     "output_type": "execute_result"
    }
   ],
   "source": [
    "df18to21_cleanedH[df18to21_cleanedH['state']=='Arizona']['crime_type'].value_counts(normalize=True)[:5]"
   ]
  },
  {
   "cell_type": "code",
   "execution_count": 42,
   "id": "5d01e5ff-b604-43a8-b6d3-4da75013b0a6",
   "metadata": {},
   "outputs": [
    {
     "data": {
      "text/plain": [
       "17    0.798140\n",
       "10    0.094988\n",
       "13    0.030744\n",
       "16    0.013865\n",
       "4     0.011454\n",
       "Name: crime_type, dtype: float64"
      ]
     },
     "execution_count": 42,
     "metadata": {},
     "output_type": "execute_result"
    }
   ],
   "source": [
    "df18to21_cleanedH[df18to21_cleanedH['state']=='New Mexico']['crime_type'].value_counts(normalize=True)[:5]"
   ]
  },
  {
   "cell_type": "code",
   "execution_count": 43,
   "id": "cf0cfbdf-ae35-4194-8b44-36e6fa071d7a",
   "metadata": {},
   "outputs": [
    {
     "data": {
      "text/plain": [
       "10    0.376471\n",
       "17    0.354152\n",
       "16    0.091552\n",
       "13    0.056596\n",
       "21    0.021351\n",
       "Name: crime_type, dtype: float64"
      ]
     },
     "execution_count": 43,
     "metadata": {},
     "output_type": "execute_result"
    }
   ],
   "source": [
    "df18to21_cleanedH[df18to21_cleanedH['state']=='California']['crime_type'].value_counts(normalize=True)[:5]"
   ]
  },
  {
   "cell_type": "markdown",
   "id": "11d69fa6-8b88-4b68-aa2a-8c0a403ec932",
   "metadata": {},
   "source": [
    "Immigration offenses are the primary offense for over 68% of defendants in Texas and Arizona. That figure is 79.8% in New Mexico."
   ]
  },
  {
   "cell_type": "markdown",
   "id": "d1faaf57-c151-461c-bc8a-f9f1af172db2",
   "metadata": {},
   "source": [
    "## Immigration Offenses by Year"
   ]
  },
  {
   "cell_type": "markdown",
   "id": "c0271b86-25b5-4fd2-b1bc-de52fb179745",
   "metadata": {},
   "source": [
    "The number of defendants charged with immigration offenses fell with the onset of the pandemic, as the U.S. government insituted changes to policy regarding migrants, which may have caused fewer migrants to attempt to cross the southern U.S. border.\n",
    "\n",
    "https://www.axios.com/2022/03/30/title-42-covid-border-policy-ends-border-surge-immigration"
   ]
  },
  {
   "cell_type": "code",
   "execution_count": 44,
   "id": "863cb349-61a1-4039-a2e3-50c2669bf02e",
   "metadata": {},
   "outputs": [
    {
     "data": {
      "text/plain": [
       "year_sentenced\n",
       "2018    25150\n",
       "2019    30725\n",
       "2020    21761\n",
       "2021    13141\n",
       "Name: age, dtype: int64"
      ]
     },
     "execution_count": 44,
     "metadata": {},
     "output_type": "execute_result"
    }
   ],
   "source": [
    "df18to21_cleanedH[(df18to21_cleanedH['crime_type'] == 17)].groupby('year_sentenced')['age'].count()"
   ]
  },
  {
   "cell_type": "markdown",
   "id": "3e5107be-ecf5-4a3a-8554-28d2be2a30c9",
   "metadata": {},
   "source": [
    "## Convictions by Year"
   ]
  },
  {
   "cell_type": "code",
   "execution_count": 45,
   "id": "0e444891-087c-43d4-a5c9-a3d909d46441",
   "metadata": {
    "tags": []
   },
   "outputs": [
    {
     "data": {
      "text/plain": [
       "year_sentenced\n",
       "2018    70194\n",
       "2019    77430\n",
       "2020    56039\n",
       "2021    43892\n",
       "Name: age, dtype: int64"
      ]
     },
     "execution_count": 45,
     "metadata": {},
     "output_type": "execute_result"
    }
   ],
   "source": [
    "df18to21_cleanedH.groupby('year_sentenced')['age'].count()"
   ]
  },
  {
   "cell_type": "markdown",
   "id": "8e714b8d-9505-48a2-b666-60eaf2f620f7",
   "metadata": {
    "tags": []
   },
   "source": [
    "Convictions by year decreased post-pandemic."
   ]
  },
  {
   "cell_type": "code",
   "execution_count": 46,
   "id": "a82ea3f0-1522-42de-afee-25e9907db52d",
   "metadata": {},
   "outputs": [
    {
     "data": {
      "text/plain": [
       "year_sentenced\n",
       "2018    0.911901\n",
       "2019    0.919928\n",
       "2020    0.914167\n",
       "2021    0.915771\n",
       "Name: imprisoned, dtype: float64"
      ]
     },
     "execution_count": 46,
     "metadata": {},
     "output_type": "execute_result"
    }
   ],
   "source": [
    "df18to21_cleanedH.groupby('year_sentenced')['imprisoned'].mean()"
   ]
  },
  {
   "cell_type": "markdown",
   "id": "40c91ab8-0451-4e57-87d6-bc773457cf65",
   "metadata": {},
   "source": [
    "But there was little change in the percent of offenders who were given prison sentences."
   ]
  },
  {
   "cell_type": "markdown",
   "id": "f8aa9f3d-975e-4b14-aab1-be27e74b25eb",
   "metadata": {},
   "source": [
    "## Crime Types"
   ]
  },
  {
   "cell_type": "code",
   "execution_count": 47,
   "id": "d671928f-f73b-465b-ad95-c711a074f867",
   "metadata": {},
   "outputs": [
    {
     "data": {
      "text/plain": [
       "17    0.366694\n",
       "10    0.267924\n",
       "13    0.117744\n",
       "16    0.082689\n",
       "26    0.022581\n",
       "7     0.018788\n",
       "21    0.016255\n",
       "27    0.015504\n",
       "30    0.013145\n",
       "4     0.010422\n",
       "Name: crime_type, dtype: float64"
      ]
     },
     "execution_count": 47,
     "metadata": {},
     "output_type": "execute_result"
    }
   ],
   "source": [
    "df18to21_cleanedH['crime_type'].value_counts(normalize=True)[:10]"
   ]
  },
  {
   "cell_type": "markdown",
   "id": "3fb5a8a5-1ccf-450a-956c-abc510b54b22",
   "metadata": {},
   "source": [
    "Immgiration is the most prevalent primary offense in the dataset, followed by drug trafficking.\n",
    "\n",
    "This makes intuitive sense in the context of federal court proceedings, as these crimes generally involve movement over the U.S. border, which is the domain of the federal government."
   ]
  },
  {
   "cell_type": "markdown",
   "id": "f6d0f2a7-ad76-4a8c-9a8a-691cd116217b",
   "metadata": {
    "tags": []
   },
   "source": [
    "## Violent Crime Analysis"
   ]
  },
  {
   "cell_type": "markdown",
   "id": "3889fee0-1b64-4974-bd1d-abf850f61893",
   "metadata": {},
   "source": [
    "https://www.ussc.gov/guidelines/amendment/798#:~:text=%E2%80%9C%20'Crime%20of%20violence'%20includes,and%20burglary%20of%20a%20dwelling.\n",
    "\n",
    "“Crime of violence’ includes murder, manslaughter, kidnapping, aggravated assault, forcible sex offenses, robbery, arson, extortion, extortionate extension of credit, and burglary of a dwelling.\""
   ]
  },
  {
   "cell_type": "code",
   "execution_count": 48,
   "id": "8f9cc216-cadb-48cb-bb51-1b94d1ac47cf",
   "metadata": {},
   "outputs": [],
   "source": [
    "violent_crimes = [22,27,20,19,4,26,3,12,26]"
   ]
  },
  {
   "cell_type": "code",
   "execution_count": 49,
   "id": "6e30396c-e378-4022-9dc4-82853ccbad31",
   "metadata": {},
   "outputs": [],
   "source": [
    "df18to21_cleanedH['violent_crime'] = [1 if i in violent_crimes else 0 for i in df18to21_cleanedH['crime_type']]"
   ]
  },
  {
   "cell_type": "code",
   "execution_count": 50,
   "id": "f65b3dfd-2d72-4a6e-b5a4-93754b0554e4",
   "metadata": {},
   "outputs": [
    {
     "data": {
      "text/plain": [
       "year_sentenced\n",
       "2018    0.061472\n",
       "2019    0.057613\n",
       "2020    0.053374\n",
       "2021    0.063223\n",
       "Name: violent_crime, dtype: float64"
      ]
     },
     "execution_count": 50,
     "metadata": {},
     "output_type": "execute_result"
    }
   ],
   "source": [
    "df18to21_cleanedH.groupby('year_sentenced')['violent_crime'].mean()"
   ]
  },
  {
   "cell_type": "markdown",
   "id": "98e1d029-9ac7-4e75-b2a9-bc4ce99d41cb",
   "metadata": {},
   "source": [
    "Percent of violent offenses, as a percent of total offenses, ticked down in 2020, but rebounded in 2021."
   ]
  },
  {
   "cell_type": "code",
   "execution_count": 51,
   "id": "19079747-dda2-4631-9d5d-dab9b88d0b58",
   "metadata": {},
   "outputs": [],
   "source": [
    "df18to21_cleanedH['over25'] = [1 if i >=25 else 0 for i in df18to21_cleanedH['age']]"
   ]
  },
  {
   "cell_type": "code",
   "execution_count": 52,
   "id": "9b9d7b21-3155-4f16-b24b-6febccd7e85f",
   "metadata": {},
   "outputs": [
    {
     "data": {
      "text/plain": [
       "over25\n",
       "0    0.087101\n",
       "1    0.054628\n",
       "Name: violent_crime, dtype: float64"
      ]
     },
     "execution_count": 52,
     "metadata": {},
     "output_type": "execute_result"
    }
   ],
   "source": [
    "df18to21_cleanedH.groupby('over25')['violent_crime'].mean()"
   ]
  },
  {
   "cell_type": "markdown",
   "id": "bda59854-004e-4673-8169-6e46b92b88ea",
   "metadata": {},
   "source": [
    "Offenders aged 25 or older committed violent crimes at a lower rate than those below age 25."
   ]
  },
  {
   "cell_type": "code",
   "execution_count": 53,
   "id": "01a6a028-4fa9-4425-b73e-c1ffa9d49f17",
   "metadata": {},
   "outputs": [
    {
     "data": {
      "text/plain": [
       "gender\n",
       "0.0    0.061643\n",
       "1.0    0.038782\n",
       "Name: violent_crime, dtype: float64"
      ]
     },
     "execution_count": 53,
     "metadata": {},
     "output_type": "execute_result"
    }
   ],
   "source": [
    "df18to21_cleanedH.groupby('gender')['violent_crime'].mean()"
   ]
  },
  {
   "cell_type": "markdown",
   "id": "fb0b07b3-bd13-4109-a1c8-e369ae6bf7d8",
   "metadata": {},
   "source": [
    "As a percentage of overall offenses, men are close to twice as likely to commit violent crimes as women."
   ]
  },
  {
   "cell_type": "markdown",
   "id": "21627e1c-241c-48d2-9fa6-12272d7a049b",
   "metadata": {},
   "source": [
    "## Native American/Alaskan Native Offenders"
   ]
  },
  {
   "cell_type": "code",
   "execution_count": 54,
   "id": "ce13319a-dce7-4612-b2ff-00a2ffca2249",
   "metadata": {},
   "outputs": [],
   "source": [
    "indigenous_defendants = df18to21_cleanedH[df18to21_cleanedH['race'] == 3]"
   ]
  },
  {
   "cell_type": "code",
   "execution_count": 55,
   "id": "2a4565d0-eb85-4887-a23e-503a73b18a48",
   "metadata": {},
   "outputs": [
    {
     "data": {
      "text/plain": [
       "27.0"
      ]
     },
     "execution_count": 55,
     "metadata": {},
     "output_type": "execute_result"
    }
   ],
   "source": [
    "indigenous_defendants['sentence_length'].median()"
   ]
  },
  {
   "cell_type": "code",
   "execution_count": 56,
   "id": "a0e4c764-fdd4-4126-a386-998c905cdb15",
   "metadata": {},
   "outputs": [
    {
     "data": {
      "text/plain": [
       "18.0"
      ]
     },
     "execution_count": 56,
     "metadata": {},
     "output_type": "execute_result"
    }
   ],
   "source": [
    "df18to21_cleanedH['sentence_length'].median()"
   ]
  },
  {
   "cell_type": "markdown",
   "id": "16e8859c-5def-4513-a29d-8ad4ae2959b5",
   "metadata": {},
   "source": [
    "The median sentence length for offenders identified as being Native American or Alaskan Native is much higher than that of the defendant population as a whole."
   ]
  },
  {
   "cell_type": "code",
   "execution_count": 57,
   "id": "381b959d-d0d2-484a-b11d-a93f63ad9861",
   "metadata": {},
   "outputs": [
    {
     "data": {
      "text/plain": [
       "0.4009521838128752"
      ]
     },
     "execution_count": 57,
     "metadata": {},
     "output_type": "execute_result"
    }
   ],
   "source": [
    "indigenous_defendants['violent_crime'].mean()"
   ]
  },
  {
   "cell_type": "code",
   "execution_count": 58,
   "id": "68a2a94b-bfb7-44c1-bb1f-d21395180c55",
   "metadata": {},
   "outputs": [
    {
     "data": {
      "text/plain": [
       "0.05874250166629638"
      ]
     },
     "execution_count": 58,
     "metadata": {},
     "output_type": "execute_result"
    }
   ],
   "source": [
    "df18to21_cleanedH['violent_crime'].mean()"
   ]
  },
  {
   "cell_type": "markdown",
   "id": "57fa5f05-c6b1-478f-9389-2ff773451123",
   "metadata": {},
   "source": [
    "The primary offense for 40% of Native American/Native Alaskan offenders is an offense considered violent.  This is likely due to the federal government claiming jurisdiction over what it considers to be serious offense perpetrated by Native Americans, and local tribal courts having jurisdiction ocrimes. Per an article from the U.S. Department of Justice: \"Under the Major Crimes Act (MCA) of 1885, major felonies such as murder, sexual abuse, and kidnapping, are typically investigated by the FBI and prosecuted by U.S. Attorneys if they are committed by Native Americans on tribal land.\" Thus, the federal court will tend to hear more cases involving this population for which larger sentences might be applied. these are also more likely to be crimes deemed to be violent by sentencing guidelines.\n",
    "\n",
    "* https://cops.usdoj.gov/html/dispatch/01-2022/McGirt_decision.html\n",
    "* https://www.tribal-institute.org/lists/jurisdiction.htm"
   ]
  },
  {
   "cell_type": "code",
   "execution_count": 59,
   "id": "6eebd191-9006-4fa9-9c4b-33c62169f720",
   "metadata": {},
   "outputs": [
    {
     "data": {
      "text/plain": [
       "4     0.206789\n",
       "10    0.190644\n",
       "13    0.112192\n",
       "27    0.093769\n",
       "16    0.053819\n",
       "Name: crime_type, dtype: float64"
      ]
     },
     "execution_count": 59,
     "metadata": {},
     "output_type": "execute_result"
    }
   ],
   "source": [
    "indigenous_defendants['crime_type'].value_counts(normalize=True)[:5]"
   ]
  },
  {
   "cell_type": "markdown",
   "id": "8ff89299-0c6f-438e-8a23-a299520e9ffe",
   "metadata": {},
   "source": [
    "Assault, drug trafficking, firearms, sex abuse, and fraud/embezzlement are the five mose frequent offenses for the indigenous defendant population."
   ]
  },
  {
   "cell_type": "markdown",
   "id": "7cb208a4-12c3-40c8-9a80-36cdf630056b",
   "metadata": {
    "tags": []
   },
   "source": [
    "### Asian-American, Pacific Islanders Offenders"
   ]
  },
  {
   "cell_type": "code",
   "execution_count": 60,
   "id": "fff17ddc-32aa-4b9e-8ead-f9c644945e41",
   "metadata": {},
   "outputs": [
    {
     "data": {
      "text/plain": [
       "10    0.263250\n",
       "16    0.250366\n",
       "21    0.079063\n",
       "13    0.070571\n",
       "17    0.062958\n",
       "Name: crime_type, dtype: float64"
      ]
     },
     "execution_count": 60,
     "metadata": {},
     "output_type": "execute_result"
    }
   ],
   "source": [
    "aapi_offenders = df18to21_cleanedH[df18to21_cleanedH['race'] == 4]\n",
    "\n",
    "aapi_offenders['crime_type'].value_counts(normalize=True)[:5]"
   ]
  },
  {
   "cell_type": "markdown",
   "id": "3d0f8d31-0ee9-4e58-807c-37d6f59ee13c",
   "metadata": {},
   "source": [
    "The most common charges for AAPI offenders are drug trafficking and fraud/theft/embezzlement."
   ]
  },
  {
   "cell_type": "markdown",
   "id": "f86ad5f3-df40-4a1d-b341-45536eb5b36a",
   "metadata": {},
   "source": [
    "## Criminal History"
   ]
  },
  {
   "cell_type": "code",
   "execution_count": 61,
   "id": "e4710823-749e-489a-9596-ddbf3e5bd11b",
   "metadata": {},
   "outputs": [
    {
     "data": {
      "text/plain": [
       "race\n",
       "3    0.956117\n",
       "2    0.944576\n",
       "0    0.881196\n",
       "1    0.846029\n",
       "7    0.753883\n",
       "4    0.631918\n",
       "Name: criminal_hist, dtype: float64"
      ]
     },
     "execution_count": 61,
     "metadata": {},
     "output_type": "execute_result"
    }
   ],
   "source": [
    "df18to21_cleanedH.groupby('race')['criminal_hist'].mean().sort_values(ascending=False)"
   ]
  },
  {
   "cell_type": "markdown",
   "id": "a4bda077-cc5d-48df-9dae-33c4c97ba9d2",
   "metadata": {},
   "source": [
    "For all races, the percentage of offenders who have a criminal history (having been arrested before) is above 60%. This figure is highest for Native Americans/Alaskan Natives and African-Americans, with the figure 95.6% and 94.5% respectively."
   ]
  }
 ],
 "metadata": {
  "kernelspec": {
   "display_name": "Python 3 (ipykernel)",
   "language": "python",
   "name": "python3"
  },
  "language_info": {
   "codemirror_mode": {
    "name": "ipython",
    "version": 3
   },
   "file_extension": ".py",
   "mimetype": "text/x-python",
   "name": "python",
   "nbconvert_exporter": "python",
   "pygments_lexer": "ipython3",
   "version": "3.9.7"
  }
 },
 "nbformat": 4,
 "nbformat_minor": 5
}
