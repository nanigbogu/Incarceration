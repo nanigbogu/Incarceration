{
 "cells": [
  {
   "cell_type": "code",
   "execution_count": null,
   "metadata": {
    "id": "jnP6kXcg_CTZ"
   },
   "outputs": [],
   "source": [
    "import csv\n",
    "import os\n",
    "import sys\n",
    "import tempfile\n",
    "import zipfile\n",
    "import pandas as pd\n",
    "\n",
    "from pathlib import Path\n",
    "from typing import Dict, List, Union\n",
    "from tqdm import tqdm\n",
    "\n",
    "import click"
   ]
  },
  {
   "cell_type": "code",
   "execution_count": null,
   "metadata": {
    "id": "kH2VPwB9_JI_"
   },
   "outputs": [],
   "source": [
    "# filename = '/content/opafy21nid.zip'"
   ]
  },
  {
   "cell_type": "code",
   "execution_count": null,
   "metadata": {
    "id": "OUILFKAP_JLw"
   },
   "outputs": [],
   "source": [
    "def read_columns(filename: Union[str, Path]) -> List[Dict[str, Union[bool, int, str]]]:\n",
    "    \"\"\"\n",
    "    Read the column names from the file with the passed name.\n",
    "    Assumes it's in a SAS format that begins with INPUT and ends with\n",
    "    a semicolon.\n",
    "    Args:\n",
    "      filename: The file name to read\n",
    "    Returns:\n",
    "      The list of column names where each element is a dict with key/vals:\n",
    "        * name (str): The column name\n",
    "        * is_char (bool): Whether the column is a string column\n",
    "        * start (int): The (1-delimited) starting position of the column\n",
    "        * end (int): The (1-delimited and inclusive) ending position of the column\n",
    "    \"\"\"\n",
    "    columns = []\n",
    "    with open(filename, \"rt\") as f:\n",
    "        # Search for the line that starts with INPUT\n",
    "        for line in f:\n",
    "            if line.startswith(\"INPUT\"):\n",
    "                break\n",
    "\n",
    "        for line in f:\n",
    "            # Kill all the extra whitespace\n",
    "            line = line.strip()\n",
    "\n",
    "            # Is this the last line?\n",
    "            if line.endswith(\";\"):\n",
    "                # If so, strip the ; and the extra whitespace\n",
    "                last_line = True\n",
    "                line = line[:-1].strip()\n",
    "            else:\n",
    "                last_line = False\n",
    "\n",
    "            # Parse row into column names\n",
    "            i = 0\n",
    "            sline = line.split()\n",
    "            while i < len(sline):\n",
    "                col_name = sline[i]\n",
    "                i += 1\n",
    "\n",
    "                if sline[i] == \"$\":\n",
    "                    is_char = True\n",
    "                    i += 1\n",
    "                else:\n",
    "                    is_char = False\n",
    "\n",
    "                field_range = sline[i]\n",
    "                i += 1\n",
    "\n",
    "                # Field ranges are formatted either as # or #-#\n",
    "                sfield_range = field_range.split(\"-\")\n",
    "                if len(sfield_range) == 1:\n",
    "                    sfield_range = (sfield_range[0], sfield_range[0])\n",
    "\n",
    "                # Write out the column to the list\n",
    "                columns.append(\n",
    "                    {\n",
    "                        \"name\": col_name,\n",
    "                        \"is_char\": is_char,\n",
    "                        \"start\": int(sfield_range[0]),\n",
    "                        \"end\": int(sfield_range[1]),\n",
    "                    }\n",
    "                )\n",
    "\n",
    "            if last_line:\n",
    "                break\n",
    "\n",
    "    return columns"
   ]
  },
  {
   "cell_type": "code",
   "execution_count": null,
   "metadata": {
    "id": "XD1YQT_E_Im4"
   },
   "outputs": [],
   "source": [
    "def convert_file(filename: Union[str, Path]):\n",
    "    \"\"\"\n",
    "    Convert a file from the Sentencing Commission format into a CSV.\n",
    "    Assumes the file is a ZIP file containing at least the following:\n",
    "      - .sas: A file with the same name as `filename` except ending in .sas\n",
    "      - .dat: A file with the same name as `filename` except ending in .dat\n",
    "    The .dat file is a fixed-width file whose columns are described by the .sas\n",
    "    file. If you're looking at the .sas file, search for INPUT and LENGTH to\n",
    "    see the two main parts of the file. There are a _lot_ of columns.\n",
    "    Args:\n",
    "      filename: The name of the file to convert\n",
    "    \"\"\"\n",
    "    filename = Path(filename)\n",
    "    with tempfile.TemporaryDirectory() as tmpdir:\n",
    "        tmpdir = Path(tmpdir)\n",
    "\n",
    "        # Unzip the contents of the file\n",
    "        with zipfile.ZipFile(filename, \"r\") as thefile:\n",
    "            thefile.extractall(tmpdir)\n",
    "\n",
    "        # Read in the column names from the .sas file\n",
    "        sasfilename = filename.with_suffix(\".sas\").name\n",
    "        saspath = tmpdir / sasfilename\n",
    "        columns = read_columns(saspath)\n",
    "\n",
    "        # Setup the path to the .dat file\n",
    "        datfilename = filename.with_suffix(\".dat\").name\n",
    "        datpath = tmpdir / datfilename\n",
    "\n",
    "        # Open the output file\n",
    "        outfilename = filename.with_suffix(\".csv\")\n",
    "        badlines = []\n",
    "        with open(outfilename, \"wt\") as outfile:\n",
    "            # Write the column headers\n",
    "            writer = csv.writer(outfile)\n",
    "            writer.writerow([col[\"name\"] for col in columns])\n",
    "\n",
    "            # Read in the data\n",
    "            with click.progressbar(length=os.stat(datpath).st_size) as bar:\n",
    "                with open(datpath, \"rb\") as infile:\n",
    "                    for line in tqdm(infile):\n",
    "                        bar.update(len(line))\n",
    "                        line = line.decode(\"latin1\")\n",
    "\n",
    "                        # Read in a single row\n",
    "                        readrow = []\n",
    "                        for col in columns:\n",
    "                            val = line[col[\"start\"] - 1 : col[\"end\"]].strip()\n",
    "\n",
    "                            # If it's numeric and not missing, format it nicely\n",
    "                            if val and not col[\"is_char\"]:\n",
    "                                if \".\" in val:\n",
    "                                    val = float(val)\n",
    "                                else:\n",
    "                                    val = int(float(val))  # Handle 6e+10\n",
    "                            readrow.append(val)\n",
    "\n",
    "                        # Write out the row\n",
    "                        writer.writerow(readrow)\n",
    "\n",
    "    if badlines:\n",
    "        badfilename = filename.with_suffix(\".bad\")\n",
    "        with open(badfilename, \"wb\") as f:\n",
    "            for line in badlines:\n",
    "                f.write(line)"
   ]
  },
  {
   "cell_type": "code",
   "execution_count": null,
   "metadata": {
    "colab": {
     "base_uri": "https://localhost:8080/"
    },
    "id": "Lw8c4zT4_bHd",
    "outputId": "697ea7bc-d494-4a3a-95e0-e59d8c9d18fc"
   },
   "outputs": [
    {
     "name": "stderr",
     "output_type": "stream",
     "text": [
      "66873it [08:54, 125.21it/s]\n"
     ]
    }
   ],
   "source": [
    "# convert_file('/content/opafy21nid.zip')"
   ]
  },
  {
   "cell_type": "code",
   "execution_count": null,
   "metadata": {
    "id": "SxDsPc3W_bKy"
   },
   "outputs": [],
   "source": [
    "##df21 = pd.read_csv('/content/opafy21nid.zip')"
   ]
  },
  {
   "cell_type": "markdown",
   "metadata": {},
   "source": [
    "Used above function to convert all datafiles into csvs. Example above is for 2021 data."
   ]
  },
  {
   "cell_type": "markdown",
   "metadata": {
    "id": "C5DeiLHRFs5x"
   },
   "source": [
    "https://www.ussc.gov/sites/default/files/zip/opafy21nid.zip\n",
    "https://www.ussc.gov/sites/default/files/zip/opafy20nid.zip\n",
    "https://www.ussc.gov/sites/default/files/zip/opafy19nid.zip\n",
    "https://www.ussc.gov/sites/default/files/zip/opafy18nid.zip"
   ]
  }
 ],
 "metadata": {
  "colab": {
   "name": "LoadFiles-GroupProject.ipynb",
   "provenance": []
  },
  "kernelspec": {
   "display_name": "Python 3 (ipykernel)",
   "language": "python",
   "name": "python3"
  },
  "language_info": {
   "codemirror_mode": {
    "name": "ipython",
    "version": 3
   },
   "file_extension": ".py",
   "mimetype": "text/x-python",
   "name": "python",
   "nbconvert_exporter": "python",
   "pygments_lexer": "ipython3",
   "version": "3.9.7"
  }
 },
 "nbformat": 4,
 "nbformat_minor": 4
}
