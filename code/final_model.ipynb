{
 "cells": [
  {
   "cell_type": "code",
   "execution_count": 1,
   "id": "0c4066a7-fb36-4028-942a-457ef8092535",
   "metadata": {},
   "outputs": [],
   "source": [
    "import pandas as pd\n",
    "import numpy as np\n",
    "from scipy import stats\n",
    "from sklearn.preprocessing import OneHotEncoder\n",
    "from sklearn.compose import make_column_transformer\n",
    "from sklearn.compose import ColumnTransformer\n",
    "from sklearn.preprocessing import StandardScaler\n",
    "from sklearn.linear_model import LinearRegression, LassoCV, RidgeCV, Lasso, Ridge\n",
    "from sklearn.model_selection import train_test_split, cross_val_score\n",
    "from sklearn.preprocessing import PolynomialFeatures\n",
    "from sklearn.ensemble import RandomForestRegressor\n",
    "import pickle\n",
    "from sklearn.pipeline import Pipeline\n",
    "\n",
    "np.random.seed(42)"
   ]
  },
  {
   "cell_type": "markdown",
   "id": "71158acb-d50d-4f44-96f3-043b610c3a5e",
   "metadata": {},
   "source": [
    "### Lasso Regression Model"
   ]
  },
  {
   "cell_type": "code",
   "execution_count": 2,
   "id": "db11c657-c541-4071-be53-fd18c2939fcc",
   "metadata": {},
   "outputs": [],
   "source": [
    "df_data = pd.read_csv('../data/df18to21_cleanedH.csv')"
   ]
  },
  {
   "cell_type": "code",
   "execution_count": 3,
   "id": "eacdfa04-ae4a-4121-b633-ac47c56d620e",
   "metadata": {
    "tags": []
   },
   "outputs": [],
   "source": [
    "X = df_data.drop(columns=['sentence_length','guideline_range','guideline_var_pct','region','white'])\n",
    "y = df_data['sentence_length']"
   ]
  },
  {
   "cell_type": "code",
   "execution_count": 4,
   "id": "a1369277-775c-4cf6-9d44-c0476ff471d0",
   "metadata": {},
   "outputs": [],
   "source": [
    "numeric = ['age','count_convictons']\n",
    "categorical = ['year_sentenced','dependents','race','disposition','citizen',\n",
    "               'state','criminal_hist', 'drug_type','weapon','gender','crime_type',\n",
    "               'case_type','presentence_stat','sentence_type','college','imprisoned']\n"
   ]
  },
  {
   "cell_type": "code",
   "execution_count": 5,
   "id": "ea3e9af5-8c90-44ff-9320-ffc6a088eff4",
   "metadata": {},
   "outputs": [],
   "source": [
    "X_train,X_test,y_train,y_test = train_test_split(X,y,random_state=42)"
   ]
  },
  {
   "cell_type": "code",
   "execution_count": 6,
   "id": "933a802b-5a70-445f-9b79-260d8b78c9fa",
   "metadata": {},
   "outputs": [],
   "source": [
    "ctx = ColumnTransformer(\n",
    "    [\n",
    "    ('ss',StandardScaler(),numeric),\n",
    "    ('ohe',OneHotEncoder(handle_unknown='ignore'),\\\n",
    "     categorical)\n",
    "    ],\n",
    "     verbose_feature_names_out=False,\n",
    "     remainder = 'passthrough'\n",
    ")"
   ]
  },
  {
   "cell_type": "code",
   "execution_count": 7,
   "id": "cd07f277-ab26-496c-b322-ec99508a8466",
   "metadata": {},
   "outputs": [],
   "source": [
    "lasso_pipe = Pipeline(\n",
    "    [\n",
    "    ('ct',ctx),\n",
    "    ('lasso',Lasso(alpha=.001,random_state=42,max_iter=10000))\n",
    "    ]\n",
    ")\n"
   ]
  },
  {
   "cell_type": "code",
   "execution_count": 8,
   "id": "2ff50b02-11dc-407f-a52d-605b13129f7f",
   "metadata": {},
   "outputs": [
    {
     "data": {
      "text/plain": [
       "0.5253975466497385"
      ]
     },
     "execution_count": 8,
     "metadata": {},
     "output_type": "execute_result"
    }
   ],
   "source": [
    "lasso_pipe.fit(X_train,y_train)\n",
    "lasso_pipe.score(X_train,y_train)"
   ]
  },
  {
   "cell_type": "code",
   "execution_count": 9,
   "id": "8378c2b6-6c3b-41a3-8961-9699d06bb91d",
   "metadata": {},
   "outputs": [
    {
     "data": {
      "text/plain": [
       "0.5142388561217157"
      ]
     },
     "execution_count": 9,
     "metadata": {},
     "output_type": "execute_result"
    }
   ],
   "source": [
    "lasso_pipe.score(X_test,y_test)"
   ]
  },
  {
   "cell_type": "code",
   "execution_count": 10,
   "id": "47006082-98ca-438b-aa33-ee6190ed448d",
   "metadata": {},
   "outputs": [
    {
     "data": {
      "text/plain": [
       "array([0.50506421, 0.52563896, 0.51854375])"
      ]
     },
     "execution_count": 10,
     "metadata": {},
     "output_type": "execute_result"
    }
   ],
   "source": [
    "cross_val_score(lasso_pipe,X,y,cv=3)"
   ]
  },
  {
   "cell_type": "markdown",
   "id": "72566dfb-842c-47d4-9cde-ce2bc14acbbc",
   "metadata": {},
   "source": [
    "The model used to explore the relationships between features and federal sentence length is a Lasso regression that uses an alpha of .001. The data is scaled and one-hot encoded. The data analyzed also caps sentence length at 70 years (840 months), thus sentence lengths of longer than 70 years, or life sentences, were imputed as 70 years. Given the consecutive sentences imposed by federal courts, in which the offender is ordered to serve sentences back-to-back, it becomes very hard to successfully model the data unless a modification of this type is made. The r-squared value for this same model without modifying sentence length was ~.10. The paper we studied (link provided below) from the U.S. Sentencing Commission capped the sentence length at ~39 years for its analysis of similar data in 2012. \n",
    "\n",
    "This model was selected because it provided the best r-squared score, explaining 51.42% of the variance around the mean in the test set. While this is not an exceptionally strong model in terms of this metric, given our understanding of the complex process of federal sentencing, and the extensive array of guidelines, we felt that this model was suitably strong to provide us with insight into how the features we are studying impact sentence length. Additional iterations with interaction variables did not provide increased model performance.\n",
    "\n",
    "A review of the U.S. Sentencing Commission studies on similar data from earlier periods confirmed for the team that a model with an r-squared score of .5142 is acceptable to move forward with for analysis. It should be noted that the study was a multivariate analysis, and used a different set of features, some of which we felt were too closely related to sentence length (number of armed career criminal points assigned to a defendant, for instance). \n",
    "\n",
    "https://www.ussc.gov/sites/default/files/pdf/research-and-publications/research-publications/2010/20100311_Multivariate_Regression_Analysis_Report.pdf\n",
    "\n",
    "https://www.ussc.gov/sites/default/files/pdf/research-and-publications/research-publications/2017/20171114_Demographics.pdf\n"
   ]
  },
  {
   "cell_type": "markdown",
   "id": "fdd73f1a-2da6-4ee3-87b5-3a5954c91cfd",
   "metadata": {
    "tags": []
   },
   "source": [
    "## Coefficient Analysis"
   ]
  },
  {
   "cell_type": "markdown",
   "id": "e8473b20-426a-494f-a814-5f27182aafbd",
   "metadata": {},
   "source": [
    "The below coefficients reflect the association the respective feature has with sentence length, with all other variables held equal. these coefficients are derived from the lasso model fit and scored above."
   ]
  },
  {
   "cell_type": "code",
   "execution_count": 13,
   "id": "fd8b2d62-3ae9-4ffa-984d-add902f5aaca",
   "metadata": {
    "tags": []
   },
   "outputs": [],
   "source": [
    "lc_dff = pd.DataFrame()\n",
    "lc_dff['feature'] = [i for i in lasso_pipe.named_steps['ct'].get_feature_names_out()]\n",
    "lc_dff['coeffs'] = [i for i in lasso_pipe.named_steps['lasso'].coef_]"
   ]
  },
  {
   "cell_type": "code",
   "execution_count": 14,
   "id": "a19af776-71b4-4e02-a68a-bb90b36ddb22",
   "metadata": {},
   "outputs": [
    {
     "data": {
      "text/html": [
       "<div>\n",
       "<style scoped>\n",
       "    .dataframe tbody tr th:only-of-type {\n",
       "        vertical-align: middle;\n",
       "    }\n",
       "\n",
       "    .dataframe tbody tr th {\n",
       "        vertical-align: top;\n",
       "    }\n",
       "\n",
       "    .dataframe thead th {\n",
       "        text-align: right;\n",
       "    }\n",
       "</style>\n",
       "<table border=\"1\" class=\"dataframe\">\n",
       "  <thead>\n",
       "    <tr style=\"text-align: right;\">\n",
       "      <th></th>\n",
       "      <th>feature</th>\n",
       "      <th>coeffs</th>\n",
       "    </tr>\n",
       "  </thead>\n",
       "  <tbody>\n",
       "    <tr>\n",
       "      <th>107</th>\n",
       "      <td>crime_type_22</td>\n",
       "      <td>234.308357</td>\n",
       "    </tr>\n",
       "    <tr>\n",
       "      <th>112</th>\n",
       "      <td>crime_type_27</td>\n",
       "      <td>171.926253</td>\n",
       "    </tr>\n",
       "    <tr>\n",
       "      <th>104</th>\n",
       "      <td>crime_type_19</td>\n",
       "      <td>106.106380</td>\n",
       "    </tr>\n",
       "    <tr>\n",
       "      <th>18</th>\n",
       "      <td>disposition_5</td>\n",
       "      <td>86.771263</td>\n",
       "    </tr>\n",
       "    <tr>\n",
       "      <th>92</th>\n",
       "      <td>crime_type_7</td>\n",
       "      <td>70.678223</td>\n",
       "    </tr>\n",
       "  </tbody>\n",
       "</table>\n",
       "</div>"
      ],
      "text/plain": [
       "           feature      coeffs\n",
       "107  crime_type_22  234.308357\n",
       "112  crime_type_27  171.926253\n",
       "104  crime_type_19  106.106380\n",
       "18   disposition_5   86.771263\n",
       "92    crime_type_7   70.678223"
      ]
     },
     "execution_count": 14,
     "metadata": {},
     "output_type": "execute_result"
    }
   ],
   "source": [
    "lc_dff.sort_values(by='coeffs',ascending=False).head(5)"
   ]
  },
  {
   "cell_type": "markdown",
   "id": "a48992c2-da2e-4062-94f4-a59e7c4c37fe",
   "metadata": {},
   "source": [
    "The coefficients most strongly associated with longer sentences are the primary offense type as murder (the highest coefficient by a decent margin), sex abuse, child pornography or kidnapping, and a special case in which an offender both sits for a trial and also pleads guilty."
   ]
  },
  {
   "cell_type": "code",
   "execution_count": 15,
   "id": "8bc1bfbb-4632-412a-9461-ebdf4a201764",
   "metadata": {},
   "outputs": [
    {
     "data": {
      "text/html": [
       "<div>\n",
       "<style scoped>\n",
       "    .dataframe tbody tr th:only-of-type {\n",
       "        vertical-align: middle;\n",
       "    }\n",
       "\n",
       "    .dataframe tbody tr th {\n",
       "        vertical-align: top;\n",
       "    }\n",
       "\n",
       "    .dataframe thead th {\n",
       "        text-align: right;\n",
       "    }\n",
       "</style>\n",
       "<table border=\"1\" class=\"dataframe\">\n",
       "  <thead>\n",
       "    <tr style=\"text-align: right;\">\n",
       "      <th></th>\n",
       "      <th>feature</th>\n",
       "      <th>coeffs</th>\n",
       "    </tr>\n",
       "  </thead>\n",
       "  <tbody>\n",
       "    <tr>\n",
       "      <th>78</th>\n",
       "      <td>drug_type_4.0</td>\n",
       "      <td>-23.578929</td>\n",
       "    </tr>\n",
       "    <tr>\n",
       "      <th>110</th>\n",
       "      <td>crime_type_25</td>\n",
       "      <td>-27.480103</td>\n",
       "    </tr>\n",
       "    <tr>\n",
       "      <th>14</th>\n",
       "      <td>disposition_1</td>\n",
       "      <td>-28.086450</td>\n",
       "    </tr>\n",
       "    <tr>\n",
       "      <th>15</th>\n",
       "      <td>disposition_2</td>\n",
       "      <td>-28.983393</td>\n",
       "    </tr>\n",
       "    <tr>\n",
       "      <th>82</th>\n",
       "      <td>weapon_0</td>\n",
       "      <td>-39.980866</td>\n",
       "    </tr>\n",
       "  </tbody>\n",
       "</table>\n",
       "</div>"
      ],
      "text/plain": [
       "           feature     coeffs\n",
       "78   drug_type_4.0 -23.578929\n",
       "110  crime_type_25 -27.480103\n",
       "14   disposition_1 -28.086450\n",
       "15   disposition_2 -28.983393\n",
       "82        weapon_0 -39.980866"
      ]
     },
     "execution_count": 15,
     "metadata": {},
     "output_type": "execute_result"
    }
   ],
   "source": [
    "lc_dff.sort_values(by='coeffs',ascending=False).tail(5)"
   ]
  },
  {
   "cell_type": "markdown",
   "id": "ccb7fc85-9b29-4d85-9d7f-f2f297296b38",
   "metadata": {},
   "source": [
    "The coefficients most strongly associated with shorter sentences are those that indicate that an offender was not carrying a firearm during the crime, the defendant pled guilty or no contest, if the crime was a prison offense, or if the drug offense is related to marijuana.\n"
   ]
  },
  {
   "cell_type": "markdown",
   "id": "c652f902-5007-4df3-b573-da64e2598d73",
   "metadata": {},
   "source": [
    "### Crime Type Coefficients"
   ]
  },
  {
   "cell_type": "code",
   "execution_count": 16,
   "id": "c2f070e9-6ef0-4757-90ab-ac50e27ae845",
   "metadata": {},
   "outputs": [
    {
     "data": {
      "text/html": [
       "<div>\n",
       "<style scoped>\n",
       "    .dataframe tbody tr th:only-of-type {\n",
       "        vertical-align: middle;\n",
       "    }\n",
       "\n",
       "    .dataframe tbody tr th {\n",
       "        vertical-align: top;\n",
       "    }\n",
       "\n",
       "    .dataframe thead th {\n",
       "        text-align: right;\n",
       "    }\n",
       "</style>\n",
       "<table border=\"1\" class=\"dataframe\">\n",
       "  <thead>\n",
       "    <tr style=\"text-align: right;\">\n",
       "      <th></th>\n",
       "      <th>feature</th>\n",
       "      <th>coeffs</th>\n",
       "    </tr>\n",
       "  </thead>\n",
       "  <tbody>\n",
       "    <tr>\n",
       "      <th>107</th>\n",
       "      <td>crime_type_22</td>\n",
       "      <td>234.308357</td>\n",
       "    </tr>\n",
       "    <tr>\n",
       "      <th>112</th>\n",
       "      <td>crime_type_27</td>\n",
       "      <td>171.926253</td>\n",
       "    </tr>\n",
       "    <tr>\n",
       "      <th>104</th>\n",
       "      <td>crime_type_19</td>\n",
       "      <td>106.106380</td>\n",
       "    </tr>\n",
       "    <tr>\n",
       "      <th>92</th>\n",
       "      <td>crime_type_7</td>\n",
       "      <td>70.678223</td>\n",
       "    </tr>\n",
       "    <tr>\n",
       "      <th>105</th>\n",
       "      <td>crime_type_20</td>\n",
       "      <td>40.990743</td>\n",
       "    </tr>\n",
       "  </tbody>\n",
       "</table>\n",
       "</div>"
      ],
      "text/plain": [
       "           feature      coeffs\n",
       "107  crime_type_22  234.308357\n",
       "112  crime_type_27  171.926253\n",
       "104  crime_type_19  106.106380\n",
       "92    crime_type_7   70.678223\n",
       "105  crime_type_20   40.990743"
      ]
     },
     "execution_count": 16,
     "metadata": {},
     "output_type": "execute_result"
    }
   ],
   "source": [
    "crime_coeff = lc_dff[lc_dff['feature'].str.contains(\"crime\")]\n",
    "crime_coeff.sort_values(by='coeffs',ascending=False).head()"
   ]
  },
  {
   "cell_type": "markdown",
   "id": "0136a0e2-40c7-4c22-949c-c4a4954d5b27",
   "metadata": {},
   "source": [
    "As seen above, murder, sex abuse, child pornography and kidnapping are the model's coefficients that are most strongly associated with a long sentence. Manslaughter is the additional crime that is in the five crime types most associated with long sentences."
   ]
  },
  {
   "cell_type": "code",
   "execution_count": 17,
   "id": "e810e2e3-3ec3-41e1-b105-bec4ef8f4d65",
   "metadata": {},
   "outputs": [
    {
     "data": {
      "text/html": [
       "<div>\n",
       "<style scoped>\n",
       "    .dataframe tbody tr th:only-of-type {\n",
       "        vertical-align: middle;\n",
       "    }\n",
       "\n",
       "    .dataframe tbody tr th {\n",
       "        vertical-align: top;\n",
       "    }\n",
       "\n",
       "    .dataframe thead th {\n",
       "        text-align: right;\n",
       "    }\n",
       "</style>\n",
       "<table border=\"1\" class=\"dataframe\">\n",
       "  <thead>\n",
       "    <tr style=\"text-align: right;\">\n",
       "      <th></th>\n",
       "      <th>feature</th>\n",
       "      <th>coeffs</th>\n",
       "    </tr>\n",
       "  </thead>\n",
       "  <tbody>\n",
       "    <tr>\n",
       "      <th>94</th>\n",
       "      <td>crime_type_9</td>\n",
       "      <td>-15.910101</td>\n",
       "    </tr>\n",
       "    <tr>\n",
       "      <th>109</th>\n",
       "      <td>crime_type_24</td>\n",
       "      <td>-16.821978</td>\n",
       "    </tr>\n",
       "    <tr>\n",
       "      <th>86</th>\n",
       "      <td>crime_type_1</td>\n",
       "      <td>-18.414356</td>\n",
       "    </tr>\n",
       "    <tr>\n",
       "      <th>102</th>\n",
       "      <td>crime_type_17</td>\n",
       "      <td>-21.665898</td>\n",
       "    </tr>\n",
       "    <tr>\n",
       "      <th>110</th>\n",
       "      <td>crime_type_25</td>\n",
       "      <td>-27.480103</td>\n",
       "    </tr>\n",
       "  </tbody>\n",
       "</table>\n",
       "</div>"
      ],
      "text/plain": [
       "           feature     coeffs\n",
       "94    crime_type_9 -15.910101\n",
       "109  crime_type_24 -16.821978\n",
       "86    crime_type_1 -18.414356\n",
       "102  crime_type_17 -21.665898\n",
       "110  crime_type_25 -27.480103"
      ]
     },
     "execution_count": 17,
     "metadata": {},
     "output_type": "execute_result"
    }
   ],
   "source": [
    "crime_coeff.sort_values(by='coeffs',ascending=False).tail()"
   ]
  },
  {
   "cell_type": "markdown",
   "id": "440f9bfa-0a69-4661-8cf7-fd16ec5af00c",
   "metadata": {},
   "source": [
    "The crime types most associated with shorter sentences are prison offenses, immigration, administration of justice (obstruction of justice, etc.), obscenity and drug possession."
   ]
  },
  {
   "cell_type": "markdown",
   "id": "d2168ce8-e663-4261-933e-784f770dc5d5",
   "metadata": {},
   "source": [
    "### State Coefficients"
   ]
  },
  {
   "cell_type": "code",
   "execution_count": 18,
   "id": "741c0184-7227-4020-9c36-7ddb056ce956",
   "metadata": {},
   "outputs": [
    {
     "name": "stderr",
     "output_type": "stream",
     "text": [
      "/var/folders/pr/wgwfmfsx53n97rhpm9z12wqh0000gn/T/ipykernel_14385/2435092372.py:2: SettingWithCopyWarning: \n",
      "A value is trying to be set on a copy of a slice from a DataFrame.\n",
      "Try using .loc[row_indexer,col_indexer] = value instead\n",
      "\n",
      "See the caveats in the documentation: https://pandas.pydata.org/pandas-docs/stable/user_guide/indexing.html#returning-a-view-versus-a-copy\n",
      "  state_coeff['feature'] = [i.split('_')[1] for i in state_coeff['feature']]\n"
     ]
    }
   ],
   "source": [
    "state_coeff = lc_dff[lc_dff['feature'].str.contains(\"state\")]\n",
    "state_coeff['feature'] = [i.split('_')[1] for i in state_coeff['feature']]\n",
    "state_coeff = state_coeff.rename(columns={'feature':'state'})\n"
   ]
  },
  {
   "cell_type": "code",
   "execution_count": 19,
   "id": "9e3ae014-af29-41ae-8cab-c3a4e7a8dea8",
   "metadata": {},
   "outputs": [
    {
     "data": {
      "text/html": [
       "<div>\n",
       "<style scoped>\n",
       "    .dataframe tbody tr th:only-of-type {\n",
       "        vertical-align: middle;\n",
       "    }\n",
       "\n",
       "    .dataframe tbody tr th {\n",
       "        vertical-align: top;\n",
       "    }\n",
       "\n",
       "    .dataframe thead th {\n",
       "        text-align: right;\n",
       "    }\n",
       "</style>\n",
       "<table border=\"1\" class=\"dataframe\">\n",
       "  <thead>\n",
       "    <tr style=\"text-align: right;\">\n",
       "      <th></th>\n",
       "      <th>state</th>\n",
       "      <th>coeffs</th>\n",
       "    </tr>\n",
       "  </thead>\n",
       "  <tbody>\n",
       "    <tr>\n",
       "      <th>36</th>\n",
       "      <td>Iowa</td>\n",
       "      <td>20.260049</td>\n",
       "    </tr>\n",
       "    <tr>\n",
       "      <th>44</th>\n",
       "      <td>Minnesota</td>\n",
       "      <td>16.893141</td>\n",
       "    </tr>\n",
       "    <tr>\n",
       "      <th>30</th>\n",
       "      <td>Florida</td>\n",
       "      <td>14.901662</td>\n",
       "    </tr>\n",
       "    <tr>\n",
       "      <th>35</th>\n",
       "      <td>Indiana</td>\n",
       "      <td>13.660364</td>\n",
       "    </tr>\n",
       "    <tr>\n",
       "      <th>38</th>\n",
       "      <td>Kentucky</td>\n",
       "      <td>9.662730</td>\n",
       "    </tr>\n",
       "    <tr>\n",
       "      <th>67</th>\n",
       "      <td>Virginia</td>\n",
       "      <td>9.580896</td>\n",
       "    </tr>\n",
       "    <tr>\n",
       "      <th>61</th>\n",
       "      <td>South Carolina</td>\n",
       "      <td>9.365511</td>\n",
       "    </tr>\n",
       "    <tr>\n",
       "      <th>54</th>\n",
       "      <td>North Carolina</td>\n",
       "      <td>9.319177</td>\n",
       "    </tr>\n",
       "    <tr>\n",
       "      <th>43</th>\n",
       "      <td>Michigan</td>\n",
       "      <td>9.114604</td>\n",
       "    </tr>\n",
       "    <tr>\n",
       "      <th>48</th>\n",
       "      <td>Nebraska</td>\n",
       "      <td>7.772451</td>\n",
       "    </tr>\n",
       "  </tbody>\n",
       "</table>\n",
       "</div>"
      ],
      "text/plain": [
       "             state     coeffs\n",
       "36            Iowa  20.260049\n",
       "44       Minnesota  16.893141\n",
       "30         Florida  14.901662\n",
       "35         Indiana  13.660364\n",
       "38        Kentucky   9.662730\n",
       "67        Virginia   9.580896\n",
       "61  South Carolina   9.365511\n",
       "54  North Carolina   9.319177\n",
       "43        Michigan   9.114604\n",
       "48        Nebraska   7.772451"
      ]
     },
     "execution_count": 19,
     "metadata": {},
     "output_type": "execute_result"
    }
   ],
   "source": [
    "state_coeff.sort_values(by='coeffs',ascending=False).head(10)"
   ]
  },
  {
   "cell_type": "markdown",
   "id": "c3cc8bb7-09be-4e0d-bc7a-aa0b8593e68e",
   "metadata": {},
   "source": [
    "The states most associated with longer sentences are Iowa, Minnesota, Florida, Indiana and Kentucky. Relative to the crime type coefficients associated with longer sentences, these coefficients are fairly weak."
   ]
  },
  {
   "cell_type": "code",
   "execution_count": 20,
   "id": "7abb8a5b-0c05-425c-9af5-ba923056884d",
   "metadata": {},
   "outputs": [
    {
     "data": {
      "text/html": [
       "<div>\n",
       "<style scoped>\n",
       "    .dataframe tbody tr th:only-of-type {\n",
       "        vertical-align: middle;\n",
       "    }\n",
       "\n",
       "    .dataframe tbody tr th {\n",
       "        vertical-align: top;\n",
       "    }\n",
       "\n",
       "    .dataframe thead th {\n",
       "        text-align: right;\n",
       "    }\n",
       "</style>\n",
       "<table border=\"1\" class=\"dataframe\">\n",
       "  <thead>\n",
       "    <tr style=\"text-align: right;\">\n",
       "      <th></th>\n",
       "      <th>state</th>\n",
       "      <th>coeffs</th>\n",
       "    </tr>\n",
       "  </thead>\n",
       "  <tbody>\n",
       "    <tr>\n",
       "      <th>27</th>\n",
       "      <td>Connecticut</td>\n",
       "      <td>-7.695231</td>\n",
       "    </tr>\n",
       "    <tr>\n",
       "      <th>25</th>\n",
       "      <td>California</td>\n",
       "      <td>-8.418154</td>\n",
       "    </tr>\n",
       "    <tr>\n",
       "      <th>53</th>\n",
       "      <td>New York</td>\n",
       "      <td>-8.801427</td>\n",
       "    </tr>\n",
       "    <tr>\n",
       "      <th>29</th>\n",
       "      <td>District of Columbia</td>\n",
       "      <td>-8.815338</td>\n",
       "    </tr>\n",
       "    <tr>\n",
       "      <th>68</th>\n",
       "      <td>Washington</td>\n",
       "      <td>-9.912397</td>\n",
       "    </tr>\n",
       "    <tr>\n",
       "      <th>69</th>\n",
       "      <td>West Virginia</td>\n",
       "      <td>-10.726324</td>\n",
       "    </tr>\n",
       "    <tr>\n",
       "      <th>60</th>\n",
       "      <td>Rhode Island</td>\n",
       "      <td>-11.422657</td>\n",
       "    </tr>\n",
       "    <tr>\n",
       "      <th>47</th>\n",
       "      <td>Montana</td>\n",
       "      <td>-12.159093</td>\n",
       "    </tr>\n",
       "    <tr>\n",
       "      <th>65</th>\n",
       "      <td>Utah</td>\n",
       "      <td>-13.741828</td>\n",
       "    </tr>\n",
       "    <tr>\n",
       "      <th>66</th>\n",
       "      <td>Vermont</td>\n",
       "      <td>-21.811510</td>\n",
       "    </tr>\n",
       "  </tbody>\n",
       "</table>\n",
       "</div>"
      ],
      "text/plain": [
       "                   state     coeffs\n",
       "27           Connecticut  -7.695231\n",
       "25            California  -8.418154\n",
       "53              New York  -8.801427\n",
       "29  District of Columbia  -8.815338\n",
       "68            Washington  -9.912397\n",
       "69         West Virginia -10.726324\n",
       "60          Rhode Island -11.422657\n",
       "47               Montana -12.159093\n",
       "65                  Utah -13.741828\n",
       "66               Vermont -21.811510"
      ]
     },
     "execution_count": 20,
     "metadata": {},
     "output_type": "execute_result"
    }
   ],
   "source": [
    "state_coeff.sort_values(by='coeffs',ascending=False).tail(10)"
   ]
  },
  {
   "cell_type": "markdown",
   "id": "ee05f858-f2ea-4db8-a650-36852a6ac9ba",
   "metadata": {},
   "source": [
    "The states most associated with short sentences are: Vermont, Utah, Montana, Rhode Island and West Virginia."
   ]
  },
  {
   "cell_type": "markdown",
   "id": "4f943fe0-cc5c-48de-b304-6377f07fce28",
   "metadata": {},
   "source": [
    "### Race Coefficients"
   ]
  },
  {
   "cell_type": "code",
   "execution_count": 21,
   "id": "e60dda10-0cc4-4dcb-aefe-36e67fd56df1",
   "metadata": {},
   "outputs": [
    {
     "data": {
      "text/html": [
       "<div>\n",
       "<style scoped>\n",
       "    .dataframe tbody tr th:only-of-type {\n",
       "        vertical-align: middle;\n",
       "    }\n",
       "\n",
       "    .dataframe tbody tr th {\n",
       "        vertical-align: top;\n",
       "    }\n",
       "\n",
       "    .dataframe thead th {\n",
       "        text-align: right;\n",
       "    }\n",
       "</style>\n",
       "<table border=\"1\" class=\"dataframe\">\n",
       "  <thead>\n",
       "    <tr style=\"text-align: right;\">\n",
       "      <th></th>\n",
       "      <th>feature</th>\n",
       "      <th>coeffs</th>\n",
       "    </tr>\n",
       "  </thead>\n",
       "  <tbody>\n",
       "    <tr>\n",
       "      <th>11</th>\n",
       "      <td>race_3</td>\n",
       "      <td>-18.746610</td>\n",
       "    </tr>\n",
       "    <tr>\n",
       "      <th>8</th>\n",
       "      <td>race_0</td>\n",
       "      <td>-0.031928</td>\n",
       "    </tr>\n",
       "    <tr>\n",
       "      <th>9</th>\n",
       "      <td>race_1</td>\n",
       "      <td>-0.000000</td>\n",
       "    </tr>\n",
       "    <tr>\n",
       "      <th>13</th>\n",
       "      <td>race_7</td>\n",
       "      <td>0.000000</td>\n",
       "    </tr>\n",
       "    <tr>\n",
       "      <th>10</th>\n",
       "      <td>race_2</td>\n",
       "      <td>1.638227</td>\n",
       "    </tr>\n",
       "    <tr>\n",
       "      <th>12</th>\n",
       "      <td>race_4</td>\n",
       "      <td>3.423411</td>\n",
       "    </tr>\n",
       "  </tbody>\n",
       "</table>\n",
       "</div>"
      ],
      "text/plain": [
       "   feature     coeffs\n",
       "11  race_3 -18.746610\n",
       "8   race_0  -0.031928\n",
       "9   race_1  -0.000000\n",
       "13  race_7   0.000000\n",
       "10  race_2   1.638227\n",
       "12  race_4   3.423411"
      ]
     },
     "execution_count": 21,
     "metadata": {},
     "output_type": "execute_result"
    }
   ],
   "source": [
    "race_coeff = lc_dff[lc_dff['feature'].str.contains(\"race\")]\n",
    "race_coeff.sort_values(by='coeffs')"
   ]
  },
  {
   "cell_type": "markdown",
   "id": "a792bf19-8326-4c2b-8f2b-cbfcfb640343",
   "metadata": {},
   "source": [
    "The notable coefficient related to race is that sentences for Native Americans and Alaskan Natives tend to be shorter, all alse equal. However, the median sentence legnth for Native Americans and Native Alaskans is 27 years, compared with 18 years for the offender population as a whole. While more serious crimes involving Native American and Alaskan Natives are heard at federal level, and lesser offenses tried at tribal level, the cause for this association with lower sentence lengths is unclear as of yet. "
   ]
  },
  {
   "cell_type": "markdown",
   "id": "16e7eac5-0461-4c43-a1b4-5d707f8b032d",
   "metadata": {},
   "source": [
    "### Gender Coefficients"
   ]
  },
  {
   "cell_type": "code",
   "execution_count": 22,
   "id": "2a7a4d52-2f1d-4a2d-a085-87d116032dc8",
   "metadata": {},
   "outputs": [
    {
     "data": {
      "text/html": [
       "<div>\n",
       "<style scoped>\n",
       "    .dataframe tbody tr th:only-of-type {\n",
       "        vertical-align: middle;\n",
       "    }\n",
       "\n",
       "    .dataframe tbody tr th {\n",
       "        vertical-align: top;\n",
       "    }\n",
       "\n",
       "    .dataframe thead th {\n",
       "        text-align: right;\n",
       "    }\n",
       "</style>\n",
       "<table border=\"1\" class=\"dataframe\">\n",
       "  <thead>\n",
       "    <tr style=\"text-align: right;\">\n",
       "      <th></th>\n",
       "      <th>feature</th>\n",
       "      <th>coeffs</th>\n",
       "    </tr>\n",
       "  </thead>\n",
       "  <tbody>\n",
       "    <tr>\n",
       "      <th>85</th>\n",
       "      <td>gender_1.0</td>\n",
       "      <td>-0.000000</td>\n",
       "    </tr>\n",
       "    <tr>\n",
       "      <th>84</th>\n",
       "      <td>gender_0.0</td>\n",
       "      <td>11.776185</td>\n",
       "    </tr>\n",
       "  </tbody>\n",
       "</table>\n",
       "</div>"
      ],
      "text/plain": [
       "       feature     coeffs\n",
       "85  gender_1.0  -0.000000\n",
       "84  gender_0.0  11.776185"
      ]
     },
     "execution_count": 22,
     "metadata": {},
     "output_type": "execute_result"
    }
   ],
   "source": [
    "gender_coeff = lc_dff[lc_dff['feature'].str.contains(\"gender\")]\n",
    "gender_coeff.sort_values(by='coeffs')"
   ]
  },
  {
   "cell_type": "markdown",
   "id": "567c5721-7d92-42dd-83e2-71b0cf94ba4b",
   "metadata": {},
   "source": [
    "A male offender is more likely to have a longer sentence compared to a woman, with all other features held constant."
   ]
  },
  {
   "cell_type": "markdown",
   "id": "63f57a61-da03-4789-b73f-8b188b723fe0",
   "metadata": {},
   "source": [
    "### Drug Coefficients"
   ]
  },
  {
   "cell_type": "code",
   "execution_count": 23,
   "id": "67e7c29e-84f5-49b8-8819-8a59e17e44b3",
   "metadata": {},
   "outputs": [
    {
     "data": {
      "text/html": [
       "<div>\n",
       "<style scoped>\n",
       "    .dataframe tbody tr th:only-of-type {\n",
       "        vertical-align: middle;\n",
       "    }\n",
       "\n",
       "    .dataframe tbody tr th {\n",
       "        vertical-align: top;\n",
       "    }\n",
       "\n",
       "    .dataframe thead th {\n",
       "        text-align: right;\n",
       "    }\n",
       "</style>\n",
       "<table border=\"1\" class=\"dataframe\">\n",
       "  <thead>\n",
       "    <tr style=\"text-align: right;\">\n",
       "      <th></th>\n",
       "      <th>feature</th>\n",
       "      <th>coeffs</th>\n",
       "    </tr>\n",
       "  </thead>\n",
       "  <tbody>\n",
       "    <tr>\n",
       "      <th>78</th>\n",
       "      <td>drug_type_4.0</td>\n",
       "      <td>-23.578929</td>\n",
       "    </tr>\n",
       "    <tr>\n",
       "      <th>74</th>\n",
       "      <td>drug_type_0.0</td>\n",
       "      <td>-21.610464</td>\n",
       "    </tr>\n",
       "    <tr>\n",
       "      <th>81</th>\n",
       "      <td>drug_type_77.0</td>\n",
       "      <td>-7.174072</td>\n",
       "    </tr>\n",
       "    <tr>\n",
       "      <th>76</th>\n",
       "      <td>drug_type_2.0</td>\n",
       "      <td>-4.363870</td>\n",
       "    </tr>\n",
       "    <tr>\n",
       "      <th>80</th>\n",
       "      <td>drug_type_7.0</td>\n",
       "      <td>0.001210</td>\n",
       "    </tr>\n",
       "    <tr>\n",
       "      <th>77</th>\n",
       "      <td>drug_type_3.0</td>\n",
       "      <td>1.589177</td>\n",
       "    </tr>\n",
       "    <tr>\n",
       "      <th>75</th>\n",
       "      <td>drug_type_1.0</td>\n",
       "      <td>4.991743</td>\n",
       "    </tr>\n",
       "    <tr>\n",
       "      <th>79</th>\n",
       "      <td>drug_type_6.0</td>\n",
       "      <td>26.183594</td>\n",
       "    </tr>\n",
       "  </tbody>\n",
       "</table>\n",
       "</div>"
      ],
      "text/plain": [
       "           feature     coeffs\n",
       "78   drug_type_4.0 -23.578929\n",
       "74   drug_type_0.0 -21.610464\n",
       "81  drug_type_77.0  -7.174072\n",
       "76   drug_type_2.0  -4.363870\n",
       "80   drug_type_7.0   0.001210\n",
       "77   drug_type_3.0   1.589177\n",
       "75   drug_type_1.0   4.991743\n",
       "79   drug_type_6.0  26.183594"
      ]
     },
     "execution_count": 23,
     "metadata": {},
     "output_type": "execute_result"
    }
   ],
   "source": [
    "drug_coeff = lc_dff[lc_dff['feature'].str.contains(\"drug\")]\n",
    "drug_coeff.sort_values(by='coeffs')"
   ]
  },
  {
   "cell_type": "markdown",
   "id": "8175ec63-4c42-458f-9f5b-4d66e324c0da",
   "metadata": {},
   "source": [
    "Cases involving marijuana and no drugs tend to involve short sentences. Cases involving methamphetamine are associated with longer sentences, of all the drug types studied."
   ]
  },
  {
   "cell_type": "markdown",
   "id": "98884ac9-c115-466e-b251-d8b2bfaade43",
   "metadata": {},
   "source": [
    "### Education Coefficients"
   ]
  },
  {
   "cell_type": "code",
   "execution_count": 24,
   "id": "4d99219a-b054-4dd4-abc0-d563aa2eee45",
   "metadata": {},
   "outputs": [
    {
     "data": {
      "text/html": [
       "<div>\n",
       "<style scoped>\n",
       "    .dataframe tbody tr th:only-of-type {\n",
       "        vertical-align: middle;\n",
       "    }\n",
       "\n",
       "    .dataframe tbody tr th {\n",
       "        vertical-align: top;\n",
       "    }\n",
       "\n",
       "    .dataframe thead th {\n",
       "        text-align: right;\n",
       "    }\n",
       "</style>\n",
       "<table border=\"1\" class=\"dataframe\">\n",
       "  <thead>\n",
       "    <tr style=\"text-align: right;\">\n",
       "      <th></th>\n",
       "      <th>feature</th>\n",
       "      <th>coeffs</th>\n",
       "    </tr>\n",
       "  </thead>\n",
       "  <tbody>\n",
       "    <tr>\n",
       "      <th>128</th>\n",
       "      <td>college_1</td>\n",
       "      <td>-1.217616e-09</td>\n",
       "    </tr>\n",
       "    <tr>\n",
       "      <th>127</th>\n",
       "      <td>college_0</td>\n",
       "      <td>1.760533e+00</td>\n",
       "    </tr>\n",
       "  </tbody>\n",
       "</table>\n",
       "</div>"
      ],
      "text/plain": [
       "       feature        coeffs\n",
       "128  college_1 -1.217616e-09\n",
       "127  college_0  1.760533e+00"
      ]
     },
     "execution_count": 24,
     "metadata": {},
     "output_type": "execute_result"
    }
   ],
   "source": [
    "education_coeff = lc_dff[lc_dff['feature'].str.contains(\"college\")]\n",
    "education_coeff.sort_values(by='coeffs')"
   ]
  },
  {
   "cell_type": "markdown",
   "id": "259ec2d8-6216-4bda-962e-2ed077490971",
   "metadata": {},
   "source": [
    "Education level, whether one has attended any college or not, has little effect on sentencing length."
   ]
  },
  {
   "cell_type": "markdown",
   "id": "4be89138-1927-4752-806f-55723a721b47",
   "metadata": {},
   "source": [
    "### Criminal History Coefficients"
   ]
  },
  {
   "cell_type": "code",
   "execution_count": 25,
   "id": "c83426d3-aecc-415f-bd6c-d22e1ce927fe",
   "metadata": {},
   "outputs": [
    {
     "data": {
      "text/html": [
       "<div>\n",
       "<style scoped>\n",
       "    .dataframe tbody tr th:only-of-type {\n",
       "        vertical-align: middle;\n",
       "    }\n",
       "\n",
       "    .dataframe tbody tr th {\n",
       "        vertical-align: top;\n",
       "    }\n",
       "\n",
       "    .dataframe thead th {\n",
       "        text-align: right;\n",
       "    }\n",
       "</style>\n",
       "<table border=\"1\" class=\"dataframe\">\n",
       "  <thead>\n",
       "    <tr style=\"text-align: right;\">\n",
       "      <th></th>\n",
       "      <th>feature</th>\n",
       "      <th>coeffs</th>\n",
       "    </tr>\n",
       "  </thead>\n",
       "  <tbody>\n",
       "    <tr>\n",
       "      <th>72</th>\n",
       "      <td>criminal_hist_0.0</td>\n",
       "      <td>-6.844671e+00</td>\n",
       "    </tr>\n",
       "    <tr>\n",
       "      <th>73</th>\n",
       "      <td>criminal_hist_1.0</td>\n",
       "      <td>1.817813e-09</td>\n",
       "    </tr>\n",
       "  </tbody>\n",
       "</table>\n",
       "</div>"
      ],
      "text/plain": [
       "              feature        coeffs\n",
       "72  criminal_hist_0.0 -6.844671e+00\n",
       "73  criminal_hist_1.0  1.817813e-09"
      ]
     },
     "execution_count": 25,
     "metadata": {},
     "output_type": "execute_result"
    }
   ],
   "source": [
    "crimhist_coeff = lc_dff[lc_dff['feature'].str.contains('criminal_hist')]\n",
    "crimhist_coeff.sort_values(by='coeffs')"
   ]
  },
  {
   "cell_type": "markdown",
   "id": "eadd6299-0924-4c56-b5cc-0e61521899da",
   "metadata": {},
   "source": [
    "Criminal history has little effect on sentencing."
   ]
  },
  {
   "cell_type": "markdown",
   "id": "73f1873d-e3d5-4ddb-b1ce-08502e1ab410",
   "metadata": {},
   "source": [
    "### Disposition Coefficients"
   ]
  },
  {
   "cell_type": "code",
   "execution_count": 26,
   "id": "5942f47a-0530-49dc-9940-1c9dec77839f",
   "metadata": {},
   "outputs": [
    {
     "data": {
      "text/html": [
       "<div>\n",
       "<style scoped>\n",
       "    .dataframe tbody tr th:only-of-type {\n",
       "        vertical-align: middle;\n",
       "    }\n",
       "\n",
       "    .dataframe tbody tr th {\n",
       "        vertical-align: top;\n",
       "    }\n",
       "\n",
       "    .dataframe thead th {\n",
       "        text-align: right;\n",
       "    }\n",
       "</style>\n",
       "<table border=\"1\" class=\"dataframe\">\n",
       "  <thead>\n",
       "    <tr style=\"text-align: right;\">\n",
       "      <th></th>\n",
       "      <th>feature</th>\n",
       "      <th>coeffs</th>\n",
       "    </tr>\n",
       "  </thead>\n",
       "  <tbody>\n",
       "    <tr>\n",
       "      <th>15</th>\n",
       "      <td>disposition_2</td>\n",
       "      <td>-28.983393</td>\n",
       "    </tr>\n",
       "    <tr>\n",
       "      <th>14</th>\n",
       "      <td>disposition_1</td>\n",
       "      <td>-28.086450</td>\n",
       "    </tr>\n",
       "    <tr>\n",
       "      <th>17</th>\n",
       "      <td>disposition_4</td>\n",
       "      <td>-0.000000</td>\n",
       "    </tr>\n",
       "    <tr>\n",
       "      <th>16</th>\n",
       "      <td>disposition_3</td>\n",
       "      <td>66.645347</td>\n",
       "    </tr>\n",
       "    <tr>\n",
       "      <th>18</th>\n",
       "      <td>disposition_5</td>\n",
       "      <td>86.771263</td>\n",
       "    </tr>\n",
       "  </tbody>\n",
       "</table>\n",
       "</div>"
      ],
      "text/plain": [
       "          feature     coeffs\n",
       "15  disposition_2 -28.983393\n",
       "14  disposition_1 -28.086450\n",
       "17  disposition_4  -0.000000\n",
       "16  disposition_3  66.645347\n",
       "18  disposition_5  86.771263"
      ]
     },
     "execution_count": 26,
     "metadata": {},
     "output_type": "execute_result"
    }
   ],
   "source": [
    "disp_coeff = lc_dff[lc_dff['feature'].str.contains('disposition')]\n",
    "disp_coeff.sort_values(by='coeffs')"
   ]
  },
  {
   "cell_type": "markdown",
   "id": "29acf81b-47e2-43e0-b277-49545191536b",
   "metadata": {},
   "source": [
    "Going to trial versus securing a plea deal or no contest deal has a large impact on sentence outcome."
   ]
  },
  {
   "cell_type": "markdown",
   "id": "ecfa3e10-a991-4416-b5e5-5f2874993dca",
   "metadata": {},
   "source": [
    "### Year Sentenced Coefficients"
   ]
  },
  {
   "cell_type": "code",
   "execution_count": 27,
   "id": "fc12f7aa-a5ef-435a-9a2a-66eae81799c0",
   "metadata": {
    "tags": []
   },
   "outputs": [
    {
     "data": {
      "text/html": [
       "<div>\n",
       "<style scoped>\n",
       "    .dataframe tbody tr th:only-of-type {\n",
       "        vertical-align: middle;\n",
       "    }\n",
       "\n",
       "    .dataframe tbody tr th {\n",
       "        vertical-align: top;\n",
       "    }\n",
       "\n",
       "    .dataframe thead th {\n",
       "        text-align: right;\n",
       "    }\n",
       "</style>\n",
       "<table border=\"1\" class=\"dataframe\">\n",
       "  <thead>\n",
       "    <tr style=\"text-align: right;\">\n",
       "      <th></th>\n",
       "      <th>feature</th>\n",
       "      <th>coeffs</th>\n",
       "    </tr>\n",
       "  </thead>\n",
       "  <tbody>\n",
       "    <tr>\n",
       "      <th>4</th>\n",
       "      <td>year_sentenced_2020</td>\n",
       "      <td>-1.458982</td>\n",
       "    </tr>\n",
       "    <tr>\n",
       "      <th>3</th>\n",
       "      <td>year_sentenced_2019</td>\n",
       "      <td>-0.004042</td>\n",
       "    </tr>\n",
       "    <tr>\n",
       "      <th>5</th>\n",
       "      <td>year_sentenced_2021</td>\n",
       "      <td>0.251234</td>\n",
       "    </tr>\n",
       "    <tr>\n",
       "      <th>2</th>\n",
       "      <td>year_sentenced_2018</td>\n",
       "      <td>1.776304</td>\n",
       "    </tr>\n",
       "  </tbody>\n",
       "</table>\n",
       "</div>"
      ],
      "text/plain": [
       "               feature    coeffs\n",
       "4  year_sentenced_2020 -1.458982\n",
       "3  year_sentenced_2019 -0.004042\n",
       "5  year_sentenced_2021  0.251234\n",
       "2  year_sentenced_2018  1.776304"
      ]
     },
     "execution_count": 27,
     "metadata": {},
     "output_type": "execute_result"
    }
   ],
   "source": [
    "ys_coeff = lc_dff[lc_dff['feature'].str.contains('year_sent')]\n",
    "ys_coeff.sort_values(by='coeffs')"
   ]
  },
  {
   "cell_type": "markdown",
   "id": "a6bcf137-c3d8-483a-afce-3c15ad81e50f",
   "metadata": {},
   "source": [
    "Year sentenced did not have a large effect on effect on sentence length."
   ]
  }
 ],
 "metadata": {
  "kernelspec": {
   "display_name": "Python 3 (ipykernel)",
   "language": "python",
   "name": "python3"
  },
  "language_info": {
   "codemirror_mode": {
    "name": "ipython",
    "version": 3
   },
   "file_extension": ".py",
   "mimetype": "text/x-python",
   "name": "python",
   "nbconvert_exporter": "python",
   "pygments_lexer": "ipython3",
   "version": "3.9.7"
  }
 },
 "nbformat": 4,
 "nbformat_minor": 5
}
