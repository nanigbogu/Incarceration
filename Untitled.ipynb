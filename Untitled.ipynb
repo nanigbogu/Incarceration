{
 "cells": [
  {
   "cell_type": "code",
   "execution_count": 1,
   "id": "34a6cb43-3635-4d72-bac2-bfe60679354f",
   "metadata": {},
   "outputs": [],
   "source": [
    "import pandas as pd"
   ]
  },
  {
   "cell_type": "code",
   "execution_count": 2,
   "id": "e1135478-47a7-43f6-a22b-e57bca45ddad",
   "metadata": {},
   "outputs": [],
   "source": [
    "data = pd.read_csv('pop_breakdowns (1).csv')"
   ]
  },
  {
   "cell_type": "code",
   "execution_count": 3,
   "id": "2daba71c-c1e5-4402-a27a-053fea2b3d3c",
   "metadata": {},
   "outputs": [
    {
     "data": {
      "text/html": [
       "<div>\n",
       "<style scoped>\n",
       "    .dataframe tbody tr th:only-of-type {\n",
       "        vertical-align: middle;\n",
       "    }\n",
       "\n",
       "    .dataframe tbody tr th {\n",
       "        vertical-align: top;\n",
       "    }\n",
       "\n",
       "    .dataframe thead th {\n",
       "        text-align: right;\n",
       "    }\n",
       "</style>\n",
       "<table border=\"1\" class=\"dataframe\">\n",
       "  <thead>\n",
       "    <tr style=\"text-align: right;\">\n",
       "      <th></th>\n",
       "      <th>state</th>\n",
       "      <th>2020_pop</th>\n",
       "      <th>2020_whitepop</th>\n",
       "      <th>2020_white_per</th>\n",
       "      <th>2020_minority_per</th>\n",
       "      <th>conv_18to21</th>\n",
       "      <th>conv_per100K</th>\n",
       "      <th>conv_white_per</th>\n",
       "      <th>conv_minority_per</th>\n",
       "      <th>by_white_pop</th>\n",
       "      <th>by_minority_pop</th>\n",
       "    </tr>\n",
       "  </thead>\n",
       "  <tbody>\n",
       "    <tr>\n",
       "      <th>0</th>\n",
       "      <td>Alabama</td>\n",
       "      <td>3917166</td>\n",
       "      <td>2595046</td>\n",
       "      <td>0.662480</td>\n",
       "      <td>0.337520</td>\n",
       "      <td>3667</td>\n",
       "      <td>94.0</td>\n",
       "      <td>0.341969</td>\n",
       "      <td>0.658031</td>\n",
       "      <td>0.320512</td>\n",
       "      <td>-0.320512</td>\n",
       "    </tr>\n",
       "    <tr>\n",
       "      <th>1</th>\n",
       "      <td>Alaska</td>\n",
       "      <td>554003</td>\n",
       "      <td>349626</td>\n",
       "      <td>0.631090</td>\n",
       "      <td>0.368910</td>\n",
       "      <td>612</td>\n",
       "      <td>110.0</td>\n",
       "      <td>0.459150</td>\n",
       "      <td>0.540850</td>\n",
       "      <td>0.171940</td>\n",
       "      <td>-0.171940</td>\n",
       "    </tr>\n",
       "    <tr>\n",
       "      <th>2</th>\n",
       "      <td>Arizona</td>\n",
       "      <td>5541976</td>\n",
       "      <td>3549308</td>\n",
       "      <td>0.640441</td>\n",
       "      <td>0.359559</td>\n",
       "      <td>18052</td>\n",
       "      <td>326.0</td>\n",
       "      <td>0.052903</td>\n",
       "      <td>0.947097</td>\n",
       "      <td>0.587538</td>\n",
       "      <td>-0.587538</td>\n",
       "    </tr>\n",
       "    <tr>\n",
       "      <th>3</th>\n",
       "      <td>Arkansas</td>\n",
       "      <td>2312273</td>\n",
       "      <td>1683440</td>\n",
       "      <td>0.728046</td>\n",
       "      <td>0.271954</td>\n",
       "      <td>2830</td>\n",
       "      <td>122.0</td>\n",
       "      <td>0.362898</td>\n",
       "      <td>0.637102</td>\n",
       "      <td>0.365148</td>\n",
       "      <td>-0.365148</td>\n",
       "    </tr>\n",
       "    <tr>\n",
       "      <th>4</th>\n",
       "      <td>California</td>\n",
       "      <td>30827105</td>\n",
       "      <td>13443813</td>\n",
       "      <td>0.436104</td>\n",
       "      <td>0.563896</td>\n",
       "      <td>20655</td>\n",
       "      <td>67.0</td>\n",
       "      <td>0.136674</td>\n",
       "      <td>0.863326</td>\n",
       "      <td>0.299430</td>\n",
       "      <td>-0.299430</td>\n",
       "    </tr>\n",
       "  </tbody>\n",
       "</table>\n",
       "</div>"
      ],
      "text/plain": [
       "        state  2020_pop  2020_whitepop  2020_white_per  2020_minority_per  \\\n",
       "0     Alabama   3917166        2595046        0.662480           0.337520   \n",
       "1      Alaska    554003         349626        0.631090           0.368910   \n",
       "2     Arizona   5541976        3549308        0.640441           0.359559   \n",
       "3    Arkansas   2312273        1683440        0.728046           0.271954   \n",
       "4  California  30827105       13443813        0.436104           0.563896   \n",
       "\n",
       "   conv_18to21  conv_per100K  conv_white_per  conv_minority_per  by_white_pop  \\\n",
       "0         3667          94.0        0.341969           0.658031      0.320512   \n",
       "1          612         110.0        0.459150           0.540850      0.171940   \n",
       "2        18052         326.0        0.052903           0.947097      0.587538   \n",
       "3         2830         122.0        0.362898           0.637102      0.365148   \n",
       "4        20655          67.0        0.136674           0.863326      0.299430   \n",
       "\n",
       "   by_minority_pop  \n",
       "0        -0.320512  \n",
       "1        -0.171940  \n",
       "2        -0.587538  \n",
       "3        -0.365148  \n",
       "4        -0.299430  "
      ]
     },
     "execution_count": 3,
     "metadata": {},
     "output_type": "execute_result"
    }
   ],
   "source": [
    "data.head()"
   ]
  },
  {
   "cell_type": "code",
   "execution_count": 5,
   "id": "7ea53f24-fbd2-44bd-b399-7b9a4c526cb1",
   "metadata": {},
   "outputs": [
    {
     "data": {
      "text/plain": [
       "count    51.000000\n",
       "mean      0.389333\n",
       "std       0.097331\n",
       "min       0.067349\n",
       "25%       0.336898\n",
       "50%       0.386499\n",
       "75%       0.449089\n",
       "max       0.587538\n",
       "Name: by_white_pop, dtype: float64"
      ]
     },
     "execution_count": 5,
     "metadata": {},
     "output_type": "execute_result"
    }
   ],
   "source": [
    "data['by_white_pop'].describe()"
   ]
  },
  {
   "cell_type": "code",
   "execution_count": null,
   "id": "b5bb1af4-7b38-4740-a49a-40bd5de1fae1",
   "metadata": {},
   "outputs": [],
   "source": []
  },
  {
   "cell_type": "code",
   "execution_count": null,
   "id": "29a0d388-9ad8-435e-82a2-53ec668eeaf2",
   "metadata": {},
   "outputs": [],
   "source": []
  },
  {
   "cell_type": "code",
   "execution_count": null,
   "id": "27720e4c-212a-4f57-ac24-356c614c5645",
   "metadata": {},
   "outputs": [],
   "source": []
  },
  {
   "cell_type": "code",
   "execution_count": null,
   "id": "3a511996-fda3-447f-9baa-f972a0d3c960",
   "metadata": {},
   "outputs": [],
   "source": []
  },
  {
   "cell_type": "code",
   "execution_count": null,
   "id": "cac065fb-8f61-466f-9bdb-f7a6bb6802c4",
   "metadata": {},
   "outputs": [],
   "source": []
  }
 ],
 "metadata": {
  "kernelspec": {
   "display_name": "Python 3 (ipykernel)",
   "language": "python",
   "name": "python3"
  },
  "language_info": {
   "codemirror_mode": {
    "name": "ipython",
    "version": 3
   },
   "file_extension": ".py",
   "mimetype": "text/x-python",
   "name": "python",
   "nbconvert_exporter": "python",
   "pygments_lexer": "ipython3",
   "version": "3.9.7"
  }
 },
 "nbformat": 4,
 "nbformat_minor": 5
}
