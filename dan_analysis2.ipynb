{
 "cells": [
  {
   "cell_type": "code",
   "execution_count": 1,
   "id": "16062ff4-62b4-4343-88c9-c7183578dd6d",
   "metadata": {},
   "outputs": [],
   "source": [
    "import pandas as pd\n",
    "import numpy as np\n",
    "from scipy import stats\n",
    "from sklearn.preprocessing import OneHotEncoder\n",
    "from sklearn.compose import make_column_transformer\n",
    "from sklearn.compose import ColumnTransformer\n",
    "from sklearn.preprocessing import StandardScaler\n",
    "from sklearn.linear_model import LinearRegression, LassoCV, RidgeCV, Lasso, Ridge\n",
    "from sklearn.compose import TransformedTargetRegressor\n",
    "from sklearn.model_selection import train_test_split\n",
    "import seaborn as sns\n",
    "from sklearn.naive_bayes import GaussianNB, MultinomialNB\n",
    "from sklearn.preprocessing import MinMaxScaler"
   ]
  },
  {
   "cell_type": "code",
   "execution_count": 2,
   "id": "93d68c00-1ddb-4576-9f8f-f25b23f97abf",
   "metadata": {},
   "outputs": [],
   "source": [
    "census_data = pd.read_csv('census_20.csv')"
   ]
  },
  {
   "cell_type": "code",
   "execution_count": 3,
   "id": "8032930e-6048-4ae4-8cca-fa5ba9e7336e",
   "metadata": {},
   "outputs": [
    {
     "data": {
      "text/plain": [
       "state          object\n",
       "total_pop       int64\n",
       "white_pop       int64\n",
       "white_perc    float64\n",
       "dtype: object"
      ]
     },
     "execution_count": 3,
     "metadata": {},
     "output_type": "execute_result"
    }
   ],
   "source": [
    "census_data.dtypes"
   ]
  },
  {
   "cell_type": "code",
   "execution_count": 4,
   "id": "112cb483-ca19-4581-ad3d-c175ea8bc24b",
   "metadata": {
    "tags": []
   },
   "outputs": [],
   "source": [
    "df18to21 = pd.read_csv('df18to21_cleaned.csv')"
   ]
  },
  {
   "cell_type": "code",
   "execution_count": 5,
   "id": "e7658ff2-a84c-4198-8adb-0bf7bb5245e0",
   "metadata": {},
   "outputs": [
    {
     "data": {
      "text/plain": [
       "Index(['Unnamed: 0.1', 'Unnamed: 0', 'sentence_length', 'year_sentenced',\n",
       "       'sentence_type', 'guideline_range', 'imprisoned', 'guideline_var_pct',\n",
       "       'dependents', 'count_convictons', 'race', 'disposition', 'citizen',\n",
       "       'state', 'criminal_hist', 'drug_type', 'case_type', 'age', 'weapon',\n",
       "       'presentence_stat', 'gender', 'crime_type', 'region', 'college',\n",
       "       'white', 'perc_charged'],\n",
       "      dtype='object')"
      ]
     },
     "execution_count": 5,
     "metadata": {},
     "output_type": "execute_result"
    }
   ],
   "source": [
    "df18to21.columns"
   ]
  },
  {
   "cell_type": "code",
   "execution_count": 6,
   "id": "3c70052a-a26c-4029-be80-358d351eb989",
   "metadata": {},
   "outputs": [],
   "source": [
    "df18to21 = df18to21.drop(columns=['Unnamed: 0','Unnamed: 0.1'])"
   ]
  },
  {
   "cell_type": "markdown",
   "id": "cd49cc68-af53-448f-8fb2-aacb68e9700e",
   "metadata": {},
   "source": [
    "No discernible change in rate of prison sentences due to covid."
   ]
  },
  {
   "cell_type": "code",
   "execution_count": 7,
   "id": "843452f3-6b4e-4ba8-8f62-419d24a8b241",
   "metadata": {},
   "outputs": [
    {
     "data": {
      "text/plain": [
       "year_sentenced\n",
       "2018    0.911890\n",
       "2019    0.919923\n",
       "2020    0.914164\n",
       "2021    0.915759\n",
       "Name: imprisoned, dtype: float64"
      ]
     },
     "execution_count": 7,
     "metadata": {},
     "output_type": "execute_result"
    }
   ],
   "source": [
    "df18to21.groupby('year_sentenced')['imprisoned'].mean()"
   ]
  },
  {
   "cell_type": "markdown",
   "id": "e1d40237-768d-45c1-93ca-49f0db266461",
   "metadata": {},
   "source": [
    "Fewer number of convictions post covid"
   ]
  },
  {
   "cell_type": "code",
   "execution_count": 8,
   "id": "aa79a7ff-7742-4af1-8f67-c29b65cf5231",
   "metadata": {
    "tags": []
   },
   "outputs": [
    {
     "data": {
      "text/plain": [
       "2019    77425\n",
       "2018    70185\n",
       "2020    56037\n",
       "2021    43886\n",
       "Name: year_sentenced, dtype: int64"
      ]
     },
     "execution_count": 8,
     "metadata": {},
     "output_type": "execute_result"
    }
   ],
   "source": [
    "df18to21['year_sentenced'].value_counts()"
   ]
  },
  {
   "cell_type": "code",
   "execution_count": 9,
   "id": "071216fb-7c2e-4ba6-8d74-ff0cea773d4e",
   "metadata": {},
   "outputs": [],
   "source": [
    "df18to21['over25'] = [1 if i >= 25 else 0 for i in df18to21['age']]"
   ]
  },
  {
   "cell_type": "code",
   "execution_count": 10,
   "id": "4d16ad48-0434-4985-86f8-3a2f4074ce41",
   "metadata": {},
   "outputs": [],
   "source": [
    "violent_crimes = [3,4,13,19,20,22,26,27,28]"
   ]
  },
  {
   "cell_type": "code",
   "execution_count": 11,
   "id": "e0ae001a-d875-4fc4-b4d6-424e541f32e7",
   "metadata": {},
   "outputs": [],
   "source": [
    "df18to21['violent_crime'] = [1 if i in violent_crimes else 0 for i in df18to21['crime_type']]"
   ]
  },
  {
   "cell_type": "markdown",
   "id": "8870798b-1ed9-46a8-a852-bb2be1505296",
   "metadata": {},
   "source": [
    "Less violent crime as you get older."
   ]
  },
  {
   "cell_type": "code",
   "execution_count": 12,
   "id": "7eb4f87f-1e50-4553-8a60-4189854c440d",
   "metadata": {},
   "outputs": [
    {
     "data": {
      "text/plain": [
       "over25\n",
       "0    0.227203\n",
       "1    0.170034\n",
       "Name: violent_crime, dtype: float64"
      ]
     },
     "execution_count": 12,
     "metadata": {},
     "output_type": "execute_result"
    }
   ],
   "source": [
    "df18to21.groupby('over25')['violent_crime'].mean()"
   ]
  },
  {
   "cell_type": "code",
   "execution_count": 13,
   "id": "e2cea0a1-cb31-45a1-be79-caccf4f36621",
   "metadata": {},
   "outputs": [
    {
     "data": {
      "text/plain": [
       "gender\n",
       "0.0    35.0\n",
       "1.0    35.0\n",
       "Name: age, dtype: float64"
      ]
     },
     "execution_count": 13,
     "metadata": {},
     "output_type": "execute_result"
    }
   ],
   "source": [
    "df18to21.groupby('gender')['age'].median()"
   ]
  },
  {
   "cell_type": "code",
   "execution_count": 14,
   "id": "5b6cc504-299e-4a92-a51a-57732dd93d56",
   "metadata": {},
   "outputs": [
    {
     "data": {
      "text/plain": [
       "count    247533.000000\n",
       "mean         57.223619\n",
       "std         398.033474\n",
       "min           0.000000\n",
       "25%           0.000000\n",
       "50%          18.000000\n",
       "75%          60.000000\n",
       "max        9996.000000\n",
       "Name: sentence_length, dtype: float64"
      ]
     },
     "execution_count": 14,
     "metadata": {},
     "output_type": "execute_result"
    }
   ],
   "source": [
    "df18to21['sentence_length'].describe()"
   ]
  },
  {
   "cell_type": "code",
   "execution_count": 15,
   "id": "1aa3ff1f-90b7-4336-b899-da2da7ed3afe",
   "metadata": {},
   "outputs": [],
   "source": [
    "df18to21['trial_custody'] = [1 if i == 1 else 0 for i in df18to21['presentence_stat']]"
   ]
  },
  {
   "cell_type": "code",
   "execution_count": 16,
   "id": "b970bfc8-64f7-4be3-869d-fb3b51a09485",
   "metadata": {},
   "outputs": [
    {
     "data": {
      "text/plain": [
       "0.8025313796544299"
      ]
     },
     "execution_count": 16,
     "metadata": {},
     "output_type": "execute_result"
    }
   ],
   "source": [
    "df18to21['trial_custody'].mean()"
   ]
  },
  {
   "cell_type": "code",
   "execution_count": 17,
   "id": "db908851-b996-4a80-8b31-6770e5379ce0",
   "metadata": {},
   "outputs": [],
   "source": [
    "X = df18to21[['dependents', 'count_convictons','disposition', 'citizen',\n",
    "       'state', 'criminal_hist', 'drug_type', 'case_type', 'age', 'weapon',\n",
    "       'gender', 'crime_type','college',\n",
    "       'white']]\n",
    "y = df18to21['trial_custody']"
   ]
  },
  {
   "cell_type": "code",
   "execution_count": 18,
   "id": "fe9c7874-2f04-4fb8-ba02-57cc5999e515",
   "metadata": {},
   "outputs": [],
   "source": [
    "numeric = ['count_convictons','age']\n",
    "categorical = ['dependents','white','disposition','citizen', 'state',\n",
    "              'criminal_hist', 'drug_type','weapon','gender','crime_type','case_type','college']"
   ]
  },
  {
   "cell_type": "code",
   "execution_count": 19,
   "id": "a92eaac5-5fc2-4c43-b22c-023ee2de7827",
   "metadata": {},
   "outputs": [],
   "source": [
    "X_train,X_test,y_train,y_test = train_test_split(X,y,random_state=42,stratify=y)"
   ]
  },
  {
   "cell_type": "code",
   "execution_count": 20,
   "id": "46dff533-0a6b-4a99-9846-a809e79ff9a9",
   "metadata": {},
   "outputs": [],
   "source": [
    "ctx = ColumnTransformer(\n",
    "    [('mms',MinMaxScaler(),numeric),\n",
    "     ('ohe',OneHotEncoder(handle_unknown='ignore',drop='first'),\\\n",
    "     categorical)],\n",
    "     verbose_feature_names_out=False,\n",
    "     remainder = 'passthrough'\n",
    ")\n",
    "\n",
    "ctx.fit(X_train)\n",
    "X_train_t = ctx.transform(X_train)\n",
    "X_test_t = ctx.transform(X_test)\n",
    "\n",
    "X_train = pd.DataFrame(X_train_t.A,columns=ctx.get_feature_names_out())\n",
    "X_test = pd.DataFrame(X_test_t.A,columns=ctx.get_feature_names_out())"
   ]
  },
  {
   "cell_type": "code",
   "execution_count": 21,
   "id": "ee9c89f6-bdfa-4fa2-8c63-ce0a86af7012",
   "metadata": {},
   "outputs": [
    {
     "data": {
      "text/plain": [
       "1    0.802534\n",
       "0    0.197466\n",
       "Name: trial_custody, dtype: float64"
      ]
     },
     "execution_count": 21,
     "metadata": {},
     "output_type": "execute_result"
    }
   ],
   "source": [
    "y_test.value_counts(normalize=True)"
   ]
  },
  {
   "cell_type": "code",
   "execution_count": 22,
   "id": "8045597c-ebba-4edd-8209-dc594ceeffba",
   "metadata": {},
   "outputs": [
    {
     "data": {
      "text/plain": [
       "(0.8405862676340837, 0.8398778359511344)"
      ]
     },
     "execution_count": 22,
     "metadata": {},
     "output_type": "execute_result"
    }
   ],
   "source": [
    "mnb = MultinomialNB()\n",
    "mnb.fit(X_train,y_train)\n",
    "mnb.score(X_train,y_train), mnb.score(X_test,y_test)"
   ]
  },
  {
   "cell_type": "code",
   "execution_count": 23,
   "id": "0110090c-5597-4819-b28f-6a27bbdabe3d",
   "metadata": {},
   "outputs": [],
   "source": [
    "imps = mnb.feature_log_prob_[1,:] - mnb.feature_log_prob_[0,:]"
   ]
  },
  {
   "cell_type": "code",
   "execution_count": 24,
   "id": "f5df79db-b3a9-4f37-aab6-beef3c1f7bdf",
   "metadata": {},
   "outputs": [],
   "source": [
    "mnb_feat_imp = pd.DataFrame(imps.T,\n",
    "            index=X_train.columns,\n",
    "            columns=['feature imps'])"
   ]
  },
  {
   "cell_type": "code",
   "execution_count": 25,
   "id": "0473af71-8ebb-4a6a-bf1e-27cdaa866532",
   "metadata": {},
   "outputs": [
    {
     "data": {
      "text/html": [
       "<div>\n",
       "<style scoped>\n",
       "    .dataframe tbody tr th:only-of-type {\n",
       "        vertical-align: middle;\n",
       "    }\n",
       "\n",
       "    .dataframe tbody tr th {\n",
       "        vertical-align: top;\n",
       "    }\n",
       "\n",
       "    .dataframe thead th {\n",
       "        text-align: right;\n",
       "    }\n",
       "</style>\n",
       "<table border=\"1\" class=\"dataframe\">\n",
       "  <thead>\n",
       "    <tr style=\"text-align: right;\">\n",
       "      <th></th>\n",
       "      <th>feature imps</th>\n",
       "    </tr>\n",
       "  </thead>\n",
       "  <tbody>\n",
       "    <tr>\n",
       "      <th>crime_type_25</th>\n",
       "      <td>1.798787</td>\n",
       "    </tr>\n",
       "    <tr>\n",
       "      <th>crime_type_22</th>\n",
       "      <td>1.777588</td>\n",
       "    </tr>\n",
       "    <tr>\n",
       "      <th>state_New Mexico</th>\n",
       "      <td>1.681598</td>\n",
       "    </tr>\n",
       "    <tr>\n",
       "      <th>crime_type_17</th>\n",
       "      <td>1.627959</td>\n",
       "    </tr>\n",
       "    <tr>\n",
       "      <th>crime_type_19</th>\n",
       "      <td>1.445571</td>\n",
       "    </tr>\n",
       "    <tr>\n",
       "      <th>crime_type_26</th>\n",
       "      <td>0.997658</td>\n",
       "    </tr>\n",
       "    <tr>\n",
       "      <th>state_Arizona</th>\n",
       "      <td>0.894053</td>\n",
       "    </tr>\n",
       "    <tr>\n",
       "      <th>state_Texas</th>\n",
       "      <td>0.886408</td>\n",
       "    </tr>\n",
       "    <tr>\n",
       "      <th>crime_type_27</th>\n",
       "      <td>0.743805</td>\n",
       "    </tr>\n",
       "    <tr>\n",
       "      <th>weapon_1</th>\n",
       "      <td>0.701737</td>\n",
       "    </tr>\n",
       "    <tr>\n",
       "      <th>state_Utah</th>\n",
       "      <td>0.530466</td>\n",
       "    </tr>\n",
       "    <tr>\n",
       "      <th>crime_type_4</th>\n",
       "      <td>0.468147</td>\n",
       "    </tr>\n",
       "    <tr>\n",
       "      <th>state_Iowa</th>\n",
       "      <td>0.397208</td>\n",
       "    </tr>\n",
       "    <tr>\n",
       "      <th>crime_type_24</th>\n",
       "      <td>0.389801</td>\n",
       "    </tr>\n",
       "    <tr>\n",
       "      <th>state_Wyoming</th>\n",
       "      <td>0.359446</td>\n",
       "    </tr>\n",
       "  </tbody>\n",
       "</table>\n",
       "</div>"
      ],
      "text/plain": [
       "                  feature imps\n",
       "crime_type_25         1.798787\n",
       "crime_type_22         1.777588\n",
       "state_New Mexico      1.681598\n",
       "crime_type_17         1.627959\n",
       "crime_type_19         1.445571\n",
       "crime_type_26         0.997658\n",
       "state_Arizona         0.894053\n",
       "state_Texas           0.886408\n",
       "crime_type_27         0.743805\n",
       "weapon_1              0.701737\n",
       "state_Utah            0.530466\n",
       "crime_type_4          0.468147\n",
       "state_Iowa            0.397208\n",
       "crime_type_24         0.389801\n",
       "state_Wyoming         0.359446"
      ]
     },
     "execution_count": 25,
     "metadata": {},
     "output_type": "execute_result"
    }
   ],
   "source": [
    "mnb_feat_imp.sort_values(by='feature imps',ascending=False).head(15)"
   ]
  },
  {
   "cell_type": "markdown",
   "id": "23dc907b-d2a9-47b5-a50c-a7cf377b60e2",
   "metadata": {},
   "source": [
    "https://www.nbcnews.com/news/us-news/new-mexico-eliminated-cash-bail-now-one-county-locks-more-n1250257"
   ]
  },
  {
   "cell_type": "code",
   "execution_count": 26,
   "id": "ee29a62d-ed50-4f68-9946-f70032decd63",
   "metadata": {},
   "outputs": [
    {
     "data": {
      "text/plain": [
       "criminal_hist\n",
       "0.0    1.526017\n",
       "1.0    1.333087\n",
       "Name: count_convictons, dtype: float64"
      ]
     },
     "execution_count": 26,
     "metadata": {},
     "output_type": "execute_result"
    }
   ],
   "source": [
    "df18to21.groupby('criminal_hist')['count_convictons'].mean()"
   ]
  },
  {
   "cell_type": "code",
   "execution_count": 27,
   "id": "ab04b2a2-afe3-450e-874e-70fb3d2cc2e1",
   "metadata": {},
   "outputs": [
    {
     "data": {
      "text/plain": [
       "0.0     173809\n",
       "6.0      31542\n",
       "1.0      11810\n",
       "3.0       8784\n",
       "4.0       7406\n",
       "77.0      6943\n",
       "2.0       5455\n",
       "7.0       1784\n",
       "Name: drug_type, dtype: int64"
      ]
     },
     "execution_count": 27,
     "metadata": {},
     "output_type": "execute_result"
    }
   ],
   "source": [
    "df18to21['drug_type'].value_counts()"
   ]
  },
  {
   "cell_type": "markdown",
   "id": "5296a305-0700-42b2-a90c-ad7f7ecf65ed",
   "metadata": {},
   "source": [
    " 1 = Cocaine\n",
    " 2 = Crack\n",
    " 3 = Heroin\n",
    " 4 = Marijuana\n",
    " 6 = Methamphetamine\n",
    " 7 = Fentanyl\n",
    "77 = Other"
   ]
  },
  {
   "cell_type": "code",
   "execution_count": 28,
   "id": "8b589a74-9c61-40d1-b9be-6cb6086c78f0",
   "metadata": {},
   "outputs": [
    {
     "data": {
      "text/plain": [
       "drug_type\n",
       "0.0     1.284933\n",
       "1.0     1.415072\n",
       "2.0     1.787351\n",
       "3.0     1.506375\n",
       "4.0     1.383878\n",
       "6.0     1.397755\n",
       "7.0     1.663117\n",
       "77.0    2.183206\n",
       "Name: count_convictons, dtype: float64"
      ]
     },
     "execution_count": 28,
     "metadata": {},
     "output_type": "execute_result"
    }
   ],
   "source": [
    "df18to21.groupby('drug_type')['count_convictons'].mean()"
   ]
  },
  {
   "cell_type": "code",
   "execution_count": 29,
   "id": "a5177588-f045-4f2d-93a0-e61b08867573",
   "metadata": {},
   "outputs": [
    {
     "data": {
      "text/plain": [
       "state\n",
       "Texas                   67282\n",
       "California              20655\n",
       "Arizona                 18052\n",
       "Florida                 11971\n",
       "New Mexico              11611\n",
       "New York                 9193\n",
       "North Carolina           6587\n",
       "Missouri                 6490\n",
       "Georgia                  5169\n",
       "Tennessee                5130\n",
       "Ohio                     5103\n",
       "Pennsylvania             5022\n",
       "Virginia                 4943\n",
       "Illinois                 4179\n",
       "Michigan                 3931\n",
       "Alabama                  3667\n",
       "Iowa                     3159\n",
       "Indiana                  3050\n",
       "South Carolina           2920\n",
       "Kentucky                 2919\n",
       "Oklahoma                 2908\n",
       "Arkansas                 2830\n",
       "Utah                     2558\n",
       "Washington               2510\n",
       "Louisiana                2509\n",
       "Maryland                 2415\n",
       "New Jersey               2212\n",
       "West Virginia            1952\n",
       "Mississippi              1924\n",
       "South Dakota             1836\n",
       "Nebraska                 1786\n",
       "Colorado                 1714\n",
       "Massachusetts            1700\n",
       "Wisconsin                1567\n",
       "Kansas                   1546\n",
       "Oregon                   1545\n",
       "Nevada                   1415\n",
       "Montana                  1308\n",
       "Idaho                    1229\n",
       "Connecticut              1226\n",
       "Minnesota                1197\n",
       "North Dakota             1139\n",
       "District of Columbia     1026\n",
       "New Hampshire             732\n",
       "Wyoming                   648\n",
       "Maine                     619\n",
       "Alaska                    612\n",
       "Vermont                   576\n",
       "Hawaii                    555\n",
       "Rhode Island              384\n",
       "Delaware                  322\n",
       "Name: weapon, dtype: int64"
      ]
     },
     "execution_count": 29,
     "metadata": {},
     "output_type": "execute_result"
    }
   ],
   "source": [
    "(df18to21.groupby('state')['weapon'].count()).sort_values(ascending=False)"
   ]
  },
  {
   "cell_type": "code",
   "execution_count": 30,
   "id": "03d89818-4628-42f4-8230-32a647c23c83",
   "metadata": {},
   "outputs": [],
   "source": [
    "df_state_weapons = pd.DataFrame(df18to21.groupby('state')['weapon'].count()).reset_index()"
   ]
  },
  {
   "cell_type": "code",
   "execution_count": 31,
   "id": "96814b30-f1e5-4609-8e76-62771a369b21",
   "metadata": {},
   "outputs": [],
   "source": [
    "df_state_weapons = pd.merge(df_state_weapons,census_data,how='left',on='state')"
   ]
  },
  {
   "cell_type": "code",
   "execution_count": 32,
   "id": "b403a083-d625-4228-9064-edfba657a700",
   "metadata": {},
   "outputs": [
    {
     "data": {
      "text/html": [
       "<div>\n",
       "<style scoped>\n",
       "    .dataframe tbody tr th:only-of-type {\n",
       "        vertical-align: middle;\n",
       "    }\n",
       "\n",
       "    .dataframe tbody tr th {\n",
       "        vertical-align: top;\n",
       "    }\n",
       "\n",
       "    .dataframe thead th {\n",
       "        text-align: right;\n",
       "    }\n",
       "</style>\n",
       "<table border=\"1\" class=\"dataframe\">\n",
       "  <thead>\n",
       "    <tr style=\"text-align: right;\">\n",
       "      <th></th>\n",
       "      <th>state</th>\n",
       "      <th>weapon</th>\n",
       "      <th>total_pop</th>\n",
       "      <th>white_pop</th>\n",
       "      <th>white_perc</th>\n",
       "    </tr>\n",
       "  </thead>\n",
       "  <tbody>\n",
       "    <tr>\n",
       "      <th>0</th>\n",
       "      <td>Alabama</td>\n",
       "      <td>3667</td>\n",
       "      <td>3917166</td>\n",
       "      <td>2595046</td>\n",
       "      <td>0.662480</td>\n",
       "    </tr>\n",
       "    <tr>\n",
       "      <th>1</th>\n",
       "      <td>Alaska</td>\n",
       "      <td>612</td>\n",
       "      <td>554003</td>\n",
       "      <td>349626</td>\n",
       "      <td>0.631090</td>\n",
       "    </tr>\n",
       "    <tr>\n",
       "      <th>2</th>\n",
       "      <td>Arizona</td>\n",
       "      <td>18052</td>\n",
       "      <td>5541976</td>\n",
       "      <td>3549308</td>\n",
       "      <td>0.640441</td>\n",
       "    </tr>\n",
       "    <tr>\n",
       "      <th>3</th>\n",
       "      <td>Arkansas</td>\n",
       "      <td>2830</td>\n",
       "      <td>2312273</td>\n",
       "      <td>1683440</td>\n",
       "      <td>0.728046</td>\n",
       "    </tr>\n",
       "    <tr>\n",
       "      <th>4</th>\n",
       "      <td>California</td>\n",
       "      <td>20655</td>\n",
       "      <td>30827105</td>\n",
       "      <td>13443813</td>\n",
       "      <td>0.436104</td>\n",
       "    </tr>\n",
       "  </tbody>\n",
       "</table>\n",
       "</div>"
      ],
      "text/plain": [
       "        state  weapon  total_pop  white_pop  white_perc\n",
       "0     Alabama    3667    3917166    2595046    0.662480\n",
       "1      Alaska     612     554003     349626    0.631090\n",
       "2     Arizona   18052    5541976    3549308    0.640441\n",
       "3    Arkansas    2830    2312273    1683440    0.728046\n",
       "4  California   20655   30827105   13443813    0.436104"
      ]
     },
     "execution_count": 32,
     "metadata": {},
     "output_type": "execute_result"
    }
   ],
   "source": [
    "df_state_weapons.head()"
   ]
  },
  {
   "cell_type": "code",
   "execution_count": 33,
   "id": "0a03cfc3-e755-45dd-a53d-72f474e2a837",
   "metadata": {},
   "outputs": [
    {
     "data": {
      "text/plain": [
       "state          object\n",
       "weapon          int64\n",
       "total_pop       int64\n",
       "white_pop       int64\n",
       "white_perc    float64\n",
       "dtype: object"
      ]
     },
     "execution_count": 33,
     "metadata": {},
     "output_type": "execute_result"
    }
   ],
   "source": [
    "df_state_weapons.dtypes"
   ]
  },
  {
   "cell_type": "code",
   "execution_count": null,
   "id": "bfd042af-9f28-4860-adb0-39890a08fe64",
   "metadata": {},
   "outputs": [],
   "source": []
  },
  {
   "cell_type": "code",
   "execution_count": null,
   "id": "2120a47a-c760-4dbe-897e-ca867d9d72b5",
   "metadata": {},
   "outputs": [],
   "source": []
  },
  {
   "cell_type": "code",
   "execution_count": 34,
   "id": "7852aa8a-3ee6-4edf-85d3-b7f546729453",
   "metadata": {},
   "outputs": [],
   "source": [
    "df18to21['above_min'] = [1 if i > 0 else 0 for i in  df18to21['guideline_var_pct']]"
   ]
  },
  {
   "cell_type": "code",
   "execution_count": 35,
   "id": "c9a8f8f6-4479-4119-9acf-4f224ebb80c5",
   "metadata": {},
   "outputs": [],
   "source": [
    "X = df18to21[['dependents', 'count_convictons','disposition', 'citizen',\n",
    "       'state', 'criminal_hist', 'drug_type', 'case_type', 'age', 'weapon',\n",
    "       'gender', 'crime_type','college','presentence_stat',\n",
    "       'race']]\n",
    "y = df18to21['above_min']"
   ]
  },
  {
   "cell_type": "code",
   "execution_count": 36,
   "id": "a1b58e81-f309-4717-9f93-ee951207d784",
   "metadata": {},
   "outputs": [
    {
     "data": {
      "text/plain": [
       "0    0.502345\n",
       "1    0.497655\n",
       "Name: above_min, dtype: float64"
      ]
     },
     "execution_count": 36,
     "metadata": {},
     "output_type": "execute_result"
    }
   ],
   "source": [
    "y.value_counts(normalize=True)"
   ]
  },
  {
   "cell_type": "code",
   "execution_count": 37,
   "id": "1281fde2-aea9-4d61-bd5f-7bfb0b189076",
   "metadata": {},
   "outputs": [],
   "source": [
    "numeric = ['count_convictons','age']\n",
    "categorical = ['dependents','race','disposition','citizen', 'state','presentence_stat',\n",
    "              'criminal_hist', 'drug_type','weapon','gender','crime_type','case_type','college']"
   ]
  },
  {
   "cell_type": "code",
   "execution_count": 38,
   "id": "9c9fddba-8eb7-4f91-86f8-c4aa9ff5a9b7",
   "metadata": {},
   "outputs": [],
   "source": [
    "X_train,X_test,y_train,y_test = train_test_split(X,y,random_state=42,stratify=y)"
   ]
  },
  {
   "cell_type": "code",
   "execution_count": 39,
   "id": "b055b7c2-e4a2-4b4a-94c2-07f82adb8858",
   "metadata": {},
   "outputs": [],
   "source": [
    "ctx = ColumnTransformer(\n",
    "    [('mms',MinMaxScaler(),numeric),\n",
    "     ('ohe',OneHotEncoder(handle_unknown='ignore',drop='first'),\\\n",
    "     categorical)],\n",
    "     verbose_feature_names_out=False,\n",
    "     remainder = 'passthrough'\n",
    ")\n",
    "\n",
    "ctx.fit(X_train)\n",
    "X_train_t = ctx.transform(X_train)\n",
    "X_test_t = ctx.transform(X_test)\n",
    "\n",
    "X_train = pd.DataFrame(X_train_t.A,columns=ctx.get_feature_names_out())\n",
    "X_test = pd.DataFrame(X_test_t.A,columns=ctx.get_feature_names_out())"
   ]
  },
  {
   "cell_type": "code",
   "execution_count": 40,
   "id": "acf8987f-36f9-42de-bf48-0cf2ef588a71",
   "metadata": {},
   "outputs": [
    {
     "data": {
      "text/plain": [
       "(0.6721232002326972, 0.6717406761036778)"
      ]
     },
     "execution_count": 40,
     "metadata": {},
     "output_type": "execute_result"
    }
   ],
   "source": [
    "mnb2 = MultinomialNB()\n",
    "mnb2.fit(X_train,y_train)\n",
    "mnb2.score(X_train,y_train), mnb2.score(X_test,y_test)"
   ]
  },
  {
   "cell_type": "code",
   "execution_count": 41,
   "id": "b72a81d4-8d66-47f0-b90c-4536add9a410",
   "metadata": {},
   "outputs": [],
   "source": [
    "df_noncit = df18to21[df18to21['citizen'] == 0]"
   ]
  },
  {
   "cell_type": "code",
   "execution_count": 42,
   "id": "d76f80e6-3557-41c8-ba7f-32e903b6ba48",
   "metadata": {},
   "outputs": [
    {
     "data": {
      "text/plain": [
       "state\n",
       "Alabama                 0.499318\n",
       "Alaska                  0.568627\n",
       "Arizona                 0.900676\n",
       "Arkansas                0.578799\n",
       "California              0.866183\n",
       "Colorado                0.766044\n",
       "Connecticut             0.600326\n",
       "Delaware                0.503106\n",
       "District of Columbia    0.242690\n",
       "Florida                 0.654081\n",
       "Georgia                 0.441478\n",
       "Hawaii                  0.286486\n",
       "Idaho                   0.892596\n",
       "Illinois                0.544149\n",
       "Indiana                 0.510820\n",
       "Iowa                    0.702437\n",
       "Kansas                  0.719276\n",
       "Kentucky                0.658787\n",
       "Louisiana               0.469111\n",
       "Maine                   0.759289\n",
       "Maryland                0.298137\n",
       "Massachusetts           0.671765\n",
       "Michigan                0.477741\n",
       "Minnesota               0.571429\n",
       "Mississippi             0.446985\n",
       "Missouri                0.472881\n",
       "Montana                 0.675076\n",
       "Nebraska                0.597424\n",
       "Nevada                  0.679152\n",
       "New Hampshire           0.810109\n",
       "New Jersey              0.479656\n",
       "New Mexico              0.955559\n",
       "New York                0.555966\n",
       "North Carolina          0.421133\n",
       "North Dakota            0.504829\n",
       "Ohio                    0.473839\n",
       "Oklahoma                0.630330\n",
       "Oregon                  0.797411\n",
       "Pennsylvania            0.521904\n",
       "Rhode Island            0.643229\n",
       "South Carolina          0.483904\n",
       "South Dakota            0.410131\n",
       "Tennessee               0.555361\n",
       "Texas                   0.923367\n",
       "Utah                    0.850665\n",
       "Vermont                 0.690972\n",
       "Virginia                0.513453\n",
       "Washington              0.711554\n",
       "West Virginia           0.590676\n",
       "Wisconsin               0.489470\n",
       "Wyoming                 0.746914\n",
       "Name: white, dtype: float64"
      ]
     },
     "execution_count": 42,
     "metadata": {},
     "output_type": "execute_result"
    }
   ],
   "source": [
    "df18to21.groupby('state')['white'].mean()"
   ]
  },
  {
   "cell_type": "code",
   "execution_count": 43,
   "id": "639efa03-032b-4ff4-b7c2-0451615bbabe",
   "metadata": {},
   "outputs": [],
   "source": [
    "df_pop_bkdwn = pd.DataFrame()"
   ]
  },
  {
   "cell_type": "code",
   "execution_count": 44,
   "id": "7344944a-0615-4fc8-b99e-8371dbcd405d",
   "metadata": {},
   "outputs": [],
   "source": [
    "df_pop_bkdwn['white_conv'] = df18to21.groupby('state')['white'].mean()"
   ]
  },
  {
   "cell_type": "code",
   "execution_count": 45,
   "id": "18bfdfac-c628-431d-8aa2-698ae9884735",
   "metadata": {},
   "outputs": [
    {
     "data": {
      "text/html": [
       "<div>\n",
       "<style scoped>\n",
       "    .dataframe tbody tr th:only-of-type {\n",
       "        vertical-align: middle;\n",
       "    }\n",
       "\n",
       "    .dataframe tbody tr th {\n",
       "        vertical-align: top;\n",
       "    }\n",
       "\n",
       "    .dataframe thead th {\n",
       "        text-align: right;\n",
       "    }\n",
       "</style>\n",
       "<table border=\"1\" class=\"dataframe\">\n",
       "  <thead>\n",
       "    <tr style=\"text-align: right;\">\n",
       "      <th></th>\n",
       "      <th>white_conv</th>\n",
       "    </tr>\n",
       "    <tr>\n",
       "      <th>state</th>\n",
       "      <th></th>\n",
       "    </tr>\n",
       "  </thead>\n",
       "  <tbody>\n",
       "    <tr>\n",
       "      <th>Alabama</th>\n",
       "      <td>0.499318</td>\n",
       "    </tr>\n",
       "    <tr>\n",
       "      <th>Alaska</th>\n",
       "      <td>0.568627</td>\n",
       "    </tr>\n",
       "    <tr>\n",
       "      <th>Arizona</th>\n",
       "      <td>0.900676</td>\n",
       "    </tr>\n",
       "    <tr>\n",
       "      <th>Arkansas</th>\n",
       "      <td>0.578799</td>\n",
       "    </tr>\n",
       "    <tr>\n",
       "      <th>California</th>\n",
       "      <td>0.866183</td>\n",
       "    </tr>\n",
       "  </tbody>\n",
       "</table>\n",
       "</div>"
      ],
      "text/plain": [
       "            white_conv\n",
       "state                 \n",
       "Alabama       0.499318\n",
       "Alaska        0.568627\n",
       "Arizona       0.900676\n",
       "Arkansas      0.578799\n",
       "California    0.866183"
      ]
     },
     "execution_count": 45,
     "metadata": {},
     "output_type": "execute_result"
    }
   ],
   "source": [
    "df_pop_bkdwn.head()"
   ]
  },
  {
   "cell_type": "code",
   "execution_count": 46,
   "id": "960abaed-1c13-4881-9102-82f545b69015",
   "metadata": {},
   "outputs": [],
   "source": [
    "df_pop_bkdwn = pd.merge(df_pop_bkdwn,census_data,how='left',on='state')"
   ]
  },
  {
   "cell_type": "code",
   "execution_count": 47,
   "id": "3e59f153-1700-4750-a0dd-02dd2490ecf4",
   "metadata": {},
   "outputs": [
    {
     "data": {
      "text/html": [
       "<div>\n",
       "<style scoped>\n",
       "    .dataframe tbody tr th:only-of-type {\n",
       "        vertical-align: middle;\n",
       "    }\n",
       "\n",
       "    .dataframe tbody tr th {\n",
       "        vertical-align: top;\n",
       "    }\n",
       "\n",
       "    .dataframe thead th {\n",
       "        text-align: right;\n",
       "    }\n",
       "</style>\n",
       "<table border=\"1\" class=\"dataframe\">\n",
       "  <thead>\n",
       "    <tr style=\"text-align: right;\">\n",
       "      <th></th>\n",
       "      <th>state</th>\n",
       "      <th>white_conv</th>\n",
       "      <th>total_pop</th>\n",
       "      <th>white_pop</th>\n",
       "      <th>white_perc</th>\n",
       "    </tr>\n",
       "  </thead>\n",
       "  <tbody>\n",
       "    <tr>\n",
       "      <th>0</th>\n",
       "      <td>Alabama</td>\n",
       "      <td>0.499318</td>\n",
       "      <td>3917166</td>\n",
       "      <td>2595046</td>\n",
       "      <td>0.662480</td>\n",
       "    </tr>\n",
       "    <tr>\n",
       "      <th>1</th>\n",
       "      <td>Alaska</td>\n",
       "      <td>0.568627</td>\n",
       "      <td>554003</td>\n",
       "      <td>349626</td>\n",
       "      <td>0.631090</td>\n",
       "    </tr>\n",
       "    <tr>\n",
       "      <th>2</th>\n",
       "      <td>Arizona</td>\n",
       "      <td>0.900676</td>\n",
       "      <td>5541976</td>\n",
       "      <td>3549308</td>\n",
       "      <td>0.640441</td>\n",
       "    </tr>\n",
       "    <tr>\n",
       "      <th>3</th>\n",
       "      <td>Arkansas</td>\n",
       "      <td>0.578799</td>\n",
       "      <td>2312273</td>\n",
       "      <td>1683440</td>\n",
       "      <td>0.728046</td>\n",
       "    </tr>\n",
       "    <tr>\n",
       "      <th>4</th>\n",
       "      <td>California</td>\n",
       "      <td>0.866183</td>\n",
       "      <td>30827105</td>\n",
       "      <td>13443813</td>\n",
       "      <td>0.436104</td>\n",
       "    </tr>\n",
       "  </tbody>\n",
       "</table>\n",
       "</div>"
      ],
      "text/plain": [
       "        state  white_conv  total_pop  white_pop  white_perc\n",
       "0     Alabama    0.499318    3917166    2595046    0.662480\n",
       "1      Alaska    0.568627     554003     349626    0.631090\n",
       "2     Arizona    0.900676    5541976    3549308    0.640441\n",
       "3    Arkansas    0.578799    2312273    1683440    0.728046\n",
       "4  California    0.866183   30827105   13443813    0.436104"
      ]
     },
     "execution_count": 47,
     "metadata": {},
     "output_type": "execute_result"
    }
   ],
   "source": [
    "df_pop_bkdwn.head()"
   ]
  },
  {
   "cell_type": "code",
   "execution_count": 48,
   "id": "5e174f94-fec2-4707-80f3-411cb2abec19",
   "metadata": {},
   "outputs": [],
   "source": [
    "df_pop_bkdwn = df_pop_bkdwn.drop(columns=['total_pop','white_pop'])"
   ]
  },
  {
   "cell_type": "code",
   "execution_count": 49,
   "id": "e755bb24-de3b-40c8-90c6-64053240eca0",
   "metadata": {},
   "outputs": [
    {
     "data": {
      "text/html": [
       "<div>\n",
       "<style scoped>\n",
       "    .dataframe tbody tr th:only-of-type {\n",
       "        vertical-align: middle;\n",
       "    }\n",
       "\n",
       "    .dataframe tbody tr th {\n",
       "        vertical-align: top;\n",
       "    }\n",
       "\n",
       "    .dataframe thead th {\n",
       "        text-align: right;\n",
       "    }\n",
       "</style>\n",
       "<table border=\"1\" class=\"dataframe\">\n",
       "  <thead>\n",
       "    <tr style=\"text-align: right;\">\n",
       "      <th></th>\n",
       "      <th>state</th>\n",
       "      <th>white_conv</th>\n",
       "      <th>white_perc</th>\n",
       "    </tr>\n",
       "  </thead>\n",
       "  <tbody>\n",
       "    <tr>\n",
       "      <th>0</th>\n",
       "      <td>Alabama</td>\n",
       "      <td>0.499318</td>\n",
       "      <td>0.662480</td>\n",
       "    </tr>\n",
       "    <tr>\n",
       "      <th>1</th>\n",
       "      <td>Alaska</td>\n",
       "      <td>0.568627</td>\n",
       "      <td>0.631090</td>\n",
       "    </tr>\n",
       "    <tr>\n",
       "      <th>2</th>\n",
       "      <td>Arizona</td>\n",
       "      <td>0.900676</td>\n",
       "      <td>0.640441</td>\n",
       "    </tr>\n",
       "    <tr>\n",
       "      <th>3</th>\n",
       "      <td>Arkansas</td>\n",
       "      <td>0.578799</td>\n",
       "      <td>0.728046</td>\n",
       "    </tr>\n",
       "    <tr>\n",
       "      <th>4</th>\n",
       "      <td>California</td>\n",
       "      <td>0.866183</td>\n",
       "      <td>0.436104</td>\n",
       "    </tr>\n",
       "  </tbody>\n",
       "</table>\n",
       "</div>"
      ],
      "text/plain": [
       "        state  white_conv  white_perc\n",
       "0     Alabama    0.499318    0.662480\n",
       "1      Alaska    0.568627    0.631090\n",
       "2     Arizona    0.900676    0.640441\n",
       "3    Arkansas    0.578799    0.728046\n",
       "4  California    0.866183    0.436104"
      ]
     },
     "execution_count": 49,
     "metadata": {},
     "output_type": "execute_result"
    }
   ],
   "source": [
    "df_pop_bkdwn.head()"
   ]
  },
  {
   "cell_type": "code",
   "execution_count": null,
   "id": "1232088e-0d83-48a3-856f-321b6a1eea78",
   "metadata": {},
   "outputs": [],
   "source": []
  },
  {
   "cell_type": "code",
   "execution_count": null,
   "id": "8b5ef285-829e-4b51-abc3-d0cc37c6fa75",
   "metadata": {},
   "outputs": [],
   "source": []
  },
  {
   "cell_type": "code",
   "execution_count": null,
   "id": "deb6bc57-b7a1-4ace-bb7c-51ff1c1a5441",
   "metadata": {},
   "outputs": [],
   "source": []
  },
  {
   "cell_type": "code",
   "execution_count": null,
   "id": "9aee6a22-6264-42f7-97d8-bd37e6a93a50",
   "metadata": {},
   "outputs": [],
   "source": []
  },
  {
   "cell_type": "code",
   "execution_count": null,
   "id": "c591a71f-0c8d-4ce9-a2d8-97938c92f6b5",
   "metadata": {},
   "outputs": [],
   "source": []
  },
  {
   "cell_type": "code",
   "execution_count": null,
   "id": "a867a92f-8df6-4d76-a014-d29e8a967daf",
   "metadata": {},
   "outputs": [],
   "source": []
  },
  {
   "cell_type": "code",
   "execution_count": null,
   "id": "75e7127c-9cf2-4a96-a885-ef6d14c9cac4",
   "metadata": {},
   "outputs": [],
   "source": []
  },
  {
   "cell_type": "code",
   "execution_count": null,
   "id": "2c4648fb-f370-41fb-92b8-438ec8d1b069",
   "metadata": {},
   "outputs": [],
   "source": []
  }
 ],
 "metadata": {
  "kernelspec": {
   "display_name": "Python 3 (ipykernel)",
   "language": "python",
   "name": "python3"
  },
  "language_info": {
   "codemirror_mode": {
    "name": "ipython",
    "version": 3
   },
   "file_extension": ".py",
   "mimetype": "text/x-python",
   "name": "python",
   "nbconvert_exporter": "python",
   "pygments_lexer": "ipython3",
   "version": "3.9.7"
  }
 },
 "nbformat": 4,
 "nbformat_minor": 5
}
