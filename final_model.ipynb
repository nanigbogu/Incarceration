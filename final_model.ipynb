{
 "cells": [
  {
   "cell_type": "code",
   "execution_count": 19,
   "id": "0d0d09cc-c149-418f-9c81-bb5972ead396",
   "metadata": {},
   "outputs": [],
   "source": [
    "import pandas as pd\n",
    "import numpy as np\n",
    "from scipy import stats\n",
    "from sklearn.preprocessing import OneHotEncoder\n",
    "from sklearn.compose import make_column_transformer\n",
    "from sklearn.compose import ColumnTransformer\n",
    "from sklearn.preprocessing import StandardScaler\n",
    "from sklearn.linear_model import Lasso\n",
    "from sklearn.compose import TransformedTargetRegressor\n",
    "from sklearn.model_selection import train_test_split\n",
    "from sklearn.pipeline import Pipeline\n",
    "\n"
   ]
  },
  {
   "cell_type": "code",
   "execution_count": 20,
   "id": "9c26a341-92d9-4fcb-9314-9fffb741762f",
   "metadata": {},
   "outputs": [],
   "source": [
    "#df18to21_840cap['sentence_length'] = [840 if i >= 840 else i for i in df18to21_840cap['sentence_length']]"
   ]
  },
  {
   "cell_type": "code",
   "execution_count": 21,
   "id": "a06af31a-4b98-412f-9bae-ddcb502c8eea",
   "metadata": {},
   "outputs": [],
   "source": [
    "df_data = pd.read_csv('regression_data.csv')"
   ]
  },
  {
   "cell_type": "code",
   "execution_count": 22,
   "id": "ca281ccc-a353-4b8b-b1a2-e0fef50d4279",
   "metadata": {},
   "outputs": [],
   "source": [
    "X = df_data.drop(columns=['sentence_length','guideline_range','guideline_var_pct','region','white','perc_charged',\n",
    "                         'Unnamed: 0','Unnamed: 0.2','Unnamed: 0.1',])\n",
    "y = df_data['sentence_length']"
   ]
  },
  {
   "cell_type": "code",
   "execution_count": 23,
   "id": "6e4759f6-9afc-4c5f-887c-b1d11492d63e",
   "metadata": {},
   "outputs": [],
   "source": [
    "numeric = ['count_convictons','age']\n",
    "categorical = ['year_sentenced','dependents','race','disposition','citizen', 'state',\n",
    "              'criminal_hist', 'drug_type','weapon','gender','crime_type','case_type','presentence_stat',\n",
    "              'sentence_type','college']"
   ]
  },
  {
   "cell_type": "code",
   "execution_count": 24,
   "id": "aa9e0796-ab7d-4464-ada7-fe698e65fdf4",
   "metadata": {},
   "outputs": [],
   "source": [
    "X_train,X_test,y_train,y_test = train_test_split(X,y,random_state=42)\n",
    "\n",
    "ctx = ColumnTransformer(\n",
    "    [('ss',StandardScaler(),numeric),\n",
    "     ('ohe',OneHotEncoder(handle_unknown='ignore'),\\\n",
    "     categorical)],\n",
    "     verbose_feature_names_out=False,\n",
    "     remainder = 'passthrough'\n",
    ")\n",
    "\n",
    "ctx.fit(X_train)\n",
    "X_train_t = ctx.transform(X_train)\n",
    "X_test_t = ctx.transform(X_test)\n",
    "\n",
    "X_train = pd.DataFrame(X_train_t.A,columns=ctx.get_feature_names_out())\n",
    "X_test = pd.DataFrame(X_test_t.A,columns=ctx.get_feature_names_out())"
   ]
  },
  {
   "cell_type": "code",
   "execution_count": 25,
   "id": "236a88d7-c6bf-43e2-97ee-7a540ccf7d91",
   "metadata": {},
   "outputs": [
    {
     "data": {
      "text/plain": [
       "(0.5261431286697706, 0.5364949039384008)"
      ]
     },
     "execution_count": 25,
     "metadata": {},
     "output_type": "execute_result"
    }
   ],
   "source": [
    "lasso = Lasso(alpha=.001,max_iter=10000,random_state=42)\n",
    "lasso.fit(X_train,y_train)\n",
    "lasso.score(X_train,y_train), lasso.score(X_test,y_test)"
   ]
  },
  {
   "cell_type": "markdown",
   "id": "ebeb73f3-8e33-4277-87ed-f68b00cff19c",
   "metadata": {},
   "source": [
    "### Creating Coefficients DataFrames for Plotting, Analysis"
   ]
  },
  {
   "cell_type": "code",
   "execution_count": 26,
   "id": "318ed18f-304c-41a5-b805-7cb703c1569c",
   "metadata": {
    "tags": []
   },
   "outputs": [],
   "source": [
    "lc_dff = pd.DataFrame()\n",
    "lc_dff['feature'] = [i for i in ctx.get_feature_names_out()]\n",
    "lc_dff['coeffs'] = [i for i in lasso.coef_]"
   ]
  },
  {
   "cell_type": "code",
   "execution_count": 27,
   "id": "7f25ca06-f644-4032-9e7f-a6532bbc9b4f",
   "metadata": {},
   "outputs": [
    {
     "name": "stderr",
     "output_type": "stream",
     "text": [
      "/var/folders/pr/wgwfmfsx53n97rhpm9z12wqh0000gn/T/ipykernel_63195/4187077159.py:2: SettingWithCopyWarning: \n",
      "A value is trying to be set on a copy of a slice from a DataFrame.\n",
      "Try using .loc[row_indexer,col_indexer] = value instead\n",
      "\n",
      "See the caveats in the documentation: https://pandas.pydata.org/pandas-docs/stable/user_guide/indexing.html#returning-a-view-versus-a-copy\n",
      "  state_coeff['feature'] = [i.split('_')[1] for i in state_coeff['feature']]\n"
     ]
    },
    {
     "data": {
      "text/html": [
       "<div>\n",
       "<style scoped>\n",
       "    .dataframe tbody tr th:only-of-type {\n",
       "        vertical-align: middle;\n",
       "    }\n",
       "\n",
       "    .dataframe tbody tr th {\n",
       "        vertical-align: top;\n",
       "    }\n",
       "\n",
       "    .dataframe thead th {\n",
       "        text-align: right;\n",
       "    }\n",
       "</style>\n",
       "<table border=\"1\" class=\"dataframe\">\n",
       "  <thead>\n",
       "    <tr style=\"text-align: right;\">\n",
       "      <th></th>\n",
       "      <th>state</th>\n",
       "      <th>coeffs</th>\n",
       "    </tr>\n",
       "  </thead>\n",
       "  <tbody>\n",
       "    <tr>\n",
       "      <th>21</th>\n",
       "      <td>Alabama</td>\n",
       "      <td>3.066530</td>\n",
       "    </tr>\n",
       "    <tr>\n",
       "      <th>22</th>\n",
       "      <td>Alaska</td>\n",
       "      <td>-4.649757</td>\n",
       "    </tr>\n",
       "    <tr>\n",
       "      <th>23</th>\n",
       "      <td>Arizona</td>\n",
       "      <td>-2.076129</td>\n",
       "    </tr>\n",
       "    <tr>\n",
       "      <th>24</th>\n",
       "      <td>Arkansas</td>\n",
       "      <td>6.494063</td>\n",
       "    </tr>\n",
       "    <tr>\n",
       "      <th>25</th>\n",
       "      <td>California</td>\n",
       "      <td>-8.494445</td>\n",
       "    </tr>\n",
       "  </tbody>\n",
       "</table>\n",
       "</div>"
      ],
      "text/plain": [
       "         state    coeffs\n",
       "21     Alabama  3.066530\n",
       "22      Alaska -4.649757\n",
       "23     Arizona -2.076129\n",
       "24    Arkansas  6.494063\n",
       "25  California -8.494445"
      ]
     },
     "execution_count": 27,
     "metadata": {},
     "output_type": "execute_result"
    }
   ],
   "source": [
    "state_coeff = lc_dff[lc_dff['feature'].str.contains(\"state\")]\n",
    "state_coeff['feature'] = [i.split('_')[1] for i in state_coeff['feature']]\n",
    "state_coeff = state_coeff.rename(columns={'feature':'state'})\n",
    "state_coeff.head()"
   ]
  },
  {
   "cell_type": "code",
   "execution_count": 28,
   "id": "fa53ccee-5dad-4226-96ac-7cb2f55ae191",
   "metadata": {},
   "outputs": [
    {
     "data": {
      "text/html": [
       "<div>\n",
       "<style scoped>\n",
       "    .dataframe tbody tr th:only-of-type {\n",
       "        vertical-align: middle;\n",
       "    }\n",
       "\n",
       "    .dataframe tbody tr th {\n",
       "        vertical-align: top;\n",
       "    }\n",
       "\n",
       "    .dataframe thead th {\n",
       "        text-align: right;\n",
       "    }\n",
       "</style>\n",
       "<table border=\"1\" class=\"dataframe\">\n",
       "  <thead>\n",
       "    <tr style=\"text-align: right;\">\n",
       "      <th></th>\n",
       "      <th>feature</th>\n",
       "      <th>coeffs</th>\n",
       "    </tr>\n",
       "  </thead>\n",
       "  <tbody>\n",
       "    <tr>\n",
       "      <th>86</th>\n",
       "      <td>crime_type_1</td>\n",
       "      <td>-18.098917</td>\n",
       "    </tr>\n",
       "    <tr>\n",
       "      <th>87</th>\n",
       "      <td>crime_type_2</td>\n",
       "      <td>-6.916896</td>\n",
       "    </tr>\n",
       "    <tr>\n",
       "      <th>88</th>\n",
       "      <td>crime_type_3</td>\n",
       "      <td>26.198928</td>\n",
       "    </tr>\n",
       "    <tr>\n",
       "      <th>89</th>\n",
       "      <td>crime_type_4</td>\n",
       "      <td>13.733142</td>\n",
       "    </tr>\n",
       "    <tr>\n",
       "      <th>90</th>\n",
       "      <td>crime_type_5</td>\n",
       "      <td>-3.430918</td>\n",
       "    </tr>\n",
       "  </tbody>\n",
       "</table>\n",
       "</div>"
      ],
      "text/plain": [
       "         feature     coeffs\n",
       "86  crime_type_1 -18.098917\n",
       "87  crime_type_2  -6.916896\n",
       "88  crime_type_3  26.198928\n",
       "89  crime_type_4  13.733142\n",
       "90  crime_type_5  -3.430918"
      ]
     },
     "execution_count": 28,
     "metadata": {},
     "output_type": "execute_result"
    }
   ],
   "source": [
    "crime_coeff = lc_dff[lc_dff['feature'].str.contains(\"crime\")]\n",
    "crime_coeff.head()"
   ]
  }
 ],
 "metadata": {
  "kernelspec": {
   "display_name": "Python 3 (ipykernel)",
   "language": "python",
   "name": "python3"
  },
  "language_info": {
   "codemirror_mode": {
    "name": "ipython",
    "version": 3
   },
   "file_extension": ".py",
   "mimetype": "text/x-python",
   "name": "python",
   "nbconvert_exporter": "python",
   "pygments_lexer": "ipython3",
   "version": "3.9.7"
  }
 },
 "nbformat": 4,
 "nbformat_minor": 5
}
