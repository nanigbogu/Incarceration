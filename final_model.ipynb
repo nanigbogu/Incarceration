{
 "cells": [
  {
   "cell_type": "code",
   "execution_count": 4,
   "id": "0d0d09cc-c149-418f-9c81-bb5972ead396",
   "metadata": {},
   "outputs": [],
   "source": [
    "import pandas as pd\n",
    "import numpy as np\n",
    "from scipy import stats\n",
    "from sklearn.preprocessing import OneHotEncoder\n",
    "from sklearn.compose import make_column_transformer\n",
    "from sklearn.compose import ColumnTransformer\n",
    "from sklearn.preprocessing import StandardScaler\n",
    "from sklearn.linear_model import LinearRegression, LassoCV, RidgeCV, Lasso, Ridge\n",
    "from sklearn.compose import TransformedTargetRegressor\n",
    "from sklearn.model_selection import train_test_split\n",
    "from sklearn.pipeline import Pipeline\n",
    "from sklearn.model_selection import GridSearchCV\n",
    "from sklearn.preprocessing import PolynomialFeatures\n",
    "from sklearn.ensemble import RandomForestRegressor\n",
    "from sklearn.tree import DecisionTreeRegressor\n",
    "from sklearn.ensemble import AdaBoostClassifier\n",
    "\n",
    "df_data = pd.read_csv('regression_data.csv')"
   ]
  },
  {
   "cell_type": "code",
   "execution_count": 5,
   "id": "93f45ce2-d26e-41be-bd31-0fd75a3b5237",
   "metadata": {},
   "outputs": [
    {
     "data": {
      "text/plain": [
       "Index(['Unnamed: 0.2', 'Unnamed: 0.1', 'Unnamed: 0', 'sentence_length',\n",
       "       'year_sentenced', 'sentence_type', 'guideline_range', 'imprisoned',\n",
       "       'guideline_var_pct', 'dependents', 'count_convictons', 'race',\n",
       "       'disposition', 'citizen', 'state', 'criminal_hist', 'drug_type',\n",
       "       'case_type', 'age', 'weapon', 'presentence_stat', 'gender',\n",
       "       'crime_type', 'region', 'college', 'white', 'perc_charged'],\n",
       "      dtype='object')"
      ]
     },
     "execution_count": 5,
     "metadata": {},
     "output_type": "execute_result"
    }
   ],
   "source": [
    "df_data.columns"
   ]
  },
  {
   "cell_type": "code",
   "execution_count": 6,
   "id": "b5a3ead3-7a20-4442-ab1a-64bb7bb54296",
   "metadata": {},
   "outputs": [],
   "source": [
    "df_data = df_data.drop(columns=['Unnamed: 0','Unnamed: 0.2','Unnamed: 0.1',])"
   ]
  },
  {
   "cell_type": "code",
   "execution_count": 7,
   "id": "ca281ccc-a353-4b8b-b1a2-e0fef50d4279",
   "metadata": {},
   "outputs": [],
   "source": [
    "X = df_data.drop(columns=['sentence_length','guideline_range','guideline_var_pct','region','white','perc_charged'])\n",
    "y = df_data['sentence_length']"
   ]
  },
  {
   "cell_type": "code",
   "execution_count": 8,
   "id": "6e4759f6-9afc-4c5f-887c-b1d11492d63e",
   "metadata": {},
   "outputs": [],
   "source": [
    "numeric = ['count_convictons','age']\n",
    "categorical = ['year_sentenced','dependents','race','disposition','citizen', 'state',\n",
    "              'criminal_hist', 'drug_type','weapon','gender','crime_type','case_type','presentence_stat',\n",
    "              'sentence_type','college']"
   ]
  },
  {
   "cell_type": "code",
   "execution_count": 9,
   "id": "aa9e0796-ab7d-4464-ada7-fe698e65fdf4",
   "metadata": {},
   "outputs": [],
   "source": [
    "X_train,X_test,y_train,y_test = train_test_split(X,y,random_state=42)\n",
    "\n",
    "ctx = ColumnTransformer(\n",
    "    [('ss',StandardScaler(),numeric),\n",
    "     ('ohe',OneHotEncoder(handle_unknown='ignore',drop='first'),\\\n",
    "     categorical)],\n",
    "     verbose_feature_names_out=False,\n",
    "     remainder = 'passthrough'\n",
    ")\n",
    "\n",
    "ctx.fit(X_train)\n",
    "X_train_t = ctx.transform(X_train)\n",
    "X_test_t = ctx.transform(X_test)\n",
    "\n",
    "X_train = pd.DataFrame(X_train_t.A,columns=ctx.get_feature_names_out())\n",
    "X_test = pd.DataFrame(X_test_t.A,columns=ctx.get_feature_names_out())"
   ]
  },
  {
   "cell_type": "code",
   "execution_count": 10,
   "id": "236a88d7-c6bf-43e2-97ee-7a540ccf7d91",
   "metadata": {},
   "outputs": [
    {
     "data": {
      "text/plain": [
       "(0.5261302563006057, 0.5364943444094732)"
      ]
     },
     "execution_count": 10,
     "metadata": {},
     "output_type": "execute_result"
    }
   ],
   "source": [
    "lasso = Lasso(alpha=.001,max_iter=10000,random_state=42)\n",
    "lasso.fit(X_train,y_train)\n",
    "lasso.score(X_train,y_train), lasso.score(X_test,y_test)"
   ]
  }
 ],
 "metadata": {
  "kernelspec": {
   "display_name": "Python 3 (ipykernel)",
   "language": "python",
   "name": "python3"
  },
  "language_info": {
   "codemirror_mode": {
    "name": "ipython",
    "version": 3
   },
   "file_extension": ".py",
   "mimetype": "text/x-python",
   "name": "python",
   "nbconvert_exporter": "python",
   "pygments_lexer": "ipython3",
   "version": "3.9.7"
  }
 },
 "nbformat": 4,
 "nbformat_minor": 5
}
