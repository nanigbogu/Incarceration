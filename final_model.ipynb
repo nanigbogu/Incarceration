{
 "cells": [
  {
   "cell_type": "code",
   "execution_count": 1,
   "id": "0d0d09cc-c149-418f-9c81-bb5972ead396",
   "metadata": {},
   "outputs": [],
   "source": [
    "import pandas as pd\n",
    "import numpy as np\n",
    "from scipy import stats\n",
    "from sklearn.preprocessing import OneHotEncoder\n",
    "from sklearn.compose import make_column_transformer\n",
    "from sklearn.compose import ColumnTransformer\n",
    "from sklearn.preprocessing import StandardScaler\n",
    "from sklearn.linear_model import LinearRegression, LassoCV, RidgeCV, Lasso, Ridge\n",
    "from sklearn.compose import TransformedTargetRegressor\n",
    "from sklearn.model_selection import train_test_split\n",
    "from sklearn.pipeline import Pipeline\n",
    "from sklearn.model_selection import GridSearchCV\n",
    "from sklearn.preprocessing import PolynomialFeatures\n",
    "from sklearn.ensemble import RandomForestRegressor\n",
    "from sklearn.tree import DecisionTreeRegressor\n",
    "from sklearn.ensemble import AdaBoostClassifier\n",
    "\n",
    "df_data = pd.read_csv('regression_data.csv')"
   ]
  },
  {
   "cell_type": "code",
   "execution_count": 2,
   "id": "93f45ce2-d26e-41be-bd31-0fd75a3b5237",
   "metadata": {},
   "outputs": [
    {
     "data": {
      "text/plain": [
       "Index(['Unnamed: 0.2', 'Unnamed: 0.1', 'Unnamed: 0', 'sentence_length',\n",
       "       'year_sentenced', 'sentence_type', 'guideline_range', 'imprisoned',\n",
       "       'guideline_var_pct', 'dependents', 'count_convictons', 'race',\n",
       "       'disposition', 'citizen', 'state', 'criminal_hist', 'drug_type',\n",
       "       'case_type', 'age', 'weapon', 'presentence_stat', 'gender',\n",
       "       'crime_type', 'region', 'college', 'white', 'perc_charged'],\n",
       "      dtype='object')"
      ]
     },
     "execution_count": 2,
     "metadata": {},
     "output_type": "execute_result"
    }
   ],
   "source": [
    "df_data.columns"
   ]
  },
  {
   "cell_type": "code",
   "execution_count": 3,
   "id": "b5a3ead3-7a20-4442-ab1a-64bb7bb54296",
   "metadata": {},
   "outputs": [],
   "source": [
    "df_data = df_data.drop(columns=['Unnamed: 0','Unnamed: 0.2','Unnamed: 0.1',])"
   ]
  },
  {
   "cell_type": "code",
   "execution_count": 4,
   "id": "ca281ccc-a353-4b8b-b1a2-e0fef50d4279",
   "metadata": {},
   "outputs": [],
   "source": [
    "X = df_data.drop(columns=['sentence_length','guideline_range','guideline_var_pct','region','white','perc_charged'])\n",
    "y = df_data['sentence_length']"
   ]
  },
  {
   "cell_type": "code",
   "execution_count": 5,
   "id": "6e4759f6-9afc-4c5f-887c-b1d11492d63e",
   "metadata": {},
   "outputs": [],
   "source": [
    "numeric = ['count_convictons','age']\n",
    "categorical = ['year_sentenced','dependents','race','disposition','citizen', 'state',\n",
    "              'criminal_hist', 'drug_type','weapon','gender','crime_type','case_type','presentence_stat',\n",
    "              'sentence_type','college']"
   ]
  },
  {
   "cell_type": "code",
   "execution_count": 6,
   "id": "aa9e0796-ab7d-4464-ada7-fe698e65fdf4",
   "metadata": {},
   "outputs": [],
   "source": [
    "X_train,X_test,y_train,y_test = train_test_split(X,y,random_state=42)\n",
    "\n",
    "ctx = ColumnTransformer(\n",
    "    [('ss',StandardScaler(),numeric),\n",
    "     ('ohe',OneHotEncoder(handle_unknown='ignore'),\\\n",
    "     categorical)],\n",
    "     verbose_feature_names_out=False,\n",
    "     remainder = 'passthrough'\n",
    ")\n",
    "\n",
    "ctx.fit(X_train)\n",
    "X_train_t = ctx.transform(X_train)\n",
    "X_test_t = ctx.transform(X_test)\n",
    "\n",
    "X_train = pd.DataFrame(X_train_t.A,columns=ctx.get_feature_names_out())\n",
    "X_test = pd.DataFrame(X_test_t.A,columns=ctx.get_feature_names_out())"
   ]
  },
  {
   "cell_type": "code",
   "execution_count": 7,
   "id": "236a88d7-c6bf-43e2-97ee-7a540ccf7d91",
   "metadata": {},
   "outputs": [
    {
     "data": {
      "text/plain": [
       "(0.5261431286697706, 0.5364949039384008)"
      ]
     },
     "execution_count": 7,
     "metadata": {},
     "output_type": "execute_result"
    }
   ],
   "source": [
    "lasso = Lasso(alpha=.001,max_iter=10000,random_state=42)\n",
    "lasso.fit(X_train,y_train)\n",
    "lasso.score(X_train,y_train), lasso.score(X_test,y_test)"
   ]
  },
  {
   "cell_type": "code",
   "execution_count": 8,
   "id": "67be69e7-801e-4489-a1aa-1b3a300e96ab",
   "metadata": {},
   "outputs": [],
   "source": [
    "lzip = zip(ctx.get_feature_names_out(),lasso.coef_)\n",
    "lc_dtc = {a:b for a,b in lzip}"
   ]
  },
  {
   "cell_type": "code",
   "execution_count": 11,
   "id": "22cc0f96-774c-4776-b987-06bae0c57fd0",
   "metadata": {},
   "outputs": [],
   "source": [
    "lc_df=pd.DataFrame(lc_dtc,index=[0])"
   ]
  },
  {
   "cell_type": "code",
   "execution_count": 12,
   "id": "d24bcae2-a6e7-49b3-8c35-7ca121b76072",
   "metadata": {},
   "outputs": [
    {
     "data": {
      "text/html": [
       "<div>\n",
       "<style scoped>\n",
       "    .dataframe tbody tr th:only-of-type {\n",
       "        vertical-align: middle;\n",
       "    }\n",
       "\n",
       "    .dataframe tbody tr th {\n",
       "        vertical-align: top;\n",
       "    }\n",
       "\n",
       "    .dataframe thead th {\n",
       "        text-align: right;\n",
       "    }\n",
       "</style>\n",
       "<table border=\"1\" class=\"dataframe\">\n",
       "  <thead>\n",
       "    <tr style=\"text-align: right;\">\n",
       "      <th></th>\n",
       "      <th>count_convictons</th>\n",
       "      <th>age</th>\n",
       "      <th>year_sentenced_2018</th>\n",
       "      <th>year_sentenced_2019</th>\n",
       "      <th>year_sentenced_2020</th>\n",
       "      <th>year_sentenced_2021</th>\n",
       "      <th>dependents_0</th>\n",
       "      <th>dependents_1</th>\n",
       "      <th>race_0</th>\n",
       "      <th>race_1</th>\n",
       "      <th>...</th>\n",
       "      <th>presentence_stat_3.0</th>\n",
       "      <th>presentence_stat_4.0</th>\n",
       "      <th>sentence_type_0</th>\n",
       "      <th>sentence_type_1</th>\n",
       "      <th>sentence_type_2</th>\n",
       "      <th>sentence_type_3</th>\n",
       "      <th>sentence_type_4</th>\n",
       "      <th>college_0</th>\n",
       "      <th>college_1</th>\n",
       "      <th>imprisoned</th>\n",
       "    </tr>\n",
       "  </thead>\n",
       "  <tbody>\n",
       "    <tr>\n",
       "      <th>0</th>\n",
       "      <td>4.058243</td>\n",
       "      <td>3.426164</td>\n",
       "      <td>2.170427</td>\n",
       "      <td>-0.004163</td>\n",
       "      <td>-1.413627</td>\n",
       "      <td>0.385815</td>\n",
       "      <td>-0.811366</td>\n",
       "      <td>1.266730e-15</td>\n",
       "      <td>0.0</td>\n",
       "      <td>-0.0</td>\n",
       "      <td>...</td>\n",
       "      <td>-0.004616</td>\n",
       "      <td>0.659203</td>\n",
       "      <td>2.015051</td>\n",
       "      <td>12.634918</td>\n",
       "      <td>-6.843359</td>\n",
       "      <td>-3.48454</td>\n",
       "      <td>0.0</td>\n",
       "      <td>1.877117</td>\n",
       "      <td>-0.0</td>\n",
       "      <td>-0.0</td>\n",
       "    </tr>\n",
       "  </tbody>\n",
       "</table>\n",
       "<p>1 rows × 130 columns</p>\n",
       "</div>"
      ],
      "text/plain": [
       "   count_convictons       age  year_sentenced_2018  year_sentenced_2019  \\\n",
       "0          4.058243  3.426164             2.170427            -0.004163   \n",
       "\n",
       "   year_sentenced_2020  year_sentenced_2021  dependents_0  dependents_1  \\\n",
       "0            -1.413627             0.385815     -0.811366  1.266730e-15   \n",
       "\n",
       "   race_0  race_1  ...  presentence_stat_3.0  presentence_stat_4.0  \\\n",
       "0     0.0    -0.0  ...             -0.004616              0.659203   \n",
       "\n",
       "   sentence_type_0  sentence_type_1  sentence_type_2  sentence_type_3  \\\n",
       "0         2.015051        12.634918        -6.843359         -3.48454   \n",
       "\n",
       "   sentence_type_4  college_0  college_1  imprisoned  \n",
       "0              0.0   1.877117       -0.0        -0.0  \n",
       "\n",
       "[1 rows x 130 columns]"
      ]
     },
     "execution_count": 12,
     "metadata": {},
     "output_type": "execute_result"
    }
   ],
   "source": [
    "lc_df"
   ]
  },
  {
   "cell_type": "code",
   "execution_count": 17,
   "id": "318ed18f-304c-41a5-b805-7cb703c1569c",
   "metadata": {},
   "outputs": [],
   "source": [
    "lc_dff = pd.DataFrame()\n",
    "lc_dff['feature'] = [i for i in ctx.get_feature_names_out()]\n",
    "lc_dff['coeffs'] = [i for i in lasso.coef_]"
   ]
  },
  {
   "cell_type": "code",
   "execution_count": 18,
   "id": "0da11a06-d7e2-422f-aade-7ad39aa2503a",
   "metadata": {},
   "outputs": [
    {
     "data": {
      "text/html": [
       "<div>\n",
       "<style scoped>\n",
       "    .dataframe tbody tr th:only-of-type {\n",
       "        vertical-align: middle;\n",
       "    }\n",
       "\n",
       "    .dataframe tbody tr th {\n",
       "        vertical-align: top;\n",
       "    }\n",
       "\n",
       "    .dataframe thead th {\n",
       "        text-align: right;\n",
       "    }\n",
       "</style>\n",
       "<table border=\"1\" class=\"dataframe\">\n",
       "  <thead>\n",
       "    <tr style=\"text-align: right;\">\n",
       "      <th></th>\n",
       "      <th>feature</th>\n",
       "      <th>coeffs</th>\n",
       "    </tr>\n",
       "  </thead>\n",
       "  <tbody>\n",
       "    <tr>\n",
       "      <th>0</th>\n",
       "      <td>count_convictons</td>\n",
       "      <td>4.058243</td>\n",
       "    </tr>\n",
       "    <tr>\n",
       "      <th>1</th>\n",
       "      <td>age</td>\n",
       "      <td>3.426164</td>\n",
       "    </tr>\n",
       "    <tr>\n",
       "      <th>2</th>\n",
       "      <td>year_sentenced_2018</td>\n",
       "      <td>2.170427</td>\n",
       "    </tr>\n",
       "    <tr>\n",
       "      <th>3</th>\n",
       "      <td>year_sentenced_2019</td>\n",
       "      <td>-0.004163</td>\n",
       "    </tr>\n",
       "    <tr>\n",
       "      <th>4</th>\n",
       "      <td>year_sentenced_2020</td>\n",
       "      <td>-1.413627</td>\n",
       "    </tr>\n",
       "    <tr>\n",
       "      <th>...</th>\n",
       "      <td>...</td>\n",
       "      <td>...</td>\n",
       "    </tr>\n",
       "    <tr>\n",
       "      <th>125</th>\n",
       "      <td>sentence_type_3</td>\n",
       "      <td>-3.484540</td>\n",
       "    </tr>\n",
       "    <tr>\n",
       "      <th>126</th>\n",
       "      <td>sentence_type_4</td>\n",
       "      <td>0.000000</td>\n",
       "    </tr>\n",
       "    <tr>\n",
       "      <th>127</th>\n",
       "      <td>college_0</td>\n",
       "      <td>1.877117</td>\n",
       "    </tr>\n",
       "    <tr>\n",
       "      <th>128</th>\n",
       "      <td>college_1</td>\n",
       "      <td>-0.000000</td>\n",
       "    </tr>\n",
       "    <tr>\n",
       "      <th>129</th>\n",
       "      <td>imprisoned</td>\n",
       "      <td>-0.000000</td>\n",
       "    </tr>\n",
       "  </tbody>\n",
       "</table>\n",
       "<p>130 rows × 2 columns</p>\n",
       "</div>"
      ],
      "text/plain": [
       "                 feature    coeffs\n",
       "0       count_convictons  4.058243\n",
       "1                    age  3.426164\n",
       "2    year_sentenced_2018  2.170427\n",
       "3    year_sentenced_2019 -0.004163\n",
       "4    year_sentenced_2020 -1.413627\n",
       "..                   ...       ...\n",
       "125      sentence_type_3 -3.484540\n",
       "126      sentence_type_4  0.000000\n",
       "127            college_0  1.877117\n",
       "128            college_1 -0.000000\n",
       "129           imprisoned -0.000000\n",
       "\n",
       "[130 rows x 2 columns]"
      ]
     },
     "execution_count": 18,
     "metadata": {},
     "output_type": "execute_result"
    }
   ],
   "source": [
    "lc_dff"
   ]
  },
  {
   "cell_type": "code",
   "execution_count": 35,
   "id": "7f25ca06-f644-4032-9e7f-a6532bbc9b4f",
   "metadata": {},
   "outputs": [],
   "source": [
    "state_coeff = lc_dff[lc_dff['feature'].str.contains(\"state\")]"
   ]
  },
  {
   "cell_type": "code",
   "execution_count": 36,
   "id": "05c1c917-9c93-4f95-a7d6-cbe1bd4985c6",
   "metadata": {},
   "outputs": [
    {
     "name": "stderr",
     "output_type": "stream",
     "text": [
      "/var/folders/pr/wgwfmfsx53n97rhpm9z12wqh0000gn/T/ipykernel_56625/1430246710.py:1: SettingWithCopyWarning: \n",
      "A value is trying to be set on a copy of a slice from a DataFrame.\n",
      "Try using .loc[row_indexer,col_indexer] = value instead\n",
      "\n",
      "See the caveats in the documentation: https://pandas.pydata.org/pandas-docs/stable/user_guide/indexing.html#returning-a-view-versus-a-copy\n",
      "  state_coeff['feature'] = [i.split('_')[1] for i in state_coeff['feature']]\n"
     ]
    }
   ],
   "source": [
    "state_coeff['feature'] = [i.split('_')[1] for i in state_coeff['feature']]"
   ]
  },
  {
   "cell_type": "code",
   "execution_count": 37,
   "id": "089d80c6-9cd2-4f28-8100-ae436a10b542",
   "metadata": {},
   "outputs": [],
   "source": [
    "state_coeff = state_coeff.rename(columns={'feature':'state'})"
   ]
  },
  {
   "cell_type": "code",
   "execution_count": 38,
   "id": "e62853c8-9a0c-46d6-816e-275a53228589",
   "metadata": {},
   "outputs": [
    {
     "data": {
      "text/html": [
       "<div>\n",
       "<style scoped>\n",
       "    .dataframe tbody tr th:only-of-type {\n",
       "        vertical-align: middle;\n",
       "    }\n",
       "\n",
       "    .dataframe tbody tr th {\n",
       "        vertical-align: top;\n",
       "    }\n",
       "\n",
       "    .dataframe thead th {\n",
       "        text-align: right;\n",
       "    }\n",
       "</style>\n",
       "<table border=\"1\" class=\"dataframe\">\n",
       "  <thead>\n",
       "    <tr style=\"text-align: right;\">\n",
       "      <th></th>\n",
       "      <th>state</th>\n",
       "      <th>coeffs</th>\n",
       "    </tr>\n",
       "  </thead>\n",
       "  <tbody>\n",
       "    <tr>\n",
       "      <th>21</th>\n",
       "      <td>Alabama</td>\n",
       "      <td>3.066530</td>\n",
       "    </tr>\n",
       "    <tr>\n",
       "      <th>22</th>\n",
       "      <td>Alaska</td>\n",
       "      <td>-4.649757</td>\n",
       "    </tr>\n",
       "    <tr>\n",
       "      <th>23</th>\n",
       "      <td>Arizona</td>\n",
       "      <td>-2.076129</td>\n",
       "    </tr>\n",
       "    <tr>\n",
       "      <th>24</th>\n",
       "      <td>Arkansas</td>\n",
       "      <td>6.494063</td>\n",
       "    </tr>\n",
       "    <tr>\n",
       "      <th>25</th>\n",
       "      <td>California</td>\n",
       "      <td>-8.494445</td>\n",
       "    </tr>\n",
       "  </tbody>\n",
       "</table>\n",
       "</div>"
      ],
      "text/plain": [
       "         state    coeffs\n",
       "21     Alabama  3.066530\n",
       "22      Alaska -4.649757\n",
       "23     Arizona -2.076129\n",
       "24    Arkansas  6.494063\n",
       "25  California -8.494445"
      ]
     },
     "execution_count": 38,
     "metadata": {},
     "output_type": "execute_result"
    }
   ],
   "source": [
    "state_coeff.head()"
   ]
  },
  {
   "cell_type": "code",
   "execution_count": 39,
   "id": "e84213d4-aa2d-4de6-8a53-d23041c71895",
   "metadata": {
    "tags": []
   },
   "outputs": [],
   "source": [
    "pop_breakdown = pd.read_csv('pop_breakdowns.csv')"
   ]
  },
  {
   "cell_type": "code",
   "execution_count": 41,
   "id": "5e24a2c8-6d9c-4d57-bd30-9b5cec16328c",
   "metadata": {},
   "outputs": [],
   "source": [
    "pop_breakdown = pd.merge(pop_breakdown,state_coeff,how='inner',on='state')"
   ]
  },
  {
   "cell_type": "code",
   "execution_count": 43,
   "id": "69aef32b-fc99-48fc-b1d8-5dbec5ccda89",
   "metadata": {},
   "outputs": [],
   "source": [
    "pop_breakdown = pop_breakdown.rename(columns={'coeffs':'model_coeffs'})"
   ]
  },
  {
   "cell_type": "code",
   "execution_count": 45,
   "id": "9446c21e-0513-4837-87f1-90756ea08e9b",
   "metadata": {},
   "outputs": [],
   "source": [
    "pop_breakdown.to_csv('pop_breakdowns.csv')"
   ]
  },
  {
   "cell_type": "code",
   "execution_count": null,
   "id": "b451807d-cd46-44e7-a326-c7d643d4c774",
   "metadata": {},
   "outputs": [],
   "source": []
  },
  {
   "cell_type": "code",
   "execution_count": 22,
   "id": "0c3f2399-ffe6-4fc8-a2a9-24da94daf2a4",
   "metadata": {},
   "outputs": [],
   "source": [
    "crime_coeff = lc_dff[lc_dff['feature'].str.contains(\"crime\")]"
   ]
  },
  {
   "cell_type": "code",
   "execution_count": 48,
   "id": "b5a9a65d-cf3d-4876-85c2-f172d035d75f",
   "metadata": {},
   "outputs": [],
   "source": [
    "crime_coeff.to_csv('crime_coeffs.csv')"
   ]
  }
 ],
 "metadata": {
  "kernelspec": {
   "display_name": "Python 3 (ipykernel)",
   "language": "python",
   "name": "python3"
  },
  "language_info": {
   "codemirror_mode": {
    "name": "ipython",
    "version": 3
   },
   "file_extension": ".py",
   "mimetype": "text/x-python",
   "name": "python",
   "nbconvert_exporter": "python",
   "pygments_lexer": "ipython3",
   "version": "3.9.7"
  }
 },
 "nbformat": 4,
 "nbformat_minor": 5
}
