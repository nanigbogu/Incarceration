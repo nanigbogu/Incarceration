{
 "cells": [
  {
   "cell_type": "code",
   "execution_count": null,
   "id": "b2fef51e-2fc2-4688-a186-c17f9a8ec146",
   "metadata": {},
   "outputs": [],
   "source": [
    "population18_20 = pd.read_csv('https://www2.census.gov/programs-surveys/popest/datasets/2010-2020/national/totals/nst-est2020-popchg2010-2020.csv')\n",
    "population18_20 = population18_20[['NAME', 'POPESTIMATE2018', 'POPESTIMATE2019','POPESTIMATE2020']]\n",
    "population18_20.rename(columns={'NAME': 'state', 'POPESTIMATE2018': 2018, 'POPESTIMATE2019': 2019, 'POPESTIMATE2020': 2020}, inplace=True)\n",
    "population18_20.head(2)\n",
    "\n",
    "population21 = pd.read_csv('../data/PEPPOP2021.NST_EST2021_POP-2022-05-11T014539.csv')\n",
    "population21.drop(columns=['Estimates Base Population, April 1, 2020 (POP_BASE2020)',\n",
    "                           'Population Estimate, July 1, 2020 (POP_2020)'], inplace=True)\n",
    "population21.rename(columns={'Population Estimate, July 1, 2021 (POP_2021)': 2021, 'Geographic Area Name (NAME)': 'state'}, inplace=True)\n",
    "population21.head(2)\n",
    "\n",
    "population = pd.merge(left=population18_20, right=population21, left_on='state', right_on='state')\n",
    "population.drop([56], inplace=True)\n",
    "population.head(2)\n",
    "\n",
    "population[2021] = population[2021].str.replace(',','').astype(int)\n",
    "population.set_index('state',inplace=True)\n",
    "population['average'] = population.mean(axis=1)\n",
    "population = population.rename(index={'South Region': 'South', 'Northeast Region': 'Northeast', 'Midwest Region': 'Midwest',\n",
    "                              'West Region': 'West'})"
   ]
  }
 ],
 "metadata": {
  "kernelspec": {
   "display_name": "Python 3 (ipykernel)",
   "language": "python",
   "name": "python3"
  },
  "language_info": {
   "codemirror_mode": {
    "name": "ipython",
    "version": 3
   },
   "file_extension": ".py",
   "mimetype": "text/x-python",
   "name": "python",
   "nbconvert_exporter": "python",
   "pygments_lexer": "ipython3",
   "version": "3.9.7"
  }
 },
 "nbformat": 4,
 "nbformat_minor": 5
}
