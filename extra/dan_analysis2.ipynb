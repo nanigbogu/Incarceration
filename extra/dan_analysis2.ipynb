{
 "cells": [
  {
   "cell_type": "code",
   "execution_count": 1,
   "id": "5a44b3a9-cb52-429c-ac22-8230f624408c",
   "metadata": {},
   "outputs": [
    {
     "name": "stdout",
     "output_type": "stream",
     "text": [
      "Requirement already satisfied: imbalanced-learn in /Users/danielschlant/opt/anaconda3/lib/python3.9/site-packages (0.9.0)\n",
      "Requirement already satisfied: scipy>=1.1.0 in /Users/danielschlant/opt/anaconda3/lib/python3.9/site-packages (from imbalanced-learn) (1.7.1)\n",
      "Requirement already satisfied: joblib>=0.11 in /Users/danielschlant/opt/anaconda3/lib/python3.9/site-packages (from imbalanced-learn) (1.1.0)\n",
      "Requirement already satisfied: scikit-learn>=1.0.1 in /Users/danielschlant/opt/anaconda3/lib/python3.9/site-packages (from imbalanced-learn) (1.1.0)\n",
      "Requirement already satisfied: numpy>=1.14.6 in /Users/danielschlant/opt/anaconda3/lib/python3.9/site-packages (from imbalanced-learn) (1.22.3)\n",
      "Requirement already satisfied: threadpoolctl>=2.0.0 in /Users/danielschlant/opt/anaconda3/lib/python3.9/site-packages (from imbalanced-learn) (2.2.0)\n",
      "Note: you may need to restart the kernel to use updated packages.\n"
     ]
    }
   ],
   "source": [
    "pip install -U imbalanced-learn"
   ]
  },
  {
   "cell_type": "code",
   "execution_count": 2,
   "id": "16062ff4-62b4-4343-88c9-c7183578dd6d",
   "metadata": {},
   "outputs": [
    {
     "ename": "ImportError",
     "evalue": "cannot import name '_joblib_parallel_args' from 'sklearn.utils.fixes' (/Users/danielschlant/opt/anaconda3/lib/python3.9/site-packages/sklearn/utils/fixes.py)",
     "output_type": "error",
     "traceback": [
      "\u001b[0;31m---------------------------------------------------------------------------\u001b[0m",
      "\u001b[0;31mImportError\u001b[0m                               Traceback (most recent call last)",
      "\u001b[0;32m/var/folders/pr/wgwfmfsx53n97rhpm9z12wqh0000gn/T/ipykernel_25182/1539791473.py\u001b[0m in \u001b[0;36m<module>\u001b[0;34m\u001b[0m\n\u001b[1;32m     15\u001b[0m \u001b[0;32mfrom\u001b[0m \u001b[0msklearn\u001b[0m\u001b[0;34m.\u001b[0m\u001b[0mneighbors\u001b[0m \u001b[0;32mimport\u001b[0m \u001b[0mKNeighborsClassifier\u001b[0m\u001b[0;34m\u001b[0m\u001b[0;34m\u001b[0m\u001b[0m\n\u001b[1;32m     16\u001b[0m \u001b[0;32mfrom\u001b[0m \u001b[0msklearn\u001b[0m\u001b[0;34m.\u001b[0m\u001b[0mensemble\u001b[0m \u001b[0;32mimport\u001b[0m \u001b[0mRandomForestClassifier\u001b[0m\u001b[0;34m\u001b[0m\u001b[0;34m\u001b[0m\u001b[0m\n\u001b[0;32m---> 17\u001b[0;31m \u001b[0;32mfrom\u001b[0m \u001b[0mimblearn\u001b[0m\u001b[0;34m.\u001b[0m\u001b[0mdatasets\u001b[0m \u001b[0;32mimport\u001b[0m \u001b[0mmake_imbalance\u001b[0m\u001b[0;34m\u001b[0m\u001b[0;34m\u001b[0m\u001b[0m\n\u001b[0m\u001b[1;32m     18\u001b[0m \u001b[0;32mfrom\u001b[0m \u001b[0mimblearn\u001b[0m\u001b[0;34m.\u001b[0m\u001b[0mpipeline\u001b[0m \u001b[0;32mimport\u001b[0m \u001b[0mmake_pipeline\u001b[0m\u001b[0;34m\u001b[0m\u001b[0;34m\u001b[0m\u001b[0m\n\u001b[1;32m     19\u001b[0m \u001b[0;32mfrom\u001b[0m \u001b[0mimblearn\u001b[0m\u001b[0;34m.\u001b[0m\u001b[0mover_sampling\u001b[0m \u001b[0;32mimport\u001b[0m \u001b[0mRandomOverSampler\u001b[0m\u001b[0;34m\u001b[0m\u001b[0;34m\u001b[0m\u001b[0m\n",
      "\u001b[0;32m~/opt/anaconda3/lib/python3.9/site-packages/imblearn/__init__.py\u001b[0m in \u001b[0;36m<module>\u001b[0;34m\u001b[0m\n\u001b[1;32m     51\u001b[0m \u001b[0;32melse\u001b[0m\u001b[0;34m:\u001b[0m\u001b[0;34m\u001b[0m\u001b[0;34m\u001b[0m\u001b[0m\n\u001b[1;32m     52\u001b[0m     \u001b[0;32mfrom\u001b[0m \u001b[0;34m.\u001b[0m \u001b[0;32mimport\u001b[0m \u001b[0mcombine\u001b[0m\u001b[0;34m\u001b[0m\u001b[0;34m\u001b[0m\u001b[0m\n\u001b[0;32m---> 53\u001b[0;31m     \u001b[0;32mfrom\u001b[0m \u001b[0;34m.\u001b[0m \u001b[0;32mimport\u001b[0m \u001b[0mensemble\u001b[0m\u001b[0;34m\u001b[0m\u001b[0;34m\u001b[0m\u001b[0m\n\u001b[0m\u001b[1;32m     54\u001b[0m     \u001b[0;32mfrom\u001b[0m \u001b[0;34m.\u001b[0m \u001b[0;32mimport\u001b[0m \u001b[0mexceptions\u001b[0m\u001b[0;34m\u001b[0m\u001b[0;34m\u001b[0m\u001b[0m\n\u001b[1;32m     55\u001b[0m     \u001b[0;32mfrom\u001b[0m \u001b[0;34m.\u001b[0m \u001b[0;32mimport\u001b[0m \u001b[0mmetrics\u001b[0m\u001b[0;34m\u001b[0m\u001b[0;34m\u001b[0m\u001b[0m\n",
      "\u001b[0;32m~/opt/anaconda3/lib/python3.9/site-packages/imblearn/ensemble/__init__.py\u001b[0m in \u001b[0;36m<module>\u001b[0;34m\u001b[0m\n\u001b[1;32m      6\u001b[0m \u001b[0;32mfrom\u001b[0m \u001b[0;34m.\u001b[0m\u001b[0m_easy_ensemble\u001b[0m \u001b[0;32mimport\u001b[0m \u001b[0mEasyEnsembleClassifier\u001b[0m\u001b[0;34m\u001b[0m\u001b[0;34m\u001b[0m\u001b[0m\n\u001b[1;32m      7\u001b[0m \u001b[0;32mfrom\u001b[0m \u001b[0;34m.\u001b[0m\u001b[0m_bagging\u001b[0m \u001b[0;32mimport\u001b[0m \u001b[0mBalancedBaggingClassifier\u001b[0m\u001b[0;34m\u001b[0m\u001b[0;34m\u001b[0m\u001b[0m\n\u001b[0;32m----> 8\u001b[0;31m \u001b[0;32mfrom\u001b[0m \u001b[0;34m.\u001b[0m\u001b[0m_forest\u001b[0m \u001b[0;32mimport\u001b[0m \u001b[0mBalancedRandomForestClassifier\u001b[0m\u001b[0;34m\u001b[0m\u001b[0;34m\u001b[0m\u001b[0m\n\u001b[0m\u001b[1;32m      9\u001b[0m \u001b[0;32mfrom\u001b[0m \u001b[0;34m.\u001b[0m\u001b[0m_weight_boosting\u001b[0m \u001b[0;32mimport\u001b[0m \u001b[0mRUSBoostClassifier\u001b[0m\u001b[0;34m\u001b[0m\u001b[0;34m\u001b[0m\u001b[0m\n\u001b[1;32m     10\u001b[0m \u001b[0;34m\u001b[0m\u001b[0m\n",
      "\u001b[0;32m~/opt/anaconda3/lib/python3.9/site-packages/imblearn/ensemble/_forest.py\u001b[0m in \u001b[0;36m<module>\u001b[0;34m\u001b[0m\n\u001b[1;32m     26\u001b[0m \u001b[0;32mfrom\u001b[0m \u001b[0msklearn\u001b[0m\u001b[0;34m.\u001b[0m\u001b[0mutils\u001b[0m \u001b[0;32mimport\u001b[0m \u001b[0mcheck_random_state\u001b[0m\u001b[0;34m\u001b[0m\u001b[0;34m\u001b[0m\u001b[0m\n\u001b[1;32m     27\u001b[0m \u001b[0;32mfrom\u001b[0m \u001b[0msklearn\u001b[0m\u001b[0;34m.\u001b[0m\u001b[0mutils\u001b[0m \u001b[0;32mimport\u001b[0m \u001b[0m_safe_indexing\u001b[0m\u001b[0;34m\u001b[0m\u001b[0;34m\u001b[0m\u001b[0m\n\u001b[0;32m---> 28\u001b[0;31m \u001b[0;32mfrom\u001b[0m \u001b[0msklearn\u001b[0m\u001b[0;34m.\u001b[0m\u001b[0mutils\u001b[0m\u001b[0;34m.\u001b[0m\u001b[0mfixes\u001b[0m \u001b[0;32mimport\u001b[0m \u001b[0m_joblib_parallel_args\u001b[0m\u001b[0;34m\u001b[0m\u001b[0;34m\u001b[0m\u001b[0m\n\u001b[0m\u001b[1;32m     29\u001b[0m \u001b[0;32mfrom\u001b[0m \u001b[0msklearn\u001b[0m\u001b[0;34m.\u001b[0m\u001b[0mutils\u001b[0m\u001b[0;34m.\u001b[0m\u001b[0mvalidation\u001b[0m \u001b[0;32mimport\u001b[0m \u001b[0m_check_sample_weight\u001b[0m\u001b[0;34m\u001b[0m\u001b[0;34m\u001b[0m\u001b[0m\n\u001b[1;32m     30\u001b[0m \u001b[0;34m\u001b[0m\u001b[0m\n",
      "\u001b[0;31mImportError\u001b[0m: cannot import name '_joblib_parallel_args' from 'sklearn.utils.fixes' (/Users/danielschlant/opt/anaconda3/lib/python3.9/site-packages/sklearn/utils/fixes.py)"
     ]
    }
   ],
   "source": [
    "import pandas as pd\n",
    "import numpy as np\n",
    "from scipy import stats\n",
    "from sklearn.preprocessing import OneHotEncoder\n",
    "from sklearn.compose import make_column_transformer\n",
    "from sklearn.compose import ColumnTransformer\n",
    "from sklearn.preprocessing import StandardScaler\n",
    "from sklearn.linear_model import LinearRegression, LassoCV, RidgeCV, Lasso, Ridge\n",
    "from sklearn.compose import TransformedTargetRegressor\n",
    "from sklearn.model_selection import train_test_split\n",
    "import seaborn as sns\n",
    "from sklearn.naive_bayes import GaussianNB, MultinomialNB\n",
    "from sklearn.preprocessing import MinMaxScaler\n",
    "from sklearn.linear_model import LogisticRegression\n",
    "from sklearn.neighbors import KNeighborsClassifier\n",
    "from sklearn.ensemble import RandomForestClassifier\n",
    "from imblearn.datasets import make_imbalance\n",
    "from imblearn.pipeline import make_pipeline\n",
    "from imblearn.over_sampling import RandomOverSampler\n"
   ]
  },
  {
   "cell_type": "code",
   "execution_count": null,
   "id": "93d68c00-1ddb-4576-9f8f-f25b23f97abf",
   "metadata": {},
   "outputs": [],
   "source": [
    "census_data = pd.read_csv('census_20.csv')"
   ]
  },
  {
   "cell_type": "code",
   "execution_count": null,
   "id": "76934d30-bb04-4d2d-a63d-b9a339404e53",
   "metadata": {},
   "outputs": [],
   "source": [
    "df18to21 = pd.read_csv('df18to21_cleaned.csv')"
   ]
  },
  {
   "cell_type": "code",
   "execution_count": null,
   "id": "89320ee3-a362-481f-9e9e-b001ebc834fb",
   "metadata": {},
   "outputs": [],
   "source": [
    "census_data.head()"
   ]
  },
  {
   "cell_type": "code",
   "execution_count": null,
   "id": "e7658ff2-a84c-4198-8adb-0bf7bb5245e0",
   "metadata": {},
   "outputs": [],
   "source": [
    "df18to21.columns"
   ]
  },
  {
   "cell_type": "code",
   "execution_count": null,
   "id": "3c70052a-a26c-4029-be80-358d351eb989",
   "metadata": {},
   "outputs": [],
   "source": [
    "df18to21 = df18to21.drop(columns=['Unnamed: 0','Unnamed: 0.1'])"
   ]
  },
  {
   "cell_type": "markdown",
   "id": "d88c6551-bfe2-42d0-b97a-c9459743b263",
   "metadata": {},
   "source": [
    "#### Imprisoned Rate by Year"
   ]
  },
  {
   "cell_type": "markdown",
   "id": "cd49cc68-af53-448f-8fb2-aacb68e9700e",
   "metadata": {},
   "source": [
    "No discernible change in rate of prison sentences due to covid."
   ]
  },
  {
   "cell_type": "code",
   "execution_count": null,
   "id": "843452f3-6b4e-4ba8-8f62-419d24a8b241",
   "metadata": {},
   "outputs": [],
   "source": [
    "df18to21.groupby('year_sentenced')['imprisoned'].mean()"
   ]
  },
  {
   "cell_type": "markdown",
   "id": "e1d40237-768d-45c1-93ca-49f0db266461",
   "metadata": {},
   "source": [
    "Fewer number of convictions post covid"
   ]
  },
  {
   "cell_type": "markdown",
   "id": "e2caafae-0ecb-4245-837a-4e62c68cd231",
   "metadata": {},
   "source": [
    "#### Number of Sentenced by Year"
   ]
  },
  {
   "cell_type": "code",
   "execution_count": null,
   "id": "aa79a7ff-7742-4af1-8f67-c29b65cf5231",
   "metadata": {
    "tags": []
   },
   "outputs": [],
   "source": [
    "df18to21['year_sentenced'].value_counts()"
   ]
  },
  {
   "cell_type": "markdown",
   "id": "f0ef287f-616b-4963-9c1a-7093ff21cfca",
   "metadata": {},
   "source": [
    "#### Analysis, Over 25 years old"
   ]
  },
  {
   "cell_type": "code",
   "execution_count": null,
   "id": "071216fb-7c2e-4ba6-8d74-ff0cea773d4e",
   "metadata": {},
   "outputs": [],
   "source": [
    "df18to21['over25'] = [1 if i >= 25 else 0 for i in df18to21['age']]"
   ]
  },
  {
   "cell_type": "markdown",
   "id": "3cf83d80-d13c-4db0-be9c-6be831b184c9",
   "metadata": {},
   "source": [
    "### Violent Crime Analysis"
   ]
  },
  {
   "cell_type": "markdown",
   "id": "7c7a20c8-c14d-444a-90f2-06d89056d6a9",
   "metadata": {},
   "source": [
    "https://www.ussc.gov/guidelines/amendment/798#:~:text=%E2%80%9C%20'Crime%20of%20violence'%20includes,and%20burglary%20of%20a%20dwelling.\n",
    "\n",
    "“Crime of violence’ includes murder, manslaughter, kidnapping, aggravated assault, forcible sex offenses, robbery, arson, extortion, extortionate extension of credit, and burglary of a dwelling.\""
   ]
  },
  {
   "cell_type": "code",
   "execution_count": null,
   "id": "4d16ad48-0434-4985-86f8-3a2f4074ce41",
   "metadata": {},
   "outputs": [],
   "source": [
    "violent_crimes = [22,27,20,19,4,26,3,12,26]"
   ]
  },
  {
   "cell_type": "code",
   "execution_count": null,
   "id": "e0ae001a-d875-4fc4-b4d6-424e541f32e7",
   "metadata": {},
   "outputs": [],
   "source": [
    "df18to21['violent_crime'] = [1 if i in violent_crimes else 0 for i in df18to21['crime_type']]"
   ]
  },
  {
   "cell_type": "markdown",
   "id": "8870798b-1ed9-46a8-a852-bb2be1505296",
   "metadata": {},
   "source": [
    "Less violent crime as you get older."
   ]
  },
  {
   "cell_type": "code",
   "execution_count": null,
   "id": "7eb4f87f-1e50-4553-8a60-4189854c440d",
   "metadata": {},
   "outputs": [],
   "source": [
    "df18to21.groupby('over25')['violent_crime'].mean()"
   ]
  },
  {
   "cell_type": "code",
   "execution_count": null,
   "id": "3b12c69c-2824-4889-8962-cac8276de210",
   "metadata": {},
   "outputs": [],
   "source": [
    "df18to21['violent_crime'].mean()"
   ]
  },
  {
   "cell_type": "code",
   "execution_count": null,
   "id": "1b2b9af9-4246-4032-b0fc-84e8ca69a2cf",
   "metadata": {
    "tags": []
   },
   "outputs": [],
   "source": [
    "df_age_violent = pd.DataFrame(df18to21.groupby('age')['violent_crime'].mean()).reset_index()\n",
    "df_age_violent.head()"
   ]
  },
  {
   "cell_type": "code",
   "execution_count": null,
   "id": "ff023eb3-675e-4d24-a3a0-6f2cb6f0eb70",
   "metadata": {},
   "outputs": [],
   "source": [
    "sns.scatterplot(x = df_age_violent['age'],y = df_age_violent['violent_crime'])"
   ]
  },
  {
   "cell_type": "markdown",
   "id": "9f7620dd-9e46-4b3e-8657-b0ad2b35188c",
   "metadata": {},
   "source": [
    "### Classifier for whether someone was held in custody for trial"
   ]
  },
  {
   "cell_type": "code",
   "execution_count": null,
   "id": "1aa3ff1f-90b7-4336-b899-da2da7ed3afe",
   "metadata": {},
   "outputs": [],
   "source": [
    "df18to21['trial_custody'] = [1 if i == 1 else 0 for i in df18to21['presentence_stat']]"
   ]
  },
  {
   "cell_type": "code",
   "execution_count": null,
   "id": "b970bfc8-64f7-4be3-869d-fb3b51a09485",
   "metadata": {},
   "outputs": [],
   "source": [
    "df18to21['trial_custody'].mean()"
   ]
  },
  {
   "cell_type": "code",
   "execution_count": null,
   "id": "db908851-b996-4a80-8b31-6770e5379ce0",
   "metadata": {},
   "outputs": [],
   "source": [
    "X = df18to21[['dependents', 'count_convictons','disposition', 'citizen',\n",
    "       'state', 'criminal_hist', 'drug_type', 'case_type', 'age', 'weapon',\n",
    "       'gender', 'crime_type','college',\n",
    "       'white']]\n",
    "y = df18to21['trial_custody']"
   ]
  },
  {
   "cell_type": "code",
   "execution_count": null,
   "id": "fe9c7874-2f04-4fb8-ba02-57cc5999e515",
   "metadata": {},
   "outputs": [],
   "source": [
    "numeric = ['count_convictons','age']\n",
    "categorical = ['dependents','white','disposition','citizen', 'state',\n",
    "              'criminal_hist', 'drug_type','weapon','gender','crime_type','case_type','college']"
   ]
  },
  {
   "cell_type": "code",
   "execution_count": null,
   "id": "a92eaac5-5fc2-4c43-b22c-023ee2de7827",
   "metadata": {},
   "outputs": [],
   "source": [
    "X_train,X_test,y_train,y_test = train_test_split(X,y,random_state=42,stratify=y)"
   ]
  },
  {
   "cell_type": "code",
   "execution_count": null,
   "id": "46dff533-0a6b-4a99-9846-a809e79ff9a9",
   "metadata": {},
   "outputs": [],
   "source": [
    "ctx = ColumnTransformer(\n",
    "    [('mms',MinMaxScaler(),numeric),\n",
    "     ('ohe',OneHotEncoder(handle_unknown='ignore',drop='first'),\\\n",
    "     categorical)],\n",
    "     verbose_feature_names_out=False,\n",
    "     remainder = 'passthrough'\n",
    ")\n",
    "\n",
    "ctx.fit(X_train)\n",
    "X_train_t = ctx.transform(X_train)\n",
    "X_test_t = ctx.transform(X_test)\n",
    "\n",
    "X_train = pd.DataFrame(X_train_t.A,columns=ctx.get_feature_names_out())\n",
    "X_test = pd.DataFrame(X_test_t.A,columns=ctx.get_feature_names_out())"
   ]
  },
  {
   "cell_type": "code",
   "execution_count": null,
   "id": "ee9c89f6-bdfa-4fa2-8c63-ce0a86af7012",
   "metadata": {},
   "outputs": [],
   "source": [
    "y_test.value_counts(normalize=True)"
   ]
  },
  {
   "cell_type": "code",
   "execution_count": null,
   "id": "8045597c-ebba-4edd-8209-dc594ceeffba",
   "metadata": {},
   "outputs": [],
   "source": [
    "mnb = MultinomialNB()\n",
    "mnb.fit(X_train,y_train)\n",
    "mnb.score(X_train,y_train), mnb.score(X_test,y_test)"
   ]
  },
  {
   "cell_type": "code",
   "execution_count": null,
   "id": "35e35521-56f9-4339-ab61-9873a35b945e",
   "metadata": {},
   "outputs": [],
   "source": [
    "logreg = LogisticRegression(random_state=42,max_iter=10000)\n",
    "logreg.fit(X_train,y_train)\n",
    "logreg.score(X_train,y_train),logreg.score(X_test,y_test)"
   ]
  },
  {
   "cell_type": "code",
   "execution_count": null,
   "id": "0110090c-5597-4819-b28f-6a27bbdabe3d",
   "metadata": {
    "tags": []
   },
   "outputs": [],
   "source": [
    "imps = mnb.feature_log_prob_[1,:] - mnb.feature_log_prob_[0,:]"
   ]
  },
  {
   "cell_type": "code",
   "execution_count": null,
   "id": "f5df79db-b3a9-4f37-aab6-beef3c1f7bdf",
   "metadata": {},
   "outputs": [],
   "source": [
    "mnb_feat_imp = pd.DataFrame(imps.T,\n",
    "            index=X_train.columns,\n",
    "            columns=['feature imps'])"
   ]
  },
  {
   "cell_type": "code",
   "execution_count": null,
   "id": "0473af71-8ebb-4a6a-bf1e-27cdaa866532",
   "metadata": {},
   "outputs": [],
   "source": [
    "mnb_feat_imp.sort_values(by='feature imps',ascending=False).head(15)"
   ]
  },
  {
   "cell_type": "markdown",
   "id": "23dc907b-d2a9-47b5-a50c-a7cf377b60e2",
   "metadata": {},
   "source": [
    "https://www.nbcnews.com/news/us-news/new-mexico-eliminated-cash-bail-now-one-county-locks-more-n1250257"
   ]
  },
  {
   "cell_type": "code",
   "execution_count": null,
   "id": "ab04b2a2-afe3-450e-874e-70fb3d2cc2e1",
   "metadata": {},
   "outputs": [],
   "source": [
    "df18to21['drug_type'].value_counts()"
   ]
  },
  {
   "cell_type": "markdown",
   "id": "5296a305-0700-42b2-a90c-ad7f7ecf65ed",
   "metadata": {},
   "source": [
    " 1 = Cocaine\n",
    " 2 = Crack\n",
    " 3 = Heroin\n",
    " 4 = Marijuana\n",
    " 6 = Methamphetamine\n",
    " 7 = Fentanyl\n",
    "77 = Other"
   ]
  },
  {
   "cell_type": "markdown",
   "id": "68061ac2-083c-43e8-b972-7848704fbbed",
   "metadata": {},
   "source": [
    "### Classification for if Minimum Guideline Exceeded"
   ]
  },
  {
   "cell_type": "code",
   "execution_count": null,
   "id": "7852aa8a-3ee6-4edf-85d3-b7f546729453",
   "metadata": {},
   "outputs": [],
   "source": [
    "df18to21['above_min'] = [1 if i > 0 else 0 for i in  df18to21['guideline_var_pct']]"
   ]
  },
  {
   "cell_type": "code",
   "execution_count": null,
   "id": "c9a8f8f6-4479-4119-9acf-4f224ebb80c5",
   "metadata": {},
   "outputs": [],
   "source": [
    "X = df18to21[['dependents', 'count_convictons','disposition', 'citizen',\n",
    "       'state', 'criminal_hist', 'drug_type', 'case_type', 'age', 'weapon',\n",
    "       'gender', 'crime_type','college','presentence_stat',\n",
    "       'race']]\n",
    "y = df18to21['above_min']"
   ]
  },
  {
   "cell_type": "code",
   "execution_count": null,
   "id": "a1b58e81-f309-4717-9f93-ee951207d784",
   "metadata": {},
   "outputs": [],
   "source": [
    "y.value_counts(normalize=True)"
   ]
  },
  {
   "cell_type": "code",
   "execution_count": null,
   "id": "1281fde2-aea9-4d61-bd5f-7bfb0b189076",
   "metadata": {},
   "outputs": [],
   "source": [
    "numeric = ['count_convictons','age']\n",
    "categorical = ['dependents','race','disposition','citizen', 'state','presentence_stat',\n",
    "              'criminal_hist', 'drug_type','weapon','gender','crime_type','case_type','college']"
   ]
  },
  {
   "cell_type": "code",
   "execution_count": null,
   "id": "9c9fddba-8eb7-4f91-86f8-c4aa9ff5a9b7",
   "metadata": {},
   "outputs": [],
   "source": [
    "X_train,X_test,y_train,y_test = train_test_split(X,y,random_state=42,stratify=y)"
   ]
  },
  {
   "cell_type": "code",
   "execution_count": null,
   "id": "b055b7c2-e4a2-4b4a-94c2-07f82adb8858",
   "metadata": {},
   "outputs": [],
   "source": [
    "ctx = ColumnTransformer(\n",
    "    [('mms',MinMaxScaler(),numeric),\n",
    "     ('ohe',OneHotEncoder(handle_unknown='ignore',drop='first'),\\\n",
    "     categorical)],\n",
    "     verbose_feature_names_out=False,\n",
    "     remainder = 'passthrough'\n",
    ")\n",
    "\n",
    "ctx.fit(X_train)\n",
    "X_train_t = ctx.transform(X_train)\n",
    "X_test_t = ctx.transform(X_test)\n",
    "\n",
    "X_train = pd.DataFrame(X_train_t.A,columns=ctx.get_feature_names_out())\n",
    "X_test = pd.DataFrame(X_test_t.A,columns=ctx.get_feature_names_out())"
   ]
  },
  {
   "cell_type": "code",
   "execution_count": null,
   "id": "acf8987f-36f9-42de-bf48-0cf2ef588a71",
   "metadata": {},
   "outputs": [],
   "source": [
    "mnb2 = MultinomialNB()\n",
    "mnb2.fit(X_train,y_train)\n",
    "mnb2.score(X_train,y_train), mnb2.score(X_test,y_test)"
   ]
  },
  {
   "cell_type": "code",
   "execution_count": null,
   "id": "6b4d9e38-35ac-4756-a00a-d07ef343359e",
   "metadata": {},
   "outputs": [],
   "source": [
    "logreg2 = LogisticRegression()\n",
    "logreg2.fit(X_train,y_train)\n",
    "logreg2.score(X_train,y_train),logreg2.score(X_test,y_test)"
   ]
  },
  {
   "cell_type": "code",
   "execution_count": null,
   "id": "39406364-74fb-494a-8fee-24d5fb319adc",
   "metadata": {},
   "outputs": [],
   "source": [
    "knc = KNeighborsClassifier(n_neighbors=3)\n",
    "knc.fit(X_train,y_train)\n",
    "knc.score(X_train,y_train),knc.score(X_test,y_test)"
   ]
  }
 ],
 "metadata": {
  "kernelspec": {
   "display_name": "Python 3 (ipykernel)",
   "language": "python",
   "name": "python3"
  },
  "language_info": {
   "codemirror_mode": {
    "name": "ipython",
    "version": 3
   },
   "file_extension": ".py",
   "mimetype": "text/x-python",
   "name": "python",
   "nbconvert_exporter": "python",
   "pygments_lexer": "ipython3",
   "version": "3.9.7"
  }
 },
 "nbformat": 4,
 "nbformat_minor": 5
}
