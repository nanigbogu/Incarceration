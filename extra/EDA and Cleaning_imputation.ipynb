{
 "cells": [
  {
   "cell_type": "code",
   "execution_count": 1,
   "id": "41454e2a-cbed-41ed-85d9-cc7dd5986525",
   "metadata": {},
   "outputs": [],
   "source": [
    "import pandas as pd\n",
    "import matplotlib.pyplot as plt\n",
    "import seaborn as sns\n",
    "import numpy as np\n",
    "import plotly\n",
    "import plotly.express as px"
   ]
  },
  {
   "cell_type": "code",
   "execution_count": 2,
   "id": "6be10407-21a1-42ce-8673-556983996d9e",
   "metadata": {},
   "outputs": [
    {
     "ename": "FileNotFoundError",
     "evalue": "[Errno 2] No such file or directory: '../data/df18to21.csv'",
     "output_type": "error",
     "traceback": [
      "\u001b[1;31m---------------------------------------------------------------------------\u001b[0m",
      "\u001b[1;31mFileNotFoundError\u001b[0m                         Traceback (most recent call last)",
      "\u001b[1;32m~\\AppData\\Local\\Temp/ipykernel_13692/718198976.py\u001b[0m in \u001b[0;36m<module>\u001b[1;34m\u001b[0m\n\u001b[1;32m----> 1\u001b[1;33m \u001b[0mdf18to21\u001b[0m \u001b[1;33m=\u001b[0m \u001b[0mpd\u001b[0m\u001b[1;33m.\u001b[0m\u001b[0mread_csv\u001b[0m\u001b[1;33m(\u001b[0m\u001b[1;34m'../data/df18to21.csv'\u001b[0m\u001b[1;33m,\u001b[0m\u001b[0mindex_col\u001b[0m\u001b[1;33m=\u001b[0m\u001b[1;36m0\u001b[0m\u001b[1;33m)\u001b[0m\u001b[1;33m\u001b[0m\u001b[1;33m\u001b[0m\u001b[0m\n\u001b[0m\u001b[0;32m      2\u001b[0m \u001b[0mdf18to21\u001b[0m\u001b[1;33m.\u001b[0m\u001b[0mhead\u001b[0m\u001b[1;33m(\u001b[0m\u001b[1;33m)\u001b[0m\u001b[1;33m\u001b[0m\u001b[1;33m\u001b[0m\u001b[0m\n",
      "\u001b[1;32m~\\anaconda3\\lib\\site-packages\\pandas\\util\\_decorators.py\u001b[0m in \u001b[0;36mwrapper\u001b[1;34m(*args, **kwargs)\u001b[0m\n\u001b[0;32m    309\u001b[0m                     \u001b[0mstacklevel\u001b[0m\u001b[1;33m=\u001b[0m\u001b[0mstacklevel\u001b[0m\u001b[1;33m,\u001b[0m\u001b[1;33m\u001b[0m\u001b[1;33m\u001b[0m\u001b[0m\n\u001b[0;32m    310\u001b[0m                 )\n\u001b[1;32m--> 311\u001b[1;33m             \u001b[1;32mreturn\u001b[0m \u001b[0mfunc\u001b[0m\u001b[1;33m(\u001b[0m\u001b[1;33m*\u001b[0m\u001b[0margs\u001b[0m\u001b[1;33m,\u001b[0m \u001b[1;33m**\u001b[0m\u001b[0mkwargs\u001b[0m\u001b[1;33m)\u001b[0m\u001b[1;33m\u001b[0m\u001b[1;33m\u001b[0m\u001b[0m\n\u001b[0m\u001b[0;32m    312\u001b[0m \u001b[1;33m\u001b[0m\u001b[0m\n\u001b[0;32m    313\u001b[0m         \u001b[1;32mreturn\u001b[0m \u001b[0mwrapper\u001b[0m\u001b[1;33m\u001b[0m\u001b[1;33m\u001b[0m\u001b[0m\n",
      "\u001b[1;32m~\\anaconda3\\lib\\site-packages\\pandas\\io\\parsers\\readers.py\u001b[0m in \u001b[0;36mread_csv\u001b[1;34m(filepath_or_buffer, sep, delimiter, header, names, index_col, usecols, squeeze, prefix, mangle_dupe_cols, dtype, engine, converters, true_values, false_values, skipinitialspace, skiprows, skipfooter, nrows, na_values, keep_default_na, na_filter, verbose, skip_blank_lines, parse_dates, infer_datetime_format, keep_date_col, date_parser, dayfirst, cache_dates, iterator, chunksize, compression, thousands, decimal, lineterminator, quotechar, quoting, doublequote, escapechar, comment, encoding, encoding_errors, dialect, error_bad_lines, warn_bad_lines, on_bad_lines, delim_whitespace, low_memory, memory_map, float_precision, storage_options)\u001b[0m\n\u001b[0;32m    584\u001b[0m     \u001b[0mkwds\u001b[0m\u001b[1;33m.\u001b[0m\u001b[0mupdate\u001b[0m\u001b[1;33m(\u001b[0m\u001b[0mkwds_defaults\u001b[0m\u001b[1;33m)\u001b[0m\u001b[1;33m\u001b[0m\u001b[1;33m\u001b[0m\u001b[0m\n\u001b[0;32m    585\u001b[0m \u001b[1;33m\u001b[0m\u001b[0m\n\u001b[1;32m--> 586\u001b[1;33m     \u001b[1;32mreturn\u001b[0m \u001b[0m_read\u001b[0m\u001b[1;33m(\u001b[0m\u001b[0mfilepath_or_buffer\u001b[0m\u001b[1;33m,\u001b[0m \u001b[0mkwds\u001b[0m\u001b[1;33m)\u001b[0m\u001b[1;33m\u001b[0m\u001b[1;33m\u001b[0m\u001b[0m\n\u001b[0m\u001b[0;32m    587\u001b[0m \u001b[1;33m\u001b[0m\u001b[0m\n\u001b[0;32m    588\u001b[0m \u001b[1;33m\u001b[0m\u001b[0m\n",
      "\u001b[1;32m~\\anaconda3\\lib\\site-packages\\pandas\\io\\parsers\\readers.py\u001b[0m in \u001b[0;36m_read\u001b[1;34m(filepath_or_buffer, kwds)\u001b[0m\n\u001b[0;32m    480\u001b[0m \u001b[1;33m\u001b[0m\u001b[0m\n\u001b[0;32m    481\u001b[0m     \u001b[1;31m# Create the parser.\u001b[0m\u001b[1;33m\u001b[0m\u001b[1;33m\u001b[0m\u001b[0m\n\u001b[1;32m--> 482\u001b[1;33m     \u001b[0mparser\u001b[0m \u001b[1;33m=\u001b[0m \u001b[0mTextFileReader\u001b[0m\u001b[1;33m(\u001b[0m\u001b[0mfilepath_or_buffer\u001b[0m\u001b[1;33m,\u001b[0m \u001b[1;33m**\u001b[0m\u001b[0mkwds\u001b[0m\u001b[1;33m)\u001b[0m\u001b[1;33m\u001b[0m\u001b[1;33m\u001b[0m\u001b[0m\n\u001b[0m\u001b[0;32m    483\u001b[0m \u001b[1;33m\u001b[0m\u001b[0m\n\u001b[0;32m    484\u001b[0m     \u001b[1;32mif\u001b[0m \u001b[0mchunksize\u001b[0m \u001b[1;32mor\u001b[0m \u001b[0miterator\u001b[0m\u001b[1;33m:\u001b[0m\u001b[1;33m\u001b[0m\u001b[1;33m\u001b[0m\u001b[0m\n",
      "\u001b[1;32m~\\anaconda3\\lib\\site-packages\\pandas\\io\\parsers\\readers.py\u001b[0m in \u001b[0;36m__init__\u001b[1;34m(self, f, engine, **kwds)\u001b[0m\n\u001b[0;32m    809\u001b[0m             \u001b[0mself\u001b[0m\u001b[1;33m.\u001b[0m\u001b[0moptions\u001b[0m\u001b[1;33m[\u001b[0m\u001b[1;34m\"has_index_names\"\u001b[0m\u001b[1;33m]\u001b[0m \u001b[1;33m=\u001b[0m \u001b[0mkwds\u001b[0m\u001b[1;33m[\u001b[0m\u001b[1;34m\"has_index_names\"\u001b[0m\u001b[1;33m]\u001b[0m\u001b[1;33m\u001b[0m\u001b[1;33m\u001b[0m\u001b[0m\n\u001b[0;32m    810\u001b[0m \u001b[1;33m\u001b[0m\u001b[0m\n\u001b[1;32m--> 811\u001b[1;33m         \u001b[0mself\u001b[0m\u001b[1;33m.\u001b[0m\u001b[0m_engine\u001b[0m \u001b[1;33m=\u001b[0m \u001b[0mself\u001b[0m\u001b[1;33m.\u001b[0m\u001b[0m_make_engine\u001b[0m\u001b[1;33m(\u001b[0m\u001b[0mself\u001b[0m\u001b[1;33m.\u001b[0m\u001b[0mengine\u001b[0m\u001b[1;33m)\u001b[0m\u001b[1;33m\u001b[0m\u001b[1;33m\u001b[0m\u001b[0m\n\u001b[0m\u001b[0;32m    812\u001b[0m \u001b[1;33m\u001b[0m\u001b[0m\n\u001b[0;32m    813\u001b[0m     \u001b[1;32mdef\u001b[0m \u001b[0mclose\u001b[0m\u001b[1;33m(\u001b[0m\u001b[0mself\u001b[0m\u001b[1;33m)\u001b[0m\u001b[1;33m:\u001b[0m\u001b[1;33m\u001b[0m\u001b[1;33m\u001b[0m\u001b[0m\n",
      "\u001b[1;32m~\\anaconda3\\lib\\site-packages\\pandas\\io\\parsers\\readers.py\u001b[0m in \u001b[0;36m_make_engine\u001b[1;34m(self, engine)\u001b[0m\n\u001b[0;32m   1038\u001b[0m             )\n\u001b[0;32m   1039\u001b[0m         \u001b[1;31m# error: Too many arguments for \"ParserBase\"\u001b[0m\u001b[1;33m\u001b[0m\u001b[1;33m\u001b[0m\u001b[0m\n\u001b[1;32m-> 1040\u001b[1;33m         \u001b[1;32mreturn\u001b[0m \u001b[0mmapping\u001b[0m\u001b[1;33m[\u001b[0m\u001b[0mengine\u001b[0m\u001b[1;33m]\u001b[0m\u001b[1;33m(\u001b[0m\u001b[0mself\u001b[0m\u001b[1;33m.\u001b[0m\u001b[0mf\u001b[0m\u001b[1;33m,\u001b[0m \u001b[1;33m**\u001b[0m\u001b[0mself\u001b[0m\u001b[1;33m.\u001b[0m\u001b[0moptions\u001b[0m\u001b[1;33m)\u001b[0m  \u001b[1;31m# type: ignore[call-arg]\u001b[0m\u001b[1;33m\u001b[0m\u001b[1;33m\u001b[0m\u001b[0m\n\u001b[0m\u001b[0;32m   1041\u001b[0m \u001b[1;33m\u001b[0m\u001b[0m\n\u001b[0;32m   1042\u001b[0m     \u001b[1;32mdef\u001b[0m \u001b[0m_failover_to_python\u001b[0m\u001b[1;33m(\u001b[0m\u001b[0mself\u001b[0m\u001b[1;33m)\u001b[0m\u001b[1;33m:\u001b[0m\u001b[1;33m\u001b[0m\u001b[1;33m\u001b[0m\u001b[0m\n",
      "\u001b[1;32m~\\anaconda3\\lib\\site-packages\\pandas\\io\\parsers\\c_parser_wrapper.py\u001b[0m in \u001b[0;36m__init__\u001b[1;34m(self, src, **kwds)\u001b[0m\n\u001b[0;32m     49\u001b[0m \u001b[1;33m\u001b[0m\u001b[0m\n\u001b[0;32m     50\u001b[0m         \u001b[1;31m# open handles\u001b[0m\u001b[1;33m\u001b[0m\u001b[1;33m\u001b[0m\u001b[0m\n\u001b[1;32m---> 51\u001b[1;33m         \u001b[0mself\u001b[0m\u001b[1;33m.\u001b[0m\u001b[0m_open_handles\u001b[0m\u001b[1;33m(\u001b[0m\u001b[0msrc\u001b[0m\u001b[1;33m,\u001b[0m \u001b[0mkwds\u001b[0m\u001b[1;33m)\u001b[0m\u001b[1;33m\u001b[0m\u001b[1;33m\u001b[0m\u001b[0m\n\u001b[0m\u001b[0;32m     52\u001b[0m         \u001b[1;32massert\u001b[0m \u001b[0mself\u001b[0m\u001b[1;33m.\u001b[0m\u001b[0mhandles\u001b[0m \u001b[1;32mis\u001b[0m \u001b[1;32mnot\u001b[0m \u001b[1;32mNone\u001b[0m\u001b[1;33m\u001b[0m\u001b[1;33m\u001b[0m\u001b[0m\n\u001b[0;32m     53\u001b[0m \u001b[1;33m\u001b[0m\u001b[0m\n",
      "\u001b[1;32m~\\anaconda3\\lib\\site-packages\\pandas\\io\\parsers\\base_parser.py\u001b[0m in \u001b[0;36m_open_handles\u001b[1;34m(self, src, kwds)\u001b[0m\n\u001b[0;32m    220\u001b[0m         \u001b[0mLet\u001b[0m \u001b[0mthe\u001b[0m \u001b[0mreaders\u001b[0m \u001b[0mopen\u001b[0m \u001b[0mIOHandles\u001b[0m \u001b[0mafter\u001b[0m \u001b[0mthey\u001b[0m \u001b[0mare\u001b[0m \u001b[0mdone\u001b[0m \u001b[1;32mwith\u001b[0m \u001b[0mtheir\u001b[0m \u001b[0mpotential\u001b[0m \u001b[0mraises\u001b[0m\u001b[1;33m.\u001b[0m\u001b[1;33m\u001b[0m\u001b[1;33m\u001b[0m\u001b[0m\n\u001b[0;32m    221\u001b[0m         \"\"\"\n\u001b[1;32m--> 222\u001b[1;33m         self.handles = get_handle(\n\u001b[0m\u001b[0;32m    223\u001b[0m             \u001b[0msrc\u001b[0m\u001b[1;33m,\u001b[0m\u001b[1;33m\u001b[0m\u001b[1;33m\u001b[0m\u001b[0m\n\u001b[0;32m    224\u001b[0m             \u001b[1;34m\"r\"\u001b[0m\u001b[1;33m,\u001b[0m\u001b[1;33m\u001b[0m\u001b[1;33m\u001b[0m\u001b[0m\n",
      "\u001b[1;32m~\\anaconda3\\lib\\site-packages\\pandas\\io\\common.py\u001b[0m in \u001b[0;36mget_handle\u001b[1;34m(path_or_buf, mode, encoding, compression, memory_map, is_text, errors, storage_options)\u001b[0m\n\u001b[0;32m    700\u001b[0m         \u001b[1;32mif\u001b[0m \u001b[0mioargs\u001b[0m\u001b[1;33m.\u001b[0m\u001b[0mencoding\u001b[0m \u001b[1;32mand\u001b[0m \u001b[1;34m\"b\"\u001b[0m \u001b[1;32mnot\u001b[0m \u001b[1;32min\u001b[0m \u001b[0mioargs\u001b[0m\u001b[1;33m.\u001b[0m\u001b[0mmode\u001b[0m\u001b[1;33m:\u001b[0m\u001b[1;33m\u001b[0m\u001b[1;33m\u001b[0m\u001b[0m\n\u001b[0;32m    701\u001b[0m             \u001b[1;31m# Encoding\u001b[0m\u001b[1;33m\u001b[0m\u001b[1;33m\u001b[0m\u001b[0m\n\u001b[1;32m--> 702\u001b[1;33m             handle = open(\n\u001b[0m\u001b[0;32m    703\u001b[0m                 \u001b[0mhandle\u001b[0m\u001b[1;33m,\u001b[0m\u001b[1;33m\u001b[0m\u001b[1;33m\u001b[0m\u001b[0m\n\u001b[0;32m    704\u001b[0m                 \u001b[0mioargs\u001b[0m\u001b[1;33m.\u001b[0m\u001b[0mmode\u001b[0m\u001b[1;33m,\u001b[0m\u001b[1;33m\u001b[0m\u001b[1;33m\u001b[0m\u001b[0m\n",
      "\u001b[1;31mFileNotFoundError\u001b[0m: [Errno 2] No such file or directory: '../data/df18to21.csv'"
     ]
    }
   ],
   "source": [
    "df18to21 = pd.read_csv('../data/df18to21.csv',index_col=0)\n",
    "df18to21.head()"
   ]
  },
  {
   "cell_type": "code",
   "execution_count": null,
   "id": "1dd5980a-3cd6-46bc-9840-7ecd8ab9b43f",
   "metadata": {},
   "outputs": [],
   "source": [
    "df18to21.info()"
   ]
  },
  {
   "cell_type": "code",
   "execution_count": null,
   "id": "01c8186c-7b4d-40db-93f1-c3c2ec185d33",
   "metadata": {},
   "outputs": [],
   "source": [
    "df18to21 = df18to21.drop(columns=['CHP3CHG1','CHP3CHG2','CHP3CHG3', 'CHP3CHG4', 'CHP3CHG5', 'CHP3CHG6', 'INOUT', 'SENTRNGE', \n",
    "                                  'STATMIN', 'STATMAX', 'MNTHDEPT', 'ACCAP'])"
   ]
  },
  {
   "cell_type": "markdown",
   "id": "aaef659c-ac04-41b2-9094-a4b5eb3cf204",
   "metadata": {},
   "source": [
    "Dropped these columns because CHP3CHGX columns contained more than 90% null values and INOUT and SENTRNGE were redundant."
   ]
  },
  {
   "cell_type": "code",
   "execution_count": null,
   "id": "2ea65db9-6e81-4d09-9afb-b9be6dfbd273",
   "metadata": {},
   "outputs": [],
   "source": [
    "df18to21 = df18to21.drop(df18to21[df18to21['TOTPRISN'] == 9997].index)"
   ]
  },
  {
   "cell_type": "markdown",
   "id": "74b2b259-faea-4a8b-8b49-980ad673a059",
   "metadata": {},
   "source": [
    "Dropped ~30 data values for individuals with unknown sentence lengths"
   ]
  },
  {
   "cell_type": "code",
   "execution_count": null,
   "id": "4b96f805-56ff-48a0-a2fa-e37edb23c543",
   "metadata": {},
   "outputs": [],
   "source": [
    "df18to21['SENTYR'].value_counts()"
   ]
  },
  {
   "cell_type": "code",
   "execution_count": null,
   "id": "b3a5523d-f599-477c-8f93-acb2b151ea59",
   "metadata": {},
   "outputs": [],
   "source": [
    "df18to21 = df18to21.drop(df18to21[df18to21['SENTYR'] == 2017].index)"
   ]
  },
  {
   "cell_type": "markdown",
   "id": "e34a128f-5f33-4d6c-8bb3-f062c50ef36b",
   "metadata": {},
   "source": [
    "Dropped 16210 data values from 2017"
   ]
  },
  {
   "cell_type": "code",
   "execution_count": null,
   "id": "1f7bf5c7-294e-4def-a2ad-215b8cbc3c40",
   "metadata": {},
   "outputs": [],
   "source": [
    "df18to21.rename(columns= {'TOTPRISN': 'sentence_length', 'SENTYR': 'year_sentenced', 'SENTIMP': 'sentence_type', 'RANGEPT': 'guideline_range', 'PRISDUM': 'imprisoned',\n",
    "                          'PCNTDEPT': 'guideline_var_pct', 'NUMDEPEN': 'dependents', 'NOCOUNTS': 'count_convictons', 'MONRACE': 'race', 'NEWEDUC': 'education', \n",
    "                          'DISPOSIT': 'disposition', 'CITIZEN': 'citizen', 'DISTRICT': 'state', 'CRIMHIST': 'criminal_hist', 'COMBDRG2': 'drug_type', \n",
    "                          'CASETYPE': 'case_type', 'AGE': 'age', 'WEAPON': 'weapon','PRESENT': 'presentence_stat', 'MONSEX': 'gender', 'OFFGUIDE': 'crime_type'}, inplace=True\n",
    ")"
   ]
  },
  {
   "cell_type": "code",
   "execution_count": null,
   "id": "bb69c6b7-37ef-4ff5-8119-2c35ab80777a",
   "metadata": {},
   "outputs": [],
   "source": [
    "df18to21['race'].value_counts()"
   ]
  },
  {
   "cell_type": "markdown",
   "id": "de344572-4c04-466d-946d-a30636b599e6",
   "metadata": {},
   "source": [
    "**Race dictionary**: \n",
    "\n",
    "|Column|Value|Description|\n",
    "|---|---|---|\n",
    "|**race**|1|White/ Caucasian| \n",
    "|**race**|2|Black/ African American| \n",
    "|**race**|3|American Indian/ Alaskan Native| \n",
    "|**race**|4|Asian or Pacific Islander| \n",
    "|**race**|5|Multi- Racial| \n",
    "|**race**|7|Other| \n",
    "|**race**|8|Unknown| \n",
    "|**race**|9|Non- US American Indians| \n",
    "|**race**|10|American Indian Citizenship Unknown|"
   ]
  },
  {
   "cell_type": "code",
   "execution_count": null,
   "id": "a985b893-ff0d-4f68-923c-20110e4fc981",
   "metadata": {},
   "outputs": [],
   "source": [
    "df18to21['race'] = df18to21['race'].replace(10,3)\n",
    "df18to21['race'] = df18to21['race'].replace(9,3)\n",
    "df18to21['race'] = df18to21['race'].replace(8,7)\n",
    "df18to21['race'] = df18to21['race'].replace(5,7)"
   ]
  },
  {
   "cell_type": "markdown",
   "id": "285eb960-1606-4bc4-b199-6935b3e2be9b",
   "metadata": {},
   "source": [
    "- Consolidated Non-US American Indians and American Indian Citizenship with American Indian\\Alaskan Native\n",
    "- Consolidated Multiracial and Unknown with Other"
   ]
  },
  {
   "cell_type": "code",
   "execution_count": null,
   "id": "34cd718e-db7b-4246-b14b-576ddc919f11",
   "metadata": {},
   "outputs": [],
   "source": [
    "df18to21['citizen'].value_counts()"
   ]
  },
  {
   "cell_type": "markdown",
   "id": "e057e2a3-b75b-4345-bbaa-a105151df758",
   "metadata": {},
   "source": [
    "**Citizen dictionary**: \n",
    "\n",
    "|Column|Value|Description|\n",
    "|---|---|---|\n",
    "|**citizen**|1|US Citizen| \n",
    "|**citizen**|2|Resident/ Legal Alien| \n",
    "|**citizen**|3|Illegal Alien| \n",
    "|**citizen**|4|Not US Citizen/ Alien Status Unknown| \n",
    "|**citizen**|5|Extradited Alien| "
   ]
  },
  {
   "cell_type": "code",
   "execution_count": null,
   "id": "8cc8ecfa-2a78-4a1f-826d-c16c4634bbc2",
   "metadata": {
    "tags": []
   },
   "outputs": [],
   "source": [
    "df18to21['citizen'] = [1 if (i == 1) else 0 for i in df18to21['citizen']]"
   ]
  },
  {
   "cell_type": "code",
   "execution_count": null,
   "id": "47388e72-e074-40ee-b30e-ad7082f6bd1f",
   "metadata": {},
   "outputs": [],
   "source": [
    "df18to21['dependents'].unique()"
   ]
  },
  {
   "cell_type": "code",
   "execution_count": null,
   "id": "34c77936-cde4-4cbf-843b-25152162c927",
   "metadata": {},
   "outputs": [],
   "source": [
    "df18to21['dependents'] = [0 if (i == 0) else 1 for i in df18to21['dependents']]"
   ]
  },
  {
   "cell_type": "code",
   "execution_count": null,
   "id": "d382b1c4-2e5f-4dab-93ea-7400413b6166",
   "metadata": {},
   "outputs": [],
   "source": [
    "df18to21['drug_type'].fillna(0)"
   ]
  },
  {
   "cell_type": "code",
   "execution_count": null,
   "id": "91f13fcc-9018-4700-8175-b6a74390194a",
   "metadata": {},
   "outputs": [],
   "source": [
    "state_dict = {0:'Maine',1:'Massachusetts',2:'New Hampshire',3:'Rhode Island',4:'Puerto Rico',5:'Connecticut',\\\n",
    "6:'New York',7:'New York',8:'New York',9:'New York',10:'Vermont',11:'Delaware',12:'New Jersey',\\\n",
    "13:'Pennsylvania',14:'Pennsylvania',15:'Pennsylvania',16:'Maryland',17:'North Carolina',18:'North Carolina',\\\n",
    "19:'North Carolina',20:'South Carolina',22:'Virginia',23:'Virginia',24:'West Virginia',25:'West Virginia',\\\n",
    "26:'Alabama',27:'Alabama',28:'Alabama',29:'Florida',30:'Florida',31:'Florida',32:'Georgia',33:'Georgia',\\\n",
    "34:'Georgia',35:'Louisiana',36:'Louisiana',37:'Mississippi',38:'Mississippi',39:'Texas',40:'Texas',41:'Texas',\\\n",
    "42:'Texas',43:'Kentucky',44:'Kentucky',45:'Michigan',46:'Michigan',47:'Ohio',48:'Ohio',49:'Tennessee',50:'Tennessee',\\\n",
    "51:'Tennessee',52:'Illinois',53:'Illinois',54:'Illinois',55:'Indiana',56:'Indiana',57:'Wisconsin',58:'Wisconsin',\\\n",
    "60:'Arkansas',61:'Arkansas',62:'Iowa',63:'Iowa',64:'Minnesota',65:'Missouri',66:'Missouri',67:'Nebraska',\\\n",
    "68:'North Dakota',69:'South Dakota',70:'Arizona',71:'California',72:'California',73:'California',74:'California',\\\n",
    "75:'Hawaii',76:'Idaho',77:'Montana',78:'Nevada',79:'Oregon',80:'Washington',81:'Washington',82:'Colorado',83:'Kansas',\\\n",
    "84:'New Mexico',85:'Oklahoma',86:'Oklahoma',87:'Oklahoma',88:'Utah',89:'Wyoming',90:'District of Columbia',91:'Virgin Islands',\\\n",
    "93:'Guam',94:'North Mariana Islands',95:'Alaska',96:'Louisiana'}\n",
    "\n",
    "df18to21['state'] = [state_dict.get(i) for i in df18to21['state']]"
   ]
  },
  {
   "cell_type": "markdown",
   "id": "15b0d085-dc9a-48bf-a7c4-bc12203462c9",
   "metadata": {},
   "source": [
    "Replace numeric district with state name"
   ]
  },
  {
   "cell_type": "code",
   "execution_count": null,
   "id": "1fbd2c85-4ef7-4f72-ad12-c45770586d8d",
   "metadata": {},
   "outputs": [],
   "source": [
    "region_dict = {'Connecticut':'Northeast', 'Maine':'Northeast', 'Massachusetts':'Northeast',\\\n",
    "'New Hampshire':'Northeast', 'Rhode Island':'Northeast', 'Vermont':'Northeast',\\\n",
    "'Delaware':'South', 'Maryland':'South', 'New Jersey':'Northeast',\\\n",
    "'New York':'Northeast', 'Pennsylvania':'Northeast','District of Columbia':'South',\\\n",
    "'Alabama':'South', 'Arkansas':'South', 'Florida':'South', 'Georgia':'South', 'Kentucky':'South',\\\n",
    "'Louisiana':'South', 'Mississippi':'South', 'Missouri':'South',\\\n",
    "'North Carolina':'South', 'South Carolina':'South', 'Tennessee':'South',\\\n",
    "'Virginia':'South', 'West Virginia':'South',\\\n",
    "'Illinois':'Midwest', 'Indiana':'Midwest', 'Iowa':'Midwest', 'Kansas':'Midwest',\\\n",
    "'Michigan':'Midwest', 'Minnesota':'Midwest', 'Nebraska':'Midwest',\\\n",
    "'North Dakota':'Midwest', 'Ohio':'Midwest', 'South Dakota':'Midwest', 'Wisconsin':'Midwest',\\\n",
    "'Arizona':'West', 'New Mexico':'West', 'Oklahoma':'South', 'Texas':'South',\\\n",
    "'Alaska':'West', 'California':'West', 'Colorado':'West', 'Hawaii':'West',\\\n",
    "'Idaho':'West', 'Montana':'West', 'Nevada':'West', 'Oregon':'West', 'Utah':'West',\\\n",
    "'Washington':'West', 'Wyoming':'West'}\n",
    "\n",
    "df18to21['region'] = [region_dict.get(i) for i in df18to21['state']]"
   ]
  },
  {
   "cell_type": "markdown",
   "id": "fbf3b748-6ff2-4fc8-9805-b751a6be9abc",
   "metadata": {},
   "source": [
    "Categorize states to respective regions and add column for analysis"
   ]
  },
  {
   "cell_type": "code",
   "execution_count": null,
   "id": "2f97d4d2-191f-4473-9b4e-b7eefde64a34",
   "metadata": {},
   "outputs": [],
   "source": [
    "df18to21 = df18to21[df18to21['region'].notnull()]"
   ]
  },
  {
   "cell_type": "code",
   "execution_count": null,
   "id": "093b9383-2e27-489e-80ed-bc27c0ed3c8a",
   "metadata": {},
   "outputs": [],
   "source": [
    "df18to21['college'] = [1 if (i == 5) or (i == 6) else 0  for i in df18to21['education']]\n",
    "df18to21.drop(columns=['education'])"
   ]
  },
  {
   "cell_type": "code",
   "execution_count": null,
   "id": "f9e1c8b4-349d-4743-9353-b1ce66879808",
   "metadata": {},
   "outputs": [],
   "source": [
    "df18to21['white'] = [1 if (i == 1) else 0  for i in df18to21['race']]"
   ]
  },
  {
   "cell_type": "code",
   "execution_count": null,
   "id": "2220da51-3ece-4c6c-9d74-881ea2dfcefb",
   "metadata": {},
   "outputs": [],
   "source": [
    "df18to21_cleaned = df18to21.copy(deep=True)"
   ]
  },
  {
   "cell_type": "code",
   "execution_count": null,
   "id": "80a9cf42-23ab-4f8e-a4cb-cf77604df6d4",
   "metadata": {},
   "outputs": [],
   "source": [
    "plt.figure(figsize=(15,15))\n",
    "sns.heatmap(df18to21_cleaned.corr(),vmin=-1, vmax= 1, annot=True, cmap='coolwarm', mask= np.triu(df18to21_cleaned.corr()));"
   ]
  },
  {
   "cell_type": "code",
   "execution_count": null,
   "id": "f27f0b4f-f36a-48a0-a448-0e3cd7df1801",
   "metadata": {},
   "outputs": [],
   "source": [
    "population18_20 = pd.read_csv('https://www2.census.gov/programs-surveys/popest/datasets/2010-2020/national/totals/nst-est2020-popchg2010-2020.csv')\n",
    "population18_20 = population18_20[['NAME', 'POPESTIMATE2018', 'POPESTIMATE2019','POPESTIMATE2020']]\n",
    "population18_20.rename(columns={'NAME': 'name', 'POPESTIMATE2018': 2018, 'POPESTIMATE2019': 2019, 'POPESTIMATE2020': 2020}, inplace=True)\n",
    "population18_20.head(2)"
   ]
  },
  {
   "cell_type": "code",
   "execution_count": null,
   "id": "ca72cfa4-d237-4d37-a6d0-b3e1cf79d9f8",
   "metadata": {},
   "outputs": [],
   "source": [
    "population21 = pd.read_csv('../data/PEPPOP2021.NST_EST2021_POP-2022-05-11T014539.csv')\n",
    "population21.drop(columns=['Estimates Base Population, April 1, 2020 (POP_BASE2020)',\n",
    "                           'Population Estimate, July 1, 2020 (POP_2020)'], inplace=True)\n",
    "population21.rename(columns={'Population Estimate, July 1, 2021 (POP_2021)': 2021, 'Geographic Area Name (NAME)': 'name'}, inplace=True)\n",
    "population21.head(2)"
   ]
  },
  {
   "cell_type": "code",
   "execution_count": null,
   "id": "7dc7a1fe-c589-48f8-a614-55cf6d156037",
   "metadata": {},
   "outputs": [],
   "source": [
    "population = pd.merge(left=population18_20, right=population21, left_on='name', right_on='name')\n",
    "population.drop([56], inplace=True)\n",
    "population.head(2)"
   ]
  },
  {
   "cell_type": "code",
   "execution_count": null,
   "id": "8c6e5490-e656-4ce0-bef6-f7d7e7cf63c6",
   "metadata": {},
   "outputs": [],
   "source": [
    "population[2021] = population[2021].str.replace(',','').astype(int)\n",
    "population.set_index('name',inplace=True)\n",
    "population['average'] = population.mean(axis=1)\n",
    "population = population.rename(index={'South Region': 'South', 'Northeast Region': 'Northeast', 'Midwest Region': 'Midwest',\n",
    "                              'West Region': 'West'})\n",
    "population.to_csv('../data/population.csv')"
   ]
  },
  {
   "cell_type": "code",
   "execution_count": null,
   "id": "28735b79-751e-4a2a-9a90-6c4df8b734fb",
   "metadata": {},
   "outputs": [],
   "source": [
    "population.head(2)"
   ]
  },
  {
   "cell_type": "code",
   "execution_count": null,
   "id": "90bef346-a64a-41be-a746-9c2fedbb2dca",
   "metadata": {},
   "outputs": [],
   "source": [
    "pop_dict = dict(zip(population.index,population['average']))\n",
    "state_count = df18to21_cleaned.groupby('state')['year_sentenced'].count().reset_index()\n",
    "state_count_dict = dict(zip(state_count['state'],state_count['year_sentenced']))\n",
    "df_pop = pd.DataFrame()\n",
    "df_pop['state'] = df18to21_cleaned['state'].unique()\n",
    "df_pop['state_count'] = [state_count_dict.get(i) for i in df_pop['state']]\n",
    "df_pop['population'] = [round(pop_dict.get(i)) for i in df_pop['state']]\n",
    "df_pop['perc_charged'] = (df_pop['state_count'] / df_pop['population'])*100\n",
    "state_percent_dict = dict(zip(df_pop['state'],df_pop['perc_charged']))\n",
    "df18to21_cleaned['perc_charged'] = [state_percent_dict.get(i) for i in df18to21['state']]"
   ]
  },
  {
   "cell_type": "markdown",
   "id": "2f4ae1f3-5b8d-4eee-b5ed-dfd096abf0f6",
   "metadata": {},
   "source": [
    "Strategy for dealing with null values: \n",
    "- 'age' - impute with mean\n",
    "- 'criminal_hist' - impute with mode\n",
    "- 'case_type' - impute with mode\n",
    "- 'gender' - impute with mode\n",
    "- 'guideline_range' - impute with 0\n",
    "- 'guideline_var_pct' - impute with 0\n",
    "- 'drug_type' - impute with 0\n",
    "- 'presentence_stat' - impute with 1"
   ]
  },
  {
   "cell_type": "code",
   "execution_count": null,
   "id": "accf4f3b-dda6-444e-b427-a4b7387dff24",
   "metadata": {},
   "outputs": [],
   "source": [
    "df['age'].fillna(df['age'].mean(), inplace=True)  \n",
    "df['criminal_hist'].fillna(df['criminal_hist'].mode()[0], inplace=True)    \n",
    "df['case_type'].fillna(df['case_type'].mode()[0], inplace=True)    \n",
    "df['gender'].fillna(df['gender'].mode()[0], inplace=True)   \n",
    "df['guideline_range'].fillna(0, inplace=True)\n",
    "df['guideline_var_pct'].fillna(0, inplace=True)\n",
    "df['drug_type'].fillna(0, inplace=True)\n",
    "df['presentence_stat'].fillna(1, inplace=True)"
   ]
  },
  {
   "cell_type": "code",
   "execution_count": null,
   "id": "5d4b11b6-5a08-4501-b741-b18ffc51b383",
   "metadata": {},
   "outputs": [],
   "source": []
  },
  {
   "cell_type": "code",
   "execution_count": null,
   "id": "87804419-e94f-442c-a691-976970aff7a2",
   "metadata": {},
   "outputs": [],
   "source": [
    "df18to21_cleaned.to_csv('../data/df18to21_cleaned.csv')"
   ]
  },
  {
   "cell_type": "code",
   "execution_count": null,
   "id": "31f92c7c-24b7-4ada-ab9b-e1a5c3a8183d",
   "metadata": {},
   "outputs": [],
   "source": [
    "df18to21_cleaned.info()"
   ]
  },
  {
   "cell_type": "code",
   "execution_count": null,
   "id": "cf8b58e3-b3f2-4bde-95c9-840047c7acb4",
   "metadata": {},
   "outputs": [],
   "source": []
  },
  {
   "cell_type": "markdown",
   "id": "250b08c1-789c-4fa8-bcbf-30f7185a224b",
   "metadata": {},
   "source": [
    "## DRUG DATA"
   ]
  },
  {
   "cell_type": "code",
   "execution_count": null,
   "id": "87253733-1025-4e5a-8007-8dca47af7044",
   "metadata": {},
   "outputs": [],
   "source": [
    "drug_df = df18to21.copy()\n",
    "drug_df.dropna(subset=['drug_type'], inplace=True)"
   ]
  },
  {
   "cell_type": "code",
   "execution_count": null,
   "id": "e2094b4e-18b9-4e6f-a82d-4222973510a7",
   "metadata": {
    "tags": []
   },
   "outputs": [],
   "source": [
    "drug_df.info()"
   ]
  },
  {
   "cell_type": "code",
   "execution_count": null,
   "id": "aca22912-9d1d-4bc8-b020-8a7888fa0c42",
   "metadata": {},
   "outputs": [],
   "source": [
    "plt.figure(figsize=(20,20))\n",
    "sns.heatmap(drug_df.corr(),vmin=-1, vmax=1, annot=True, cmap='coolwarm', mask= np.triu(drug_df.corr()));"
   ]
  },
  {
   "cell_type": "code",
   "execution_count": null,
   "id": "85ff1c40-510c-4a57-8339-047663e6749a",
   "metadata": {},
   "outputs": [],
   "source": [
    "race_drugs_df = df18to21.copy()\n",
    "race_drugs_df = race_drugs_df[['race', 'drug_type']]\n",
    "race_drugs_df['race'].unique()"
   ]
  },
  {
   "cell_type": "markdown",
   "id": "dc684961-13aa-4f0f-a335-9eec74c43124",
   "metadata": {},
   "source": [
    "Explore the populations of each racial group between 2018 and 2021 and determine what percentage each group had for drug offenses. "
   ]
  },
  {
   "cell_type": "code",
   "execution_count": null,
   "id": "639908c0-1f65-4565-88e1-396251b0cc09",
   "metadata": {},
   "outputs": [],
   "source": [
    "plt.hist(race_drugs_df['race']);"
   ]
  },
  {
   "cell_type": "code",
   "execution_count": null,
   "id": "b823bdcd-7e04-4f9d-85ea-abc0917cbaed",
   "metadata": {},
   "outputs": [],
   "source": [
    "race_imprisoned_df = df18to21.copy()\n",
    "race_imprisoned_df = race_imprisoned_df[['race', 'imprisoned']]\n",
    "race_imprisoned_df.head()"
   ]
  },
  {
   "cell_type": "code",
   "execution_count": null,
   "id": "07eef545-039e-4252-913d-574eb1f6cb94",
   "metadata": {},
   "outputs": [],
   "source": [
    "race_imprisoned_df.groupby(by='race').describe()"
   ]
  },
  {
   "cell_type": "code",
   "execution_count": null,
   "id": "0493ffca-0d28-48cb-8df4-c08ed55d774d",
   "metadata": {},
   "outputs": [],
   "source": [
    "drug_df.groupby(['race','gender']).describe()"
   ]
  },
  {
   "cell_type": "code",
   "execution_count": null,
   "id": "233a14b8-3f50-4474-ae2a-a0d11bd3d0d7",
   "metadata": {},
   "outputs": [],
   "source": [
    "drug_df.groupby(['race']).mean()[['gender']]"
   ]
  },
  {
   "cell_type": "markdown",
   "id": "c38e391e-cf06-46a5-b21a-630d7b2fcf4e",
   "metadata": {},
   "source": [
    "The percentage of women charged with drug offenses by race "
   ]
  },
  {
   "cell_type": "code",
   "execution_count": null,
   "id": "490ae1c5-15db-4d4d-a6ff-fcf91e9fce8d",
   "metadata": {},
   "outputs": [],
   "source": [
    "df18to21.groupby(['race']).mean()[['gender']]"
   ]
  },
  {
   "cell_type": "markdown",
   "id": "0b617996-8d43-4da3-b631-4a43df757b9d",
   "metadata": {},
   "source": [
    "The percentage of women charged overall by race "
   ]
  },
  {
   "cell_type": "code",
   "execution_count": null,
   "id": "055ae7bd-5a85-4bd0-9c15-a9964408c4d1",
   "metadata": {},
   "outputs": [],
   "source": [
    "df18to21.groupby(['race','education']).describe()"
   ]
  },
  {
   "cell_type": "markdown",
   "id": "95eae96c-db52-42a9-b27b-9f860d842f30",
   "metadata": {},
   "source": [
    "Visual idea: bar graph - make monrace 'binary' white vs minorities and make minority bar interactive via Tableau with multiple colors demonstrating each sub group "
   ]
  }
 ],
 "metadata": {
  "kernelspec": {
   "display_name": "Python 3 (ipykernel)",
   "language": "python",
   "name": "python3"
  },
  "language_info": {
   "codemirror_mode": {
    "name": "ipython",
    "version": 3
   },
   "file_extension": ".py",
   "mimetype": "text/x-python",
   "name": "python",
   "nbconvert_exporter": "python",
   "pygments_lexer": "ipython3",
   "version": "3.9.7"
  }
 },
 "nbformat": 4,
 "nbformat_minor": 5
}
